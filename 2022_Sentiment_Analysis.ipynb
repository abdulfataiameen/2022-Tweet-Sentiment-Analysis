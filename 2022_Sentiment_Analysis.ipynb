{
  "cells": [
    {
      "cell_type": "markdown",
      "metadata": {
        "id": "view-in-github",
        "colab_type": "text"
      },
      "source": [
        "<a href=\"https://colab.research.google.com/github/damilola2010/2022-Tweet-Sentiment-Analysis/blob/main/2022_Sentiment_Analysis.ipynb\" target=\"_parent\"><img src=\"https://colab.research.google.com/assets/colab-badge.svg\" alt=\"Open In Colab\"/></a>"
      ]
    },
    {
      "cell_type": "markdown",
      "metadata": {
        "id": "lUavi6F0ph3X"
      },
      "source": [
        "# Introduction\n",
        "\n",
        "The aim of this project was to use natural language processing techniques to conduct sentiment analysis on Twitter data. In January 2022, I wanted to gain insight into the feelings of Twitter users about the year. To complete the project, a number of Python libraries were utilized, including Pandas, Tweepy, NLTK, TextBlob, MatPlotlib, WordCloud, Emot, and Plotly. These libraries were used for tasks such as data cleaning, mining tweets, sentiment analysis, data exploration, identifying emojis, and data visualization."
      ]
    },
    {
      "cell_type": "markdown",
      "metadata": {
        "id": "iqK5IqlGp_kF"
      },
      "source": [
        "### Install Necessary Lib and Packages"
      ]
    },
    {
      "cell_type": "code",
      "execution_count": 1,
      "metadata": {
        "colab": {
          "base_uri": "https://localhost:8080/"
        },
        "id": "S_UUn9gcpe46",
        "outputId": "f9ddfbe2-6a0c-4ec8-eeb3-5957adcc0592"
      },
      "outputs": [
        {
          "output_type": "stream",
          "name": "stdout",
          "text": [
            "Looking in indexes: https://pypi.org/simple, https://us-python.pkg.dev/colab-wheels/public/simple/\n",
            "Collecting vaderSentiment\n",
            "  Downloading vaderSentiment-3.3.2-py2.py3-none-any.whl (125 kB)\n",
            "\u001b[2K     \u001b[90m━━━━━━━━━━━━━━━━━━━━━━━━━━━━━━━━━━━━━━\u001b[0m \u001b[32m126.0/126.0 KB\u001b[0m \u001b[31m11.7 MB/s\u001b[0m eta \u001b[36m0:00:00\u001b[0m\n",
            "\u001b[?25hRequirement already satisfied: requests in /usr/local/lib/python3.8/dist-packages (from vaderSentiment) (2.25.1)\n",
            "Requirement already satisfied: certifi>=2017.4.17 in /usr/local/lib/python3.8/dist-packages (from requests->vaderSentiment) (2022.12.7)\n",
            "Requirement already satisfied: idna<3,>=2.5 in /usr/local/lib/python3.8/dist-packages (from requests->vaderSentiment) (2.10)\n",
            "Requirement already satisfied: urllib3<1.27,>=1.21.1 in /usr/local/lib/python3.8/dist-packages (from requests->vaderSentiment) (1.24.3)\n",
            "Requirement already satisfied: chardet<5,>=3.0.2 in /usr/local/lib/python3.8/dist-packages (from requests->vaderSentiment) (4.0.0)\n",
            "Installing collected packages: vaderSentiment\n",
            "Successfully installed vaderSentiment-3.3.2\n"
          ]
        }
      ],
      "source": [
        "pip install vaderSentiment"
      ]
    },
    {
      "cell_type": "code",
      "execution_count": 2,
      "metadata": {
        "colab": {
          "base_uri": "https://localhost:8080/"
        },
        "id": "YjC5LPKxqb29",
        "outputId": "64574134-ca26-478c-d035-fa7bf05a9c54"
      },
      "outputs": [
        {
          "output_type": "stream",
          "name": "stderr",
          "text": [
            "[nltk_data] Downloading package stopwords to /root/nltk_data...\n",
            "[nltk_data]   Unzipping corpora/stopwords.zip.\n"
          ]
        },
        {
          "output_type": "execute_result",
          "data": {
            "text/plain": [
              "True"
            ]
          },
          "metadata": {},
          "execution_count": 2
        }
      ],
      "source": [
        "  >>> import nltk\n",
        "  >>> nltk.download('stopwords')"
      ]
    },
    {
      "cell_type": "code",
      "execution_count": 3,
      "metadata": {
        "id": "WJrvGdB8rXYN"
      },
      "outputs": [],
      "source": [
        "import tweepy\n",
        "import re\n",
        "from textblob import TextBlob\n",
        "import matplotlib.pyplot as plt"
      ]
    },
    {
      "cell_type": "code",
      "execution_count": 4,
      "metadata": {
        "id": "8uafKErmrhY0"
      },
      "outputs": [],
      "source": [
        "from vaderSentiment.vaderSentiment import SentimentIntensityAnalyzer"
      ]
    },
    {
      "cell_type": "code",
      "execution_count": 5,
      "metadata": {
        "id": "qRLjwIrjrsz5"
      },
      "outputs": [],
      "source": [
        "import csv"
      ]
    },
    {
      "cell_type": "code",
      "execution_count": 6,
      "metadata": {
        "id": "CSe-Ohbsr03_"
      },
      "outputs": [],
      "source": [
        "\n",
        "from nltk.corpus import stopwords\n",
        "from nltk.stem.porter import PorterStemmer\n"
      ]
    },
    {
      "cell_type": "code",
      "execution_count": 7,
      "metadata": {
        "id": "r7CGoKPEr_yG"
      },
      "outputs": [],
      "source": [
        "import glob # to retrieve files/pathnames matching a specified pattern. \n",
        "import random # generating random numbers\n",
        "import pandas as pd # for data manipulation and analysis\n",
        "import requests # to send HTTP requests\n",
        "from PIL import Image # for opening, manipulating, and saving many different image file f\n",
        "import numpy as np # for working with arrays and carrying out mathematical operations. Pandas is built on Numpy\n",
        "import string # Inbuilt string library"
      ]
    },
    {
      "cell_type": "markdown",
      "metadata": {
        "id": "arjxBoiesbqY"
      },
      "source": [
        "# Mining Tweets"
      ]
    },
    {
      "cell_type": "code",
      "execution_count": 8,
      "metadata": {
        "id": "BlM2O--ysZ2Q"
      },
      "outputs": [],
      "source": [
        "# Putting Twitter Api keys and Tokens\n",
        "consumer_key = \"Wqdwq2M7tkOVvY5lUTbV4feQ8\"\n",
        "consumer_secret = \"KyeJFbGYNzWxR0s5nUe97aLBSFEF17cKQ9EgSQMBu1Yz2DZp8m\"\n",
        "access_token = \"1321314967812034566-9vFJrCLeNr8sgGlOcsyk7cw71luyvu\"\n",
        "access_token_secret = \"ERbnjWJ6rumv24meh9JxrqS2j6b3XBzP6zHpaDn5V91r9\"\n"
      ]
    },
    {
      "cell_type": "code",
      "execution_count": 10,
      "metadata": {
        "id": "9uw4BfTNtyrg"
      },
      "outputs": [],
      "source": [
        "auth = tweepy.OAuthHandler(consumer_key, consumer_secret) # Pass in Consumer key and secret for authentication by API\n",
        "auth.set_access_token(access_token, access_token_secret) # Pass in Access key and secret for authentication by API\n",
        "api = tweepy.API(auth) "
      ]
    },
    {
      "cell_type": "code",
      "execution_count": 13,
      "metadata": {
        "id": "LcAQYGd8uHyH"
      },
      "outputs": [],
      "source": [
        "tweet_list = [tweet for tweet in tweepy.Cursor(api.search,\n",
        "                                q=\"2022 was a\",\n",
        "                                lang=\"en\",\n",
        "                                since_id=\"2022-12-12\",\n",
        "                                tweet_mode='extended').items(2000)]"
      ]
    },
    {
      "cell_type": "markdown",
      "source": [
        "## Processing Tweets"
      ],
      "metadata": {
        "id": "tZptqcdJQiHG"
      }
    },
    {
      "cell_type": "code",
      "source": [
        "\n",
        "# Initialize the stemmer and stop words list\n",
        "stemmer = PorterStemmer()\n",
        "stop_words = set(stopwords.words(\"english\"))\n",
        "\n",
        "# Pre-process the tweets\n",
        "processed_tweets = []\n",
        "for tweet in tweet_list:\n",
        "    # Remove special characters, URLs, and hashtags\n",
        "    text = re.sub(r'[^a-zA-Z0-9]', ' ', tweet.full_text)\n",
        "    text = re.sub(r'https?://\\S+', ' ', text)\n",
        "    text = re.sub(r'#', ' ', text)\n",
        "    \n",
        "    # Lowercase and split the text into words\n",
        "    words = text.lower().split()\n",
        "    \n",
        "    # Remove stop words and stem the remaining words\n",
        "    stemmed_words = [stemmer.stem(word) for word in words if word not in stop_words]\n",
        "    \n",
        "    # Join the stemmed words back into a single string\n",
        "    processed_tweet = ' '.join(stemmed_words)\n",
        "    \n"
      ],
      "metadata": {
        "id": "nIOcjA7LPZPE"
      },
      "execution_count": 14,
      "outputs": []
    },
    {
      "cell_type": "markdown",
      "source": [
        "## Output Processed tweets to CSV"
      ],
      "metadata": {
        "id": "8L_dBLR6QzGM"
      }
    },
    {
      "cell_type": "code",
      "source": [
        "\n",
        "\n",
        "# Open the CSV file in write mode\n",
        "with open('processed_tweets.csv', 'w', newline='', encoding='utf-8') as csv_file:\n",
        "    # Create a CSV writer object\n",
        "    writer = csv.writer(csv_file, delimiter=',')\n",
        "    \n",
        "  # Write the column names\n",
        "    writer.writerow(['tweet_id', 'created_at', 'text', 'location', 'likes'])\n",
        "    \n",
        "    # Iterate through the processed tweets and write each row to the CSV file\n",
        "    for tweet in tweet_list:\n",
        "        tweet_id = tweet.id\n",
        "        created_at = tweet.created_at\n",
        "        text = tweet.full_text\n",
        "        location = tweet.user.location\n",
        "        likes = tweet.favorite_count\n",
        "        writer.writerow([tweet_id, created_at, text, location, likes])"
      ],
      "metadata": {
        "id": "-W8wrL57QqC3"
      },
      "execution_count": 16,
      "outputs": []
    },
    {
      "cell_type": "code",
      "source": [
        "# Load the CSV file into a DataFrame\n",
        "df = pd.read_csv(\"processed_tweets.csv\")\n",
        "\n",
        "# Print the first few rows of the DataFrame\n",
        "df.head()"
      ],
      "metadata": {
        "colab": {
          "base_uri": "https://localhost:8080/",
          "height": 206
        },
        "id": "R_uUmTahQ8hs",
        "outputId": "95d5af5f-2337-4a89-cbee-4eabf7310040"
      },
      "execution_count": 17,
      "outputs": [
        {
          "output_type": "execute_result",
          "data": {
            "text/plain": [
              "              tweet_id           created_at  \\\n",
              "0  1611282681345757185  2023-01-06 08:45:02   \n",
              "1  1611282672495792128  2023-01-06 08:44:59   \n",
              "2  1611282634243559424  2023-01-06 08:44:50   \n",
              "3  1611282595433660416  2023-01-06 08:44:41   \n",
              "4  1611282592539582466  2023-01-06 08:44:40   \n",
              "\n",
              "                                                text                location  \\\n",
              "0  @yakyucosmo I know there are a lot of opinions...  誰よりも侍っぽいスティーブン・クワン激推し🏟   \n",
              "1  RT @On3sports: 🚨BREAKING🚨 Jackson State WR tra...          On The Field 🏈   \n",
              "2  RT @thenewsmovement: Morning everyone! This is...  West Midlands, England   \n",
              "3  RT @mingaya_TEEZ: just wanted to remind everyo...         They/He/She/Any   \n",
              "4  RT @thekhrc: This is a frightening crime but i...                 Nairobi   \n",
              "\n",
              "   likes  \n",
              "0      0  \n",
              "1      0  \n",
              "2      0  \n",
              "3      0  \n",
              "4      0  "
            ],
            "text/html": [
              "\n",
              "  <div id=\"df-330c4d63-baf2-4b9d-8c70-527899b86f95\">\n",
              "    <div class=\"colab-df-container\">\n",
              "      <div>\n",
              "<style scoped>\n",
              "    .dataframe tbody tr th:only-of-type {\n",
              "        vertical-align: middle;\n",
              "    }\n",
              "\n",
              "    .dataframe tbody tr th {\n",
              "        vertical-align: top;\n",
              "    }\n",
              "\n",
              "    .dataframe thead th {\n",
              "        text-align: right;\n",
              "    }\n",
              "</style>\n",
              "<table border=\"1\" class=\"dataframe\">\n",
              "  <thead>\n",
              "    <tr style=\"text-align: right;\">\n",
              "      <th></th>\n",
              "      <th>tweet_id</th>\n",
              "      <th>created_at</th>\n",
              "      <th>text</th>\n",
              "      <th>location</th>\n",
              "      <th>likes</th>\n",
              "    </tr>\n",
              "  </thead>\n",
              "  <tbody>\n",
              "    <tr>\n",
              "      <th>0</th>\n",
              "      <td>1611282681345757185</td>\n",
              "      <td>2023-01-06 08:45:02</td>\n",
              "      <td>@yakyucosmo I know there are a lot of opinions...</td>\n",
              "      <td>誰よりも侍っぽいスティーブン・クワン激推し🏟</td>\n",
              "      <td>0</td>\n",
              "    </tr>\n",
              "    <tr>\n",
              "      <th>1</th>\n",
              "      <td>1611282672495792128</td>\n",
              "      <td>2023-01-06 08:44:59</td>\n",
              "      <td>RT @On3sports: 🚨BREAKING🚨 Jackson State WR tra...</td>\n",
              "      <td>On The Field 🏈</td>\n",
              "      <td>0</td>\n",
              "    </tr>\n",
              "    <tr>\n",
              "      <th>2</th>\n",
              "      <td>1611282634243559424</td>\n",
              "      <td>2023-01-06 08:44:50</td>\n",
              "      <td>RT @thenewsmovement: Morning everyone! This is...</td>\n",
              "      <td>West Midlands, England</td>\n",
              "      <td>0</td>\n",
              "    </tr>\n",
              "    <tr>\n",
              "      <th>3</th>\n",
              "      <td>1611282595433660416</td>\n",
              "      <td>2023-01-06 08:44:41</td>\n",
              "      <td>RT @mingaya_TEEZ: just wanted to remind everyo...</td>\n",
              "      <td>They/He/She/Any</td>\n",
              "      <td>0</td>\n",
              "    </tr>\n",
              "    <tr>\n",
              "      <th>4</th>\n",
              "      <td>1611282592539582466</td>\n",
              "      <td>2023-01-06 08:44:40</td>\n",
              "      <td>RT @thekhrc: This is a frightening crime but i...</td>\n",
              "      <td>Nairobi</td>\n",
              "      <td>0</td>\n",
              "    </tr>\n",
              "  </tbody>\n",
              "</table>\n",
              "</div>\n",
              "      <button class=\"colab-df-convert\" onclick=\"convertToInteractive('df-330c4d63-baf2-4b9d-8c70-527899b86f95')\"\n",
              "              title=\"Convert this dataframe to an interactive table.\"\n",
              "              style=\"display:none;\">\n",
              "        \n",
              "  <svg xmlns=\"http://www.w3.org/2000/svg\" height=\"24px\"viewBox=\"0 0 24 24\"\n",
              "       width=\"24px\">\n",
              "    <path d=\"M0 0h24v24H0V0z\" fill=\"none\"/>\n",
              "    <path d=\"M18.56 5.44l.94 2.06.94-2.06 2.06-.94-2.06-.94-.94-2.06-.94 2.06-2.06.94zm-11 1L8.5 8.5l.94-2.06 2.06-.94-2.06-.94L8.5 2.5l-.94 2.06-2.06.94zm10 10l.94 2.06.94-2.06 2.06-.94-2.06-.94-.94-2.06-.94 2.06-2.06.94z\"/><path d=\"M17.41 7.96l-1.37-1.37c-.4-.4-.92-.59-1.43-.59-.52 0-1.04.2-1.43.59L10.3 9.45l-7.72 7.72c-.78.78-.78 2.05 0 2.83L4 21.41c.39.39.9.59 1.41.59.51 0 1.02-.2 1.41-.59l7.78-7.78 2.81-2.81c.8-.78.8-2.07 0-2.86zM5.41 20L4 18.59l7.72-7.72 1.47 1.35L5.41 20z\"/>\n",
              "  </svg>\n",
              "      </button>\n",
              "      \n",
              "  <style>\n",
              "    .colab-df-container {\n",
              "      display:flex;\n",
              "      flex-wrap:wrap;\n",
              "      gap: 12px;\n",
              "    }\n",
              "\n",
              "    .colab-df-convert {\n",
              "      background-color: #E8F0FE;\n",
              "      border: none;\n",
              "      border-radius: 50%;\n",
              "      cursor: pointer;\n",
              "      display: none;\n",
              "      fill: #1967D2;\n",
              "      height: 32px;\n",
              "      padding: 0 0 0 0;\n",
              "      width: 32px;\n",
              "    }\n",
              "\n",
              "    .colab-df-convert:hover {\n",
              "      background-color: #E2EBFA;\n",
              "      box-shadow: 0px 1px 2px rgba(60, 64, 67, 0.3), 0px 1px 3px 1px rgba(60, 64, 67, 0.15);\n",
              "      fill: #174EA6;\n",
              "    }\n",
              "\n",
              "    [theme=dark] .colab-df-convert {\n",
              "      background-color: #3B4455;\n",
              "      fill: #D2E3FC;\n",
              "    }\n",
              "\n",
              "    [theme=dark] .colab-df-convert:hover {\n",
              "      background-color: #434B5C;\n",
              "      box-shadow: 0px 1px 3px 1px rgba(0, 0, 0, 0.15);\n",
              "      filter: drop-shadow(0px 1px 2px rgba(0, 0, 0, 0.3));\n",
              "      fill: #FFFFFF;\n",
              "    }\n",
              "  </style>\n",
              "\n",
              "      <script>\n",
              "        const buttonEl =\n",
              "          document.querySelector('#df-330c4d63-baf2-4b9d-8c70-527899b86f95 button.colab-df-convert');\n",
              "        buttonEl.style.display =\n",
              "          google.colab.kernel.accessAllowed ? 'block' : 'none';\n",
              "\n",
              "        async function convertToInteractive(key) {\n",
              "          const element = document.querySelector('#df-330c4d63-baf2-4b9d-8c70-527899b86f95');\n",
              "          const dataTable =\n",
              "            await google.colab.kernel.invokeFunction('convertToInteractive',\n",
              "                                                     [key], {});\n",
              "          if (!dataTable) return;\n",
              "\n",
              "          const docLinkHtml = 'Like what you see? Visit the ' +\n",
              "            '<a target=\"_blank\" href=https://colab.research.google.com/notebooks/data_table.ipynb>data table notebook</a>'\n",
              "            + ' to learn more about interactive tables.';\n",
              "          element.innerHTML = '';\n",
              "          dataTable['output_type'] = 'display_data';\n",
              "          await google.colab.output.renderOutput(dataTable, element);\n",
              "          const docLink = document.createElement('div');\n",
              "          docLink.innerHTML = docLinkHtml;\n",
              "          element.appendChild(docLink);\n",
              "        }\n",
              "      </script>\n",
              "    </div>\n",
              "  </div>\n",
              "  "
            ]
          },
          "metadata": {},
          "execution_count": 17
        }
      ]
    },
    {
      "cell_type": "code",
      "source": [],
      "metadata": {
        "id": "ZhJcNemKRRqG"
      },
      "execution_count": null,
      "outputs": []
    },
    {
      "cell_type": "markdown",
      "source": [
        "## Exploratory Data Analysis"
      ],
      "metadata": {
        "id": "5EbxJ1jaReTV"
      }
    },
    {
      "cell_type": "code",
      "source": [
        "df.shape #Get number of rows and columns"
      ],
      "metadata": {
        "colab": {
          "base_uri": "https://localhost:8080/"
        },
        "id": "tNVBqCF8RiT-",
        "outputId": "e4c83f05-ebfb-4eb3-d29e-6c8da453b8b8"
      },
      "execution_count": 19,
      "outputs": [
        {
          "output_type": "execute_result",
          "data": {
            "text/plain": [
              "(2000, 5)"
            ]
          },
          "metadata": {},
          "execution_count": 19
        }
      ]
    },
    {
      "cell_type": "code",
      "source": [
        "df.duplicated(subset='tweet_id').sum() # Check for duplicate values"
      ],
      "metadata": {
        "colab": {
          "base_uri": "https://localhost:8080/"
        },
        "id": "Fl5bIh-HRvXw",
        "outputId": "456cdd24-b35e-43b1-f447-7e7ae7e163cd"
      },
      "execution_count": 20,
      "outputs": [
        {
          "output_type": "execute_result",
          "data": {
            "text/plain": [
              "0"
            ]
          },
          "metadata": {},
          "execution_count": 20
        }
      ]
    },
    {
      "cell_type": "code",
      "source": [
        "df.isna().any() # Check for \"NaN\" values"
      ],
      "metadata": {
        "colab": {
          "base_uri": "https://localhost:8080/"
        },
        "id": "PGEKIC0vR9TB",
        "outputId": "3d2d8a9b-5791-47a6-a06c-f0ec84702885"
      },
      "execution_count": 21,
      "outputs": [
        {
          "output_type": "execute_result",
          "data": {
            "text/plain": [
              "tweet_id      False\n",
              "created_at    False\n",
              "text          False\n",
              "location       True\n",
              "likes         False\n",
              "dtype: bool"
            ]
          },
          "metadata": {},
          "execution_count": 21
        }
      ]
    },
    {
      "cell_type": "code",
      "source": [
        "df['location']=df['location'].fillna('No location') # Replace \"NaN\" values with \"No Location\""
      ],
      "metadata": {
        "id": "JaeHG1ogSEvR"
      },
      "execution_count": 22,
      "outputs": []
    },
    {
      "cell_type": "code",
      "source": [
        "df.isna().any() # Check for \"NaN\" values"
      ],
      "metadata": {
        "colab": {
          "base_uri": "https://localhost:8080/"
        },
        "id": "c8rSAd6uSRjN",
        "outputId": "a55e1e2a-8da8-4fed-d21d-c41d4c720716"
      },
      "execution_count": 23,
      "outputs": [
        {
          "output_type": "execute_result",
          "data": {
            "text/plain": [
              "tweet_id      False\n",
              "created_at    False\n",
              "text          False\n",
              "location      False\n",
              "likes         False\n",
              "dtype: bool"
            ]
          },
          "metadata": {},
          "execution_count": 23
        }
      ]
    },
    {
      "cell_type": "code",
      "source": [
        "import plotly.express as px\n",
        "\n",
        "# Group the DataFrame by location and count the number of tweets for each location\n",
        "location_counts = df.groupby(\"location\").size().reset_index(name=\"count\")\n",
        "\n",
        "# Creating a choropleth map showing the number of tweets per location\n",
        "fig = px.choropleth(location_counts, \n",
        "                    locations=\"location\", \n",
        "                    color=\"count\",\n",
        "                    title=\"Number of Tweets per Location\",\n",
        "                    color_continuous_scale=px.colors.sequential.Plasma)\n",
        "fig.show()\n"
      ],
      "metadata": {
        "colab": {
          "base_uri": "https://localhost:8080/",
          "height": 542
        },
        "id": "HRFR81ZySVrA",
        "outputId": "24a11c38-199e-492e-81c4-0c0e47626762"
      },
      "execution_count": 24,
      "outputs": [
        {
          "output_type": "display_data",
          "data": {
            "text/html": [
              "<html>\n",
              "<head><meta charset=\"utf-8\" /></head>\n",
              "<body>\n",
              "    <div>            <script src=\"https://cdnjs.cloudflare.com/ajax/libs/mathjax/2.7.5/MathJax.js?config=TeX-AMS-MML_SVG\"></script><script type=\"text/javascript\">if (window.MathJax) {MathJax.Hub.Config({SVG: {font: \"STIX-Web\"}});}</script>                <script type=\"text/javascript\">window.PlotlyConfig = {MathJaxConfig: 'local'};</script>\n",
              "        <script src=\"https://cdn.plot.ly/plotly-2.8.3.min.js\"></script>                <div id=\"1c330ddc-e071-4299-856a-c102bee515a8\" class=\"plotly-graph-div\" style=\"height:525px; width:100%;\"></div>            <script type=\"text/javascript\">                                    window.PLOTLYENV=window.PLOTLYENV || {};                                    if (document.getElementById(\"1c330ddc-e071-4299-856a-c102bee515a8\")) {                    Plotly.newPlot(                        \"1c330ddc-e071-4299-856a-c102bee515a8\",                        [{\"coloraxis\":\"coloraxis\",\"geo\":\"geo\",\"hovertemplate\":\"location=%{location}<br>count=%{z}<extra></extra>\",\"locations\":[\"\\n     totally nondating.\\n     contains a little bit of \\ud835\\ude43\\ud835\\ude56\\ud835\\ude67\\ud835\\ude68\\ud835\\ude5d\\ud835\\ude6c\\ud835\\ude64\\ud835\\ude67\\ud835\\ude59\\n\",\"\\nPart Of, \\n#\\ud835\\udc01\\ud835\\udc00\\ud835\\udc03\\ud835\\udc00\\ud835\\udc0c  TheM  \\u1d1b\\u1d0b\\u0299   Bagja \\nBlekboys      404      Watados \\nEL KARTIKA of  The Prediksi \\n\",\"\\nras. riguel\\n#1 ras devotee\\nli\",\"\\n\\u034f\\u034f\\u034f\\u034f\\u034f\\u034f\\u00a0\\u00a0\\u00a0\\u00a0\\u00a0\\u00a0my husband @markleegs's\\n\\ud83c\\udfe0 idiotologie, fsgank, sechan, schr\\u00f6der\\n      fams \\n\\n\\u2800\",\"\\n\\u2765\\ufe0ewritten by a fan, 1994.\\n\\u2765\\ufe0e po : JSJCHU,anadia.\\n\",\"\\n\\u2800\\u2800\\ud80c\\udc8b \\u08ea\\u02d6   \\uc788\\uc9c0 \\u2500\\u2500 \\uc2e0\\uc720\\ub098 \\u2800\\ufe34\\ud835\\udd3d\\ud835\\udd52\\ud835\\udd66\\ud835\\udd69\\uff0c2003  \\ud80c\\uddec \\u08ea\\n\\u2800\\u2800\\u2800\\u2800 \\u2800\\u0fd9\\u20db\\u035c\\u0fda\\u20db\\u0fd9\\u20db\\u035c\\u0fda\\u20db \\u0b68\\u0b67 \\u0fd9\\u20db\\u035c\\u0fda\\u20db\\u0fd9\\u20db\\u035c\\u0fda\\u20db \\u0b68\\u0b67 \\u0fd9\\u20db\\u035c\\u0fda\\u20db\\u0fd9\\u20db\\u035c\\u0fda\\u20db \\u0b68\\u0b67 \\u0fd9\\u20db\\u035c\\u0fda\\u20db\\u0fd9\\u20db\\u035c\\u0fda\\u20db\\n\\u2800\\u2800\\u2800\\u2800  Queen Odette of Maharatu \\u0ed1 Bayik\\n\",\" \",\"  \\u65e5\\u672c\\u3000Japan\\u3000Jap\\u00f3n\\u3000 \\u042f\\u043f\\u043e\\u043d\\u0438\\u044f\\u3000\\uc77c\\ubcf8\",\" 'Earn $Data here \\ud83d\\udc49'\",\" Aotearoa New Zealand\",\" God's Own Country\",\" India\",\" MI\",\" N. Ca.  Mountain.\",\" Nigeria\",\" Pakistan\",\" South Africa\",\" btspopper\",\" \\ud83c\\uddf2\\ud83c\\uddfe | 30 | she/they\",\"#LOL\",\"(+62)\",\"(here since 2012)\",\"(\\uae30\\ud604) (\\uc6d0\\uc9c4) (\\uc0ac\\ubb34\\uc5d8)\",\"):)\",\".--. .- --\",\"....\",\".ke\",\"00l\",\"02' liner. she/her. \",\"02\\uc988 she/her\",\"12.078289,-68.879413\",\"127.0.0.1\",\"18 yo\",\"18 | she/her\",\"19\",\"19 \\u2022 she/any prns\",\"19, she/her, PH\",\"20+\",\"20+ she/her \\u2014 fan & writing account.\\nworks on pinned .\\u141f oc & ships \\ud83d\\udcc2\\n23.1317\\u00b0 N, 113.2663\\u00b0 E\",\"20th\",\"21 | she/her | ateez\",\"21 \\u2022 she/they\",\"22 yr/o \\u264d any pronouns\",\"22 \\u25aa\\ufe0fNavajo\\u25aa\\ufe0fshe/her\",\"23 - He/Him\",\"23 \\u2728\",\"23, Sausage Lane, The Universe\",\"27/07/87, Surrey, England.\",\"35\\u00b041\\u203222.22\\u2033N 139\\u00b041\\u203230.12\\u2033E\",\"96\\uc988\",\"97'\",\"99\\uc988\\ud83c\\uddee\\ud83c\\udde9\",\"Aberdeen\",\"Abia, Aba, Biafra.\",\"Abu Dhabi\",\"Abuja\",\"Abuja, Nigeria\",\"Abundance\",\"Accra, Ghana\",\"Adelaide Sth Australia\",\"Adelaide, Australia\",\"Africa\",\"Ahmedabad\",\"Akwa Ibom, Nigeria\",\"Alba\",\"Alicante, Espa\\u00f1a\\ud83c\\uddea\\ud83c\\uddf8\\ud83c\\udff3\\ufe0f\\u200d\\ud83c\\udf08\",\"Amazon Lilyon\",\"America\",\"America \\ud83d\\udc26\",\"Amersfoort\",\"Amersham, Buckinghamshire\",\"Amwythig\",\"An exchange near you!\",\"Anambra, Nigeria\",\"Anerley, Croydon\",\"Anti Romantic.\",\"Any where\",\"Aotearoa 1010\",\"Asia\",\"At a Racetrack\",\"At the left \",\"Atlanta, GA\",\"Austin, TX\",\"Australia\",\"Australia July 2014\",\"Australia-wide city, rural\",\"Autzen Stadium\",\"BACKYARDIGAN\",\"BRONXLYN\",\"Balasore\",\"Bandung, Jawa Barat\",\"Bangalore\",\"Bangkok, Thailand\",\"Bangladesh\",\"Barnsley, England\",\"Bat Country\",\"Batu Buruk, Terengganu\",\"Bayern, Deutschland\",\"Beirut / Athens\",\"Belfast, Northern Ireland\",\"Bengaluru, India\",\"Bengaluru,\\u0c95\\u0cb0\\u0ccd\\u0ca8\\u0cbe\\u0c9f\\u0c95,Bharatha\",\"Benue, Nigeria\",\"Berlin\",\"Berlin, Germany\",\"Berne, Suisse\",\"Between Canada & Mexico\",\"Bharat\",\"Bharat Union of States \\ud83c\\uddee\\ud83c\\uddf3\",\"Biafra\",\"Biafra land\",\"Bibiani, Ghana\",\"Big Muz Blvd.\",\"Birmingham, AL\",\"Birmingham, England\",\"Black hole\",\"Bonn, Allemagne\",\"Bornholm, Denmark\",\"Boston, MA\",\"Brackenfell, South Africa\",\"Bradford, England\",\"Brighton\",\"Brighton & Worthing\",\"Brisbane\",\"Bristol\",\"Bristol, England\",\"British Columbia, Canada\",\"Bromsgrove, England\",\"Bucharest, Romania\",\"Buckinghamshire, England\",\"Buffalo, NY\",\"Bulawayo, Zimbabwe\",\"Bunurong Land\",\"BwiKwe Forever\",\"California\",\"California, USA\",\"Cambridge, Cambridgeshire, UK\",\"Cambridge, UK\",\"Cambridgeshire\",\"Canada\",\"Cape Town South Africa\",\"Cape Town, South Africa\",\"Carat \\u2764\\ufe0f The B\",\"Caratland\",\"Cardiff, Wales\",\"Castelfidardo, Marche\",\"Cebu, Philippines \",\"Cemetery \",\"Centurion, South Africa\",\"Check out my blog \\ud83d\\udc49\",\"Chesterfield \",\"Chicago, IL\",\"Chillin out at the beach \",\"Chittoor, AndhraPradesh\",\"Citizen of the World\",\"Connecticut, USA\",\"Coolaney\",\"Copenhagen\",\"Copenhagen, Denmark \\ud83c\\udde9\\ud83c\\uddf0\",\"Cork, Ireland/Belfast NI\",\"Cornwall\",\"Courtland, MS\",\"Croydon, Vic AU\",\"Crypto\",\"Crypto \\ud83d\\udd74\\ud83c\\udffc Programming\",\"Cuenca, Ecuador\",\"Cumbria, UK\",\"DBM/TRIBE/SND/TURNER\",\"DKI Jakarta, Indonesia\",\"Daegu, Republic of Korea\",\"Degaf, my everlasting. \",\"Delhi\",\"Delhi Kolkata \",\"Deutschland\",\"Devon, UK\",\"Dhaka\",\"Different places\",\"Dirty south\",\"Discord ID: RasetsuT#5064\",\"Dubai, UAE\",\"Dublin\",\"Dublin \",\"Dublin, Wicklow\",\"Dungung\",\"Durban, South Africa\",\"Durban,South Africa\",\"Durham & Hartlepool, England \",\"Durham, NC\",\"Duwamish Land\",\"Earth\",\"Earth- Talo\",\"Earth-616\",\"Earth-617\",\"Earth-838\",\"Earth-World\",\"East Harlem, Manhattan\",\"East London, South Africa\",\"East Sussex, UK\",\"Eberswalde, Germany\",\"Edinburgh, Scotland\",\"England\",\"England, United Kingdom\",\"Enron Mush's Head Rent Free\",\"Esperance WA Australia\",\"Estado de M\\u00e9xico\",\"Estonia\",\"Europa\",\"Everywhere\",\"Everywhere Normal 999\",\"Everywhere.\",\"Exile\",\"Existing\",\"FA\",\"FR/EN/ESP\",\"Fayetteville, AR\",\"Federal Capital Territory, Nig\",\"Fi mi sile\",\"Finland\",\"Firenze\",\"Floating\",\"Florida\",\"Florida, USA\",\"France\",\"Fremantle, Perth (WA)\",\"GAUTENG\",\"Gadigal Country, Eora Nation \",\"Gallifrey\",\"Gateshead\",\"Gauteng\",\"Geneva, Switzerland\",\"Gensokyo\",\"Germany\",\"Ghana,West Africa\",\"Gillbert, AZ\",\"Global\",\"Global \",\"Goa, India\",\"Goblin Town\",\"Goodwood\",\"Gotchiverse\",\"Greater Accra, Ghana\",\"Greater Manchester\",\"Greater Noida, India\",\"Greenstone Hill, south africa\",\"Guanajuato, M\\u00e9xico\",\"Gujarat, India\",\"HQ: Houston, Texas\",\"Happydale\",\"Harrisonburg, Virgina\",\"Hawaii\",\"Hazeldene \",\"Heaven\",\"Heaven's Blvd\",\"Heaven\\u2018s Cloud\",\"Hell\",\"Hello World\",\"Help Animals In Need At \",\"Helsinki\",\"Here and Now\",\"Hertfordshire \",\"Highland Falls, NY\",\"Home\",\"Hong Kong\",\"HongJoong's chaotic lil' heart\",\"Houston, TX\",\"Huihui \",\"Husum, Deutschland\",\"Hyderabad, India\",\"I come from the land Downunder\",\"INDIA\",\"ISFJ-T\",\"Ibadan, Nigeria\",\"Ijebu-Ode, Nigeria\",\"In Your Mind Now\",\"In between I.N and Hyunjin\",\"In my Steampunk Tower.\",\"In my bag\",\"India\",\"India \",\"India - of Gandhi/Nehru/Azad\",\"India \\ud83c\\uddee\\ud83c\\uddf3\",\"India, Delhi\",\"India\\ud83c\\uddee\\ud83c\\uddf3\",\"Indonesia\",\"Interdimensional Cable\",\"Ireland\",\"Irvine, CA\",\"Islamabad, Pakistan\",\"Italia\",\"Italy\",\"Iten, Kenya\",\"JENAT\",\"JK'S HEART \\u2764\\ufe0f\",\"Jabalpur, India\",\"Jamaica\",\"Jammu\",\"Japan\",\"Jayapura, West Papua\",\"Johanessburg \",\"Johannesburg\",\"Johannesburg, South Africa\",\"Johannesburg/Polokwane\",\"Jonkoping, Sweden, Tellus\",\"Juja\",\"Jungkook's Universe \",\"KL Malaysia\",\"Kabul, Istanbul, Virginia \",\"Kaduna, Nigeria\",\"Kagiso, South Africa\",\"Kali Yuga\",\"Kalos Region\",\"Kampala, Uganda\",\"Kano Nigeria\",\"Kano, Nigeria\",\"Karl@social.dev-wiki.de\",\"Kecoughtan & Kiskiack Lands\",\"Kempton Park\",\"Kenora, Ontario, Canada\",\"Kenya\",\"Khoi and San Land\",\"Kolkata, India\",\"Kolkata/New Delhi/Chennai\",\"Kontich\",\"Korea\",\"Kuala Lumpur\",\"Kuala Lumpur Federal Territory\",\"Kuala Lumpur/Dhaka\",\"Kualalala Lumpur\",\"Kutn\\u00e1 Hora, \\u010cesk\\u00e1 republika\",\"Kyiv\",\"Kyiv, Ukraine\",\"Kyoto\",\"Kyrgyz Republic\",\"K\\u00f8benhavn, Danmark\",\"LA & NYC | nondating.\",\"LA county, California\",\"Lagos\",\"Lagos Nigeria \",\"Lagos, Nigeria\",\"Lagos, Nigeria \",\"Lagos, Nigeria.\",\"Lahore & Istanbul\",\"Lahore.Pakistan\",\"Lake Havasu City, Az. 86403\",\"Lakewood, CA\",\"Land of the free \\ud83e\\udd1e\",\"Langemark-Poelkapelle, Belgi\\u00eb\",\"Langley by way of the Smokies\",\"Las Espadas\",\"Lee NH \",\"Leh\",\"Leicestershire\",\"Limerick, Ireland\",\"Linz, Austria \",\"Lisbon, Portugal\",\"Liverpool\",\"Living in Dreamland\",\"Living in my own world\",\"Ljubljana, Slovenia\",\"London\",\"London, England\",\"London, Europe\",\"London, GB\",\"London, Manchester\",\"London, SE England, Midlands\",\"London\\u2194\\ufe0fEssex\",\"Long Beach, CA\",\"Long Island NY \",\"Los Angeles\",\"Los Angeles, CA\",\"Los Angeles, CA / PH \",\"Louisville, KY\",\"Lucknow,india\",\"Lyndhurst, OH\",\"MASSY\",\"METAVERSE\\ud83c\\udf0d\",\"MN, USA \\ud83c\\uddfa\\ud83c\\uddf8\",\"MZANTSI\",\"Mad In Japan\",\"Mahlamba Ndlopfu \\ud83c\\uddff\\ud83c\\udde6\\ud83c\\uddf7\\ud83c\\uddfa\",\"Maidstone, Kent UK\",\"Makati City\",\"Malaysia\",\"Maldives bitches \\ud83d\\ude08\",\"Manchester, England\",\"Manhattan, NY\",\"Manila\",\"Manila, Philippines\",\"Manitoba, Canada\",\"MarchenaFirenzeNewportDublin\",\"Mars\",\"Massachusetts\",\"Massachusetts, USA\",\"Mature Area!!\\ud835\\udde2\\ud835\\uddf9\\ud835\\ude06\\ud835\\uddfa\\ud835\\uddfd\\ud835\\uddf6\\ud835\\uddee\\ud835\\uddfb\",\"Mbarara, Uganda\",\"Melbourne\",\"Melbourne, Australia.\",\"Melbourne, Victoria\",\"Merf Island\",\"Metaverse\",\"Metaverse\\ud83e\\udd77\\ud83c\\udffb\",\"Miami, FL\",\"Michigan, USA\",\"Midlands\",\"Milano, Lombardia\",\"Minnesota\",\"Minnesota, USA\",\"Minsk\",\"Mississippi, USA\",\"Mitakihara 639.5-B\",\"Moletji'a'Nhloma ga'ntswitswi\",\"Mombasa, Kenya\",\"Montreal\",\"Montr\\u00e9al, Qu\\u00e9bec\",\"Moon\",\"Morocco\",\"Mountain View, CA\",\"Mountlake Terrace, WA\",\"Mpumalanga, South Africa\",\"Mumbai\",\"Mumbai, India\",\"Munich, Bavaria\",\"Mushin, London, Florida.\",\"My other half Heize \\u2661\",\"NEPA,USA\",\"NFT HOME\",\"NL\",\"NSA.\",\"NSA. Selfol.\",\"NSAFW. DAGIM \\ud835\\udd6d\\ud835\\udc0e\\ud835\\udc18\\ud835\\udc06\\ud835\\udc04\\ud835\\udc0d \",\"NSFW 21+ ft SUB\",\"NYC/LON\",\"Nairobi\",\"Nairobi, Kenya\",\"Nantes en Bretagne.fr - BZH\",\"National Capital Region\",\"Nederland\",\"Netherlands\",\"Nevada, USA\",\"New Delhi\",\"New York\",\"New York City\",\"New York, NY\",\"New York, USA\",\"New Zealand\",\"Newham\",\"Ngunnawal, Ken Behren\",\"Nigeria\",\"No location\",\"Noblesville, IN\",\"Norge\",\"North Carolina, USA\",\"North East, England\",\"North Pole\",\"North West, England\",\"Northern Beaches of Sydney \",\"Northern California\",\"Northern Mariana Islands\",\"Northern Mindanao, Republic of\",\"Northwest Wisconsin\",\"Nowhere\",\"Nyeri, Nairobi, Africa, World\",\"OUTSIDE OF THE WHITE HOUSE\",\"Oak Bay, BC\",\"Oceania \",\"Ogun, Nigeria\",\"Ohio, USA\",\"Oke Okun\\ud83d\\ude0b\",\"Oldham, England\",\"Omunya Uganda\",\"On The Field \\ud83c\\udfc8\",\"Oregon, USA\",\"Orsay, France\",\"Outside my comfort zone \",\"Pakistan\",\"Palm Bay, FL\",\"Papamoa, Aotearoa/NZ \\ud83c\\uddf3\\ud83c\\uddff\",\"Paradise\",\"Paris, France\",\"Paris\\u2192\\u6771\\u4eac\\u2192Paris\",\"Pathsala, Bajali, Assam\",\"Pati, Indonesia\",\"Patiala, India\",\"Penang, Malaysia\",\"Pennsylvania, USA\",\"Perugia (Italia)\",\"Peterborough\",\"Philippines\",\"Philippines \\ud83c\\uddf5\\ud83c\\udded \",\"Phoenix, AZ\",\"Pietermaritzburg\",\"Pittsburgh, PA via Buffalo, NY\",\"Planet \",\"Planet Earth\",\"Poland \\ud83c\\uddf5\\ud83c\\uddf1\",\"Polokwane, South Africa\",\"Polska, Mazowsze\",\"Port Harcourt\",\"Port Harcourt, Nigeria\",\"Port Harcourt, Rivers State \",\"Portland\",\"Portland on the Left Coast\",\"Portland, OR\",\"Portland, Oregon\",\"Porto, Portugal\",\"Portsmouth\",\"Prabhas Land\",\"Prague, Czech Republic\",\"Prestwick, Scotland\",\"Pretoria\",\"Pretoria, South Africa\",\"Privileged to be on Yaegl land\",\"Pta/soweto\",\"Pune\",\"Pune Maharashtra\",\"Pune, India\",\"PupsVerse\",\"Qatar \",\"Quezon City\",\"Raghunath pur, Cuttack \",\"Rajasthan, India\",\"Rawalpindi \",\"Reivilo\",\"Remote\",\"Rennes, France\",\"Republic Of Uganda \\ud83c\\uddfa\\ud83c\\uddec\",\"Republic of Korea\",\"Republic of the Philippines\",\"Rich \\ud83c\\udfe6\\ud83d\\udcb5\\ud83d\\udcb0\\ud83e\\udd2b\",\"Richmond, London\",\"Richmond, North Yorkshire\",\"Romania\",\"Rom\\u00e2nia\",\"Rosales, Ilocos Region  \",\"Royaume du Maroc\",\"Ruharo Rd, Mbarara, Uganda\",\"Rustenburg, South Africa\",\"Rustenburg....cashan\",\"Rwanda\",\"Rwanda \",\"Rwanda Nyamirambo\",\"SEVENTEEN \\ud83e\\udd55 CARATLAND \",\"SND\",\"Sacramento, CA\",\"Saint-Mathieu-de-Tr\\u00e9viers, Fra\",\"Saint-Petersburg\",\"Salzburg, Austria\",\"San Antonio, TX\",\"San Diego, CA\",\"San Francisco Bay Area\",\"San Francisco to anywhere \",\"San Francisco, CA\",\"Santa Rosa, CA\",\"Scotland\",\"Scotland /Alba\",\"Scotland \\u26f0\\ufe0f\",\"Seattle Washington\",\"Seattle, WA\",\"Sebokeng, South Africa\",\"Seoul\",\"Seoul, Korea\",\"Seoul, Republic of Korea\",\"Sergey, Suisse\",\"Setia Alam, Selangor\",\"She / Them / Bisexual ~ 21\",\"She/Her black \",\"She/Her\\u2022minors dnf \\u202220\\u2022 muslim\",\"She/her | 99 \",\"Sheffield, UK\",\"Shenzhen\",\"Shenzhen, China\",\"ShitholeImmigrant \",\"Sihai, Tianxia \\u2744\",\"Silent Hill\",\"Singapore\",\"Sinnoh\",\"Skynet\",\"Slovenija\",\"SoCAL\",\"Social Media Influencer \",\"Sol System\",\"Solana Beach, CA\",\"Solid DB\",\"Somalia\",\"Somerset\",\"Somewhere in India\",\"Somewhere making magic\",\"Somewhere on telegram\",\"Sopore , Kashmir \",\"South Africa\",\"South Africa (Azania)\",\"South Africa, Jhb\",\"South Antrim, NI, UK\",\"South East, England\",\"South Korea \",\"South West, England\",\"South West, Plymouth\",\"South of the Equator.\",\"Srinagar J&K\",\"St Helens\",\"Stamford Bridge\",\"Stanford, California\",\"Stockholm, Sweden\",\"Strictly Non - Dating.\",\"Succinct \",\"Suffolk\",\"Suffolk UK\",\"Sundowner. Matatiele.\",\"Sunyani, Ghana\",\"Surat, India\",\"Surrey, United Kingdom\",\"Sustein Ltd., UK, Singapore\",\"Sweden\",\"Sycamore, IL\",\"Sydney\",\"Sydney, NSW, Australia.\",\"Sydney, New South Wales\",\"TBD\",\"TEAM SVT\",\"TOLPED MARPOS \",\"Taipei / SF / earth\",\"Take me to 40k please \",\"Telhara, India\",\"Tema, C22\",\"Tems\\u2019 kitchen sink \",\"Tenn-A-Kee\",\"Texas, USA, World, Universe\",\"Thailand\",\"That Red Dirt \\ud83c\\uddfa\\ud83c\\uddf8 \",\"The 503 probably\",\"The Basement\",\"The Cloudz\",\"The Come Up\",\"The Earth\",\"The Internet \",\"The Irish Times\",\"The Metaverse\",\"The Netherlands\",\"The Otherside\",\"The Streets\",\"The West \",\"The black hole \\ud83d\\udda4\\ud83d\\udd73\",\"The eye of Terror (Sweden)\",\"The other room\",\"Thessaloniki, Greece\",\"They/He/She/Any\",\"They/them 19\",\"Tigray\",\"Timisoara, Romania\",\"Tiny Town\",\"Tisfun sasanian empire\",\"Toronto\",\"Toronto, Ontario\",\"Totnes, Devon, UK\",\"Tralfamadore\",\"Trichy\",\"True North Strong & Free\",\"Trying optomism for the future\",\"Tupelo, MS\",\"Turan\",\"Twitter street, Abuja, Edo\",\"T\\u00fcrkiye\",\"U.S.A.\",\"UK\",\"UK and USA\",\"US | Canada | Asia | Fiji \",\"US, UK, UAE, India\",\"US: 45.503139,-122.428364\",\"USA\",\"Uganda\",\"Uhuru's Territory \",\"Ukraine\",\"Under the Sun\",\"United  States \",\"United Arab Emirates\",\"United Biafra \",\"United Kingdom\",\"United States\",\"Universe \",\"Unknown\",\"Urahara shop\",\"Uruguay, Salto.\",\"Usmanpura, Ahmadabad City\",\"Usually underwater\",\"Utopian Eden\",\"Uttar Pradesh, India\",\"Valencia, Comunidad Valenciana\",\"Vallejo, CA\",\"Vancouver, BC\",\"Vermont, USA\",\"Vietnam\",\"Vilseck, Deutschland\",\"Virginia, USA\",\"Voicy\\u30d1\\u30fc\\u30bd\\u30ca\\u30ea\\u30c6\\u30a3\\u5fdc\\u52df\\u4e2d\\uff01\",\"Vosloorus\",\"WA\",\"Wageningen \",\"Wagmiroad, Wagmitown, OM\",\"Wakefield UK\",\"Wales, United Kingdom\",\"Washington DC\",\"Waterloo, Ontario Canada\",\"Watford, England\",\"Web3\",\"West Bengal, India\",\"West Bengal, India \\ud83c\\uddee\\ud83c\\uddf3\",\"West Coast\",\"West Midlands, England\",\"West Vancouver, British Columbia\",\"Western Australia\",\"Westfall County, UK\",\"Westminster, SC\",\"Where God's love placed me \",\"Windhoek\",\"Wooditchup Noongar Booja Lands\",\"World\",\"World \\ud83c\\udf0e\",\"Worldwide \",\"Wrexham\",\"Written by a fan.\",\"XRPL\",\"XYZ Headquarters \",\"Yarnslanding\",\"YeJu's Heart\",\"Yokohama Japan (full-time) I\",\"Yoon Jeonghan\",\"Yorkshire and The Humber\",\"Yorkshire and The Humber, Engl\",\"YouTube\",\"Your heart\",\"Your mums room\",\"Zimbabwe\",\"Zurich, Switzerland\",\"a place called home\",\"any prns | multi | fluid \",\"at peace irl\",\"beacon hills \",\"bp svt\",\"caratland\",\"caratland \",\"caratland \\ud83c\\uddf2\\ud83c\\uddfe\",\"cilacap\",\"cl\",\"csc \\u2022 svt \\u2022 khj \\u2022 pja \\u2022 hsb\",\"dnf\",\"dunkin donut land\",\"earth\",\"exzidia\",\"gauteng\",\"goblin town\",\"good ol' golden state. \\u2131\\u2134\\u2113\\u2113\\u2134\\u03c9!\",\"he/they | minor \\u203c\\ufe0f\",\"hell \\u00bf\",\"hilton \",\"hope world\",\"hotel diablo, he/they, 18\",\"how do i stop thinking abt taekook & focus in my life ?\",\"humanity \",\"ikon \\ud83e\\udef6\\ud83c\\udffc hanbin\",\"im-sorry-did-i-make-u-ANXIOUS \",\"in my heart\",\"in the flames....\",\"inatiny\",\"ipoh perak \\ud83c\\uddf2\\ud83c\\uddfe\",\"isfp-t ; \\ud83c\\uddf5\\ud83c\\udded\",\"japan\",\"jeongcheolwonboo\",\"jk's euphoria\",\"johannesburg\",\"junhui's happiness\",\"just simp for minata \",\"kampala, Entebbe, Uganda\",\"kenya\",\"kuala lumpur malaysia\",\"look how fast I'm goin'\",\"malaysia\",\"multiverse\",\"muntinlupa city\",\"ncr\",\"nct\",\"off the grid\",\"on a cliff or tor, Cornwall,UK\",\"on day6 and tnx music\",\"over it\",\"part of \\u2022AZTEC\\u2022\\n\\nTrioKwekKwek\\ud83d\\udc23 @dirutn @renjvne \\ud83d\\udc23\\nTrio Ubur - Ubur \\ud83d\\udc19 @dirutn @karinjayoo\\ud83d\\udc19\\n\\n                            \\u2022harshword\\u2022\\u273f\\n\\nts as TY\",\"personal account, rt heavy\",\"ph\",\"planetEarth\",\"plebs worldwide\",\"probs nappin\",\"pune\",\"redworkersunion@todon.eu\",\"s/her ; #selective \\u272ercbyf\",\"seattle\",\"seattle... detroit\",\"selfoll nsfw\",\"she\",\"she / her \",\"she her\",\"she her 18\",\"she/her\",\"she/her - ale lovebot \\u2661\",\"she/her 20\",\"she/her 23\",\"she/her 24 | btsvt \\u273f\",\"she/her :: \\ud83c\\uddf8\\ud83c\\uddec\",\"she/her infj\",\"she/her | '01z | +63\",\"she/her | selective\",\"she/her \\u202219\\u2022\",\"she/her \\u2e1d\\u2e1d 18+\",\"she/her/any \\ud83c\\uddf5\\ud83c\\udded-14 dni \",\"she/her/multi\",\"she/her|'04 | MY\",\"she/they\",\"she/they \\u2022 01 \\u2022 INFJ\",\"she/they \\ud83c\\udff3\\ufe0f\\u200d\\u26a7\\ufe0f\",\"singapore\",\"sleeping \",\"smg (song mingi)\",\"snd\\ud83c\\udf3b::  \\u0b68 Model & Actress. \\u0b67\",\"somewhere on earth\",\"somewhere on planet Earth.\",\"somewhere.\",\"south west \",\"svt.trsr.gcnd.sf9.exo.the rose\",\"take me to 20k\\ud83d\\ude4f\\ud83d\\ude2d\",\"td oc | art credit in link:\",\"team@plutus-staking.com\",\"texas\",\"timbuktu\",\"tinytown\",\"to the moon\\ud83d\\ude80\",\"u sounds like a song.\\n( \\ud83e\\udd8b )                                \",\"under these bitches skin\",\"urmia\",\"venus\",\"verified\",\"vocal team\",\"web3\",\"where i no know. \",\"white, she/her/they, 28. bi.\",\"world\",\"zimbabwe\",\"~/home/pi/r @ Rasberry Pi 4 \",\"~\\ud83e\\udd0d\\ud83d\\udc96\\ud83d\\udc93\\ud83d\\udc95\\ud83d\\udc9c~\",\"\\u00dcT: -26.233885,27.946507\",\"\\u00dcT: 6.6068857,3.321811\",\"\\u0130stanbul, T\\u00fcrkiye\",\"\\u0410\\u043b\\u043c\\u0430-\\u0410\\u0442\\u0430\",\"\\u0411\\u0435\\u043b\\u0430\\u0440\\u0443\\u0441\\u044c\",\"\\u041a\\u0430\\u043b\\u0438\\u043d\\u0438\\u043d\\u0433\\u0440\\u0430\\u0434\\u0441\\u043a\\u0430\\u044f \\u043e\\u0431\\u043b.,\\u0433.\\u0421\\u043e\\u0432\\u0435\\u0442\\u0441\\u043a\",\"\\u0423\\u043a\\u0440\\u0430\\u0457\\u043d\\u0430\",\"\\u05b4\\u05b6\\u05b8\\u2b52 \\ud835\\uddf1\\ud835\\uddee\\ud835\\uddf6\\ud835\\uddf9\\ud835\\uddf2\\ud835\\uddf2\\ud835\\uddf2\\u3161\\uc544\\uae30 \\ud83d\\udc07\\ud83d\\udcad \\ud83c\\udd68\\ud83c\\udd5e\\ud83c\\udd5f\\ud83c\\udd50\\ud83c\\udd5d \\u0f0a \\ud835\\udd65\\ud835\\udd59\\ud835\\udd56 \\ud835\\udd52\\ud835\\udd55\\ud835\\udd60\\ud835\\udd63\\ud835\\udd52\\ud835\\udd53\\ud835\\udd5d\\ud835\\udd56 \\ud835\\udd53\\ud835\\udd52\\ud835\\udd53\\ud835\\udd6a \\ud835\\udd63\\ud835\\udd52\\ud835\\udd53\\ud835\\udd53\\ud835\\udd5a\\ud835\\udd65 \\ud811\\ude13 \\u3161 \\ud83c\\udf80\\ud83d\\udc97 \\ud835\\udde3\\ud835\\uddee\\ud835\\uddff\\ud835\\ude01 \\ud835\\uddfc\\ud835\\uddf3 \\ud835\\uddd6\\ud835\\udddb\\u00c9\\ud835\\udde5\\ud835\\udddc\\ud835\\uddd8 \\u2601\\ufe0e\",\"\\u0627\\u0644\\u0645\\u0645\\u0644\\u0643\\u0629 \\u0627\\u0644\\u0623\\u0631\\u062f\\u0646\\u064a\\u0629 \\u0627\\u0644\\u0647\\u0627\\u0634\\u0645\\u064a\\u0629\",\"\\u062f\\u0631 \\u0627\\u0631\\u0648\\u067e\\u0627\",\"\\u0632\\u06cc\\u0631 \\u0633\\u0627\\u06cc\\u0647 \\u062e\\u0648\\u0631\\u0634\\u06cc\\u062f\",\"\\u0633\\u0631\\u0632\\u0645\\u06cc\\u0646\\u200c\\u0647\\u0627\\u06cc \\u0634\\u0645\\u0627\\u0644\\u06cc\",\"\\u0915\\u093e\\u0928\\u092a\\u0941\\u0930, \\u0909\\u0924\\u094d\\u0924\\u0930 \\u092a\\u094d\\u0930\\u0926\\u0947\\u0936, \\u092d\\u093e\\u0930\\u0924\",\"\\u0928\\u0908 \\u0926\\u093f\\u0932\\u094d\\u0932\\u0940, \\u092d\\u093e\\u0930\\u0924\",\"\\u092d\\u093e\\u0930\\u0924 \",\"\\u092e\\u0927\\u0947\\u092a\\u0941\\u0930\\u093e, \\u092d\\u093e\\u0930\\u0924\",\"\\u0e01\\u0e23\\u0e38\\u0e07\\u0e40\\u0e17\\u0e1e\\u0e21\\u0e2b\\u0e32\\u0e19\\u0e04\\u0e23, \\u0e1b\\u0e23\\u0e30\\u0e40\\u0e17\\u0e28\\u0e44\\u0e17\\u0e22\",\"\\u0e08\\u0e2d\\u0e07\\u0e2e\\u0e31\\u0e19\\u0e08\\u0e2d\\u0e07\\u0e43\\u0e08\\ud83d\\udccd\",\"\\u0e16\\u0e31\\u0e14\\u0e2d\\u0e2d\\u0e01\\u0e44\\u0e1b\\u0e2a\\u0e34\\u0e1a\\u0e2a\\u0e32\\u0e21\\u0e08\\u0e38\\u0e14\\u0e40\\u0e08\\u0e47\\u0e14\\u0e01\\u0e34\\u0e42\\u0e25\\u0e44\\u0e21\\u0e25\\u0e4c\",\"\\u0e1b\\u0e23\\u0e30\\u0e40\\u0e17\\u0e28\\u0e44\\u0e17\\u0e22\",\"\\u2315 \\ud835\\uddcc\\ud835\\uddc1\\ud835\\uddbe/\\ud835\\uddc1\\ud835\\uddbe\\ud835\\uddcb \\u2022 fangirl acc\",\"\\u24b7.\\u24be.,\\ud83c\\udd56\\ud83c\\udd64\\ud83c\\udd5d,\\ud835\\udce8\\ud835\\udcea\\ud835\\udcf7\\ud835\\udcd6\\ud835\\udce9\\ud835\\udcf2\",\"\\u2603\\ufe0f\",\"\\u263e \\u2614\\ufe0e\\ufe0e \\u2600\\ufe0e\\ufe0e \\u2740 \\u2618\\ufe0e\\ufe0e\",\"\\u2661 '\\uc815\\uc6d0\\uff3c\\u2060(\\u2060^\\u2060o\\u2060^\\u2060)\\u2060\\uff0fJUNGWON' \\u2661\",\"\\u2665\\ufe0f of Allen, Luffy, Robin\",\"\\u26a1\\ufe0f\",\"\\u2800\\u2445\\u2800 Chimerical, 1996 .. \\ua51b \\u0b67 \\u08ea \\u02d6 \\u201c\\uc804\\uc18c\\ubbf8\\u201d: \\u02d2\\u2800\\u2445\",\"\\u2800\\u2800  all the boys call me \\u201cmommy\\u201d\\n\\u2800 \\u2800treat me like your highness woman\",\"\\u30b8\\u30e5\\u30f3\\u30d4\",\"\\u65e5\\u672c \\u6771\\u4eac\",\"\\u8ab0\\u3088\\u308a\\u3082\\u4f8d\\u3063\\u307d\\u3044\\u30b9\\u30c6\\u30a3\\u30fc\\u30d6\\u30f3\\u30fb\\u30af\\u30ef\\u30f3\\u6fc0\\u63a8\\u3057\\ud83c\\udfdf\",\"\\ua4b0 \\ud835\\udfe2\\ud835\\udfe2  \\ud80c\\uddec\\u1bab \\u250a  \\ud80c\\udd39  .\\u201c\\uce74\\ub9ac\\ub098\\u201d \\u2026 \\ua4b1 \",\"\\ua731\\u029c\\u1d07 \\ud83c\\uddf2\\ud83c\\uddec\\ud83c\\uddf7\\ud83c\\uddea \\ua4b1\\u0fd0\\u2661 \\u02da.*\\u0cc3\",\"\\ubaac\\uc2a4\\ud0c0\\uc5d1\\uc2a4 & \\uc6d0\\ud638\",\"\\ube44\\uc544\\uc774\\ub514\",\"\\uc5ec\\uc790/she\",\"\\uc6d0\\ub978. 100%\",\"\\uc774\\ub3c4\\uacb8 \\ud83d\\udd4a\\ufe0f\",\"\\ud2f0\\ub2c83\\uae30 || 01\",\"\\ud558\\ub0a8\",\"\\ud83c\\udde8\\ud83c\\udde6 CANADA \\ud83c\\udde8\\ud83c\\udde6\",\"\\ud83c\\uddec\\ud83c\\udde7 \",\"\\ud83c\\uddee\\ud83c\\udde9 she/her '00\",\"\\ud83c\\uddee\\ud83c\\udde9 she/her 04l\",\"\\ud83c\\uddf0\\ud83c\\uddea \\u2795\\ufe0f \\ud83c\\udf0d\",\"\\ud83c\\uddf2\\ud83c\\uddfe\",\"\\ud83c\\uddf3\\ud83c\\uddec\\u2708\\ufe0f\\ud83c\\uddfa\\ud83c\\uddf8\",\"\\ud83c\\uddf3\\ud83c\\uddec\\ud83c\\udde8\\ud83c\\udde6\",\"\\ud83c\\uddf5\\ud83c\\udded\",\"\\ud83c\\uddf5\\ud83c\\uddf0\",\"\\ud83c\\uddff\\ud83c\\udde6\",\"\\ud83c\\udf0d\",\"\\ud83c\\udf0dService to humanity. \",\"\\ud83c\\udf10\",\"\\ud83c\\udf19\\ud83e\\ude90\\ud83c\\udf1fMilky Way \\ud83c\\udf19\\ud83e\\ude90\\ud83c\\udf1f\",\"\\ud83c\\udfc1\",\"\\ud83c\\udfc63x \\ud83d\\udc8d3x\",\"\\ud83d\\udc96\\ud83d\\udc9c\\ud83d\\udc99\",\"\\ud83d\\udc9c\\ud83e\\udd0d\\ud83d\\udc9a\",\"\\ud83d\\udca5\",\"\\ud83d\\udd4a\\ufe0f\"],\"name\":\"\",\"z\":[1,1,1,1,1,1,1,1,1,1,1,1,1,1,1,1,1,1,1,1,1,1,1,1,1,1,1,1,1,1,1,1,1,1,1,1,1,1,1,1,1,1,1,1,1,1,1,1,1,1,1,1,1,1,2,1,1,1,1,1,1,1,1,1,1,1,1,1,1,1,1,1,1,2,1,1,1,1,1,1,1,2,2,3,1,1,1,1,1,1,1,3,1,2,1,1,1,1,1,1,2,1,1,1,1,1,1,1,1,1,1,1,1,1,2,1,1,1,1,1,1,1,1,1,1,1,3,1,2,1,1,1,1,2,2,5,1,1,1,1,1,2,1,3,1,1,1,1,1,1,1,1,1,1,1,1,1,2,1,1,1,1,1,1,1,1,1,1,1,1,1,1,2,1,1,1,1,1,1,1,2,1,1,1,2,1,1,1,1,4,1,2,1,1,1,1,1,1,1,1,4,3,1,1,1,1,1,1,1,1,1,1,1,1,1,1,1,2,1,1,4,2,1,1,2,1,1,1,1,1,2,1,1,1,4,1,1,1,1,1,1,1,2,1,1,2,1,1,1,1,1,1,1,1,1,1,1,1,1,1,1,3,2,1,1,1,1,1,1,1,1,4,1,2,1,1,1,15,1,1,1,1,1,6,1,1,1,1,1,2,1,1,1,1,1,1,3,1,1,1,2,1,1,1,1,1,1,1,1,1,1,10,1,1,1,1,1,1,3,1,2,1,1,1,2,2,1,1,1,1,1,1,1,1,1,1,3,3,20,1,1,2,1,1,1,1,1,1,1,1,1,1,1,1,1,1,1,1,1,8,12,1,1,2,1,1,1,1,1,3,1,1,1,1,1,7,1,1,1,1,1,2,11,1,2,1,2,2,1,1,1,1,1,1,1,2,1,5,1,4,1,2,1,1,1,1,1,1,1,1,1,1,1,1,1,1,1,1,1,1,3,2,1,1,1,1,1,1,1,1,1,1,2,4,1,1,1,1,1,2,4,1,1,2,3,1,1,13,811,1,1,1,1,1,1,1,1,1,1,1,1,1,1,1,1,1,4,1,1,1,1,1,1,1,1,1,1,1,3,1,1,1,1,1,1,1,1,3,1,3,1,1,1,2,1,2,1,1,1,1,1,1,3,1,1,1,1,1,1,1,2,1,1,1,1,1,1,1,1,1,1,1,1,1,1,1,1,5,1,1,1,2,1,1,1,1,2,1,1,1,1,1,1,1,1,1,1,2,1,1,1,1,1,3,1,1,1,2,1,1,1,1,1,1,1,1,1,1,1,1,1,1,1,1,3,1,1,1,1,1,1,1,1,1,1,1,1,1,1,11,1,1,1,1,1,1,1,1,1,1,1,1,1,1,1,1,1,1,1,1,1,1,1,1,2,1,3,1,1,1,1,1,1,1,1,1,1,1,2,1,1,1,1,1,1,1,1,2,1,1,1,1,1,1,1,1,1,4,1,1,1,1,2,1,1,1,1,1,1,1,1,1,1,6,1,1,1,1,2,5,1,1,1,1,2,1,6,8,1,1,1,1,1,1,1,1,1,1,1,1,1,1,2,1,1,1,1,1,1,1,1,1,1,1,1,1,1,3,1,1,1,1,1,1,1,5,1,1,1,1,1,1,1,1,1,1,1,1,1,1,1,1,2,1,1,1,1,1,3,1,1,1,1,1,1,2,1,1,1,1,1,1,1,1,1,1,1,1,1,1,1,1,1,1,1,1,1,1,1,1,1,1,1,1,1,1,1,1,1,1,1,1,1,1,1,1,1,1,1,1,1,1,1,1,1,1,1,1,1,1,7,1,1,1,1,1,1,1,1,1,1,1,1,1,2,1,2,1,1,1,1,1,1,1,1,1,1,1,1,1,1,1,1,1,1,1,1,1,1,1,1,1,1,1,1,1,1,1,1,1,1,1,1,1,1,1,1,1,1,1,1,1,1,1,1,2,1,1,1,1,1,1,1,1,1,1,2,1,1,1,1,1,1,1,1,1,1,1,1,1,1,1,2,1,1,1,1,1,1,1,1,1,1,1,1,1,1,1],\"type\":\"choropleth\"}],                        {\"template\":{\"data\":{\"bar\":[{\"error_x\":{\"color\":\"#2a3f5f\"},\"error_y\":{\"color\":\"#2a3f5f\"},\"marker\":{\"line\":{\"color\":\"#E5ECF6\",\"width\":0.5},\"pattern\":{\"fillmode\":\"overlay\",\"size\":10,\"solidity\":0.2}},\"type\":\"bar\"}],\"barpolar\":[{\"marker\":{\"line\":{\"color\":\"#E5ECF6\",\"width\":0.5},\"pattern\":{\"fillmode\":\"overlay\",\"size\":10,\"solidity\":0.2}},\"type\":\"barpolar\"}],\"carpet\":[{\"aaxis\":{\"endlinecolor\":\"#2a3f5f\",\"gridcolor\":\"white\",\"linecolor\":\"white\",\"minorgridcolor\":\"white\",\"startlinecolor\":\"#2a3f5f\"},\"baxis\":{\"endlinecolor\":\"#2a3f5f\",\"gridcolor\":\"white\",\"linecolor\":\"white\",\"minorgridcolor\":\"white\",\"startlinecolor\":\"#2a3f5f\"},\"type\":\"carpet\"}],\"choropleth\":[{\"colorbar\":{\"outlinewidth\":0,\"ticks\":\"\"},\"type\":\"choropleth\"}],\"contour\":[{\"colorbar\":{\"outlinewidth\":0,\"ticks\":\"\"},\"colorscale\":[[0.0,\"#0d0887\"],[0.1111111111111111,\"#46039f\"],[0.2222222222222222,\"#7201a8\"],[0.3333333333333333,\"#9c179e\"],[0.4444444444444444,\"#bd3786\"],[0.5555555555555556,\"#d8576b\"],[0.6666666666666666,\"#ed7953\"],[0.7777777777777778,\"#fb9f3a\"],[0.8888888888888888,\"#fdca26\"],[1.0,\"#f0f921\"]],\"type\":\"contour\"}],\"contourcarpet\":[{\"colorbar\":{\"outlinewidth\":0,\"ticks\":\"\"},\"type\":\"contourcarpet\"}],\"heatmap\":[{\"colorbar\":{\"outlinewidth\":0,\"ticks\":\"\"},\"colorscale\":[[0.0,\"#0d0887\"],[0.1111111111111111,\"#46039f\"],[0.2222222222222222,\"#7201a8\"],[0.3333333333333333,\"#9c179e\"],[0.4444444444444444,\"#bd3786\"],[0.5555555555555556,\"#d8576b\"],[0.6666666666666666,\"#ed7953\"],[0.7777777777777778,\"#fb9f3a\"],[0.8888888888888888,\"#fdca26\"],[1.0,\"#f0f921\"]],\"type\":\"heatmap\"}],\"heatmapgl\":[{\"colorbar\":{\"outlinewidth\":0,\"ticks\":\"\"},\"colorscale\":[[0.0,\"#0d0887\"],[0.1111111111111111,\"#46039f\"],[0.2222222222222222,\"#7201a8\"],[0.3333333333333333,\"#9c179e\"],[0.4444444444444444,\"#bd3786\"],[0.5555555555555556,\"#d8576b\"],[0.6666666666666666,\"#ed7953\"],[0.7777777777777778,\"#fb9f3a\"],[0.8888888888888888,\"#fdca26\"],[1.0,\"#f0f921\"]],\"type\":\"heatmapgl\"}],\"histogram\":[{\"marker\":{\"pattern\":{\"fillmode\":\"overlay\",\"size\":10,\"solidity\":0.2}},\"type\":\"histogram\"}],\"histogram2d\":[{\"colorbar\":{\"outlinewidth\":0,\"ticks\":\"\"},\"colorscale\":[[0.0,\"#0d0887\"],[0.1111111111111111,\"#46039f\"],[0.2222222222222222,\"#7201a8\"],[0.3333333333333333,\"#9c179e\"],[0.4444444444444444,\"#bd3786\"],[0.5555555555555556,\"#d8576b\"],[0.6666666666666666,\"#ed7953\"],[0.7777777777777778,\"#fb9f3a\"],[0.8888888888888888,\"#fdca26\"],[1.0,\"#f0f921\"]],\"type\":\"histogram2d\"}],\"histogram2dcontour\":[{\"colorbar\":{\"outlinewidth\":0,\"ticks\":\"\"},\"colorscale\":[[0.0,\"#0d0887\"],[0.1111111111111111,\"#46039f\"],[0.2222222222222222,\"#7201a8\"],[0.3333333333333333,\"#9c179e\"],[0.4444444444444444,\"#bd3786\"],[0.5555555555555556,\"#d8576b\"],[0.6666666666666666,\"#ed7953\"],[0.7777777777777778,\"#fb9f3a\"],[0.8888888888888888,\"#fdca26\"],[1.0,\"#f0f921\"]],\"type\":\"histogram2dcontour\"}],\"mesh3d\":[{\"colorbar\":{\"outlinewidth\":0,\"ticks\":\"\"},\"type\":\"mesh3d\"}],\"parcoords\":[{\"line\":{\"colorbar\":{\"outlinewidth\":0,\"ticks\":\"\"}},\"type\":\"parcoords\"}],\"pie\":[{\"automargin\":true,\"type\":\"pie\"}],\"scatter\":[{\"marker\":{\"colorbar\":{\"outlinewidth\":0,\"ticks\":\"\"}},\"type\":\"scatter\"}],\"scatter3d\":[{\"line\":{\"colorbar\":{\"outlinewidth\":0,\"ticks\":\"\"}},\"marker\":{\"colorbar\":{\"outlinewidth\":0,\"ticks\":\"\"}},\"type\":\"scatter3d\"}],\"scattercarpet\":[{\"marker\":{\"colorbar\":{\"outlinewidth\":0,\"ticks\":\"\"}},\"type\":\"scattercarpet\"}],\"scattergeo\":[{\"marker\":{\"colorbar\":{\"outlinewidth\":0,\"ticks\":\"\"}},\"type\":\"scattergeo\"}],\"scattergl\":[{\"marker\":{\"colorbar\":{\"outlinewidth\":0,\"ticks\":\"\"}},\"type\":\"scattergl\"}],\"scattermapbox\":[{\"marker\":{\"colorbar\":{\"outlinewidth\":0,\"ticks\":\"\"}},\"type\":\"scattermapbox\"}],\"scatterpolar\":[{\"marker\":{\"colorbar\":{\"outlinewidth\":0,\"ticks\":\"\"}},\"type\":\"scatterpolar\"}],\"scatterpolargl\":[{\"marker\":{\"colorbar\":{\"outlinewidth\":0,\"ticks\":\"\"}},\"type\":\"scatterpolargl\"}],\"scatterternary\":[{\"marker\":{\"colorbar\":{\"outlinewidth\":0,\"ticks\":\"\"}},\"type\":\"scatterternary\"}],\"surface\":[{\"colorbar\":{\"outlinewidth\":0,\"ticks\":\"\"},\"colorscale\":[[0.0,\"#0d0887\"],[0.1111111111111111,\"#46039f\"],[0.2222222222222222,\"#7201a8\"],[0.3333333333333333,\"#9c179e\"],[0.4444444444444444,\"#bd3786\"],[0.5555555555555556,\"#d8576b\"],[0.6666666666666666,\"#ed7953\"],[0.7777777777777778,\"#fb9f3a\"],[0.8888888888888888,\"#fdca26\"],[1.0,\"#f0f921\"]],\"type\":\"surface\"}],\"table\":[{\"cells\":{\"fill\":{\"color\":\"#EBF0F8\"},\"line\":{\"color\":\"white\"}},\"header\":{\"fill\":{\"color\":\"#C8D4E3\"},\"line\":{\"color\":\"white\"}},\"type\":\"table\"}]},\"layout\":{\"annotationdefaults\":{\"arrowcolor\":\"#2a3f5f\",\"arrowhead\":0,\"arrowwidth\":1},\"autotypenumbers\":\"strict\",\"coloraxis\":{\"colorbar\":{\"outlinewidth\":0,\"ticks\":\"\"}},\"colorscale\":{\"diverging\":[[0,\"#8e0152\"],[0.1,\"#c51b7d\"],[0.2,\"#de77ae\"],[0.3,\"#f1b6da\"],[0.4,\"#fde0ef\"],[0.5,\"#f7f7f7\"],[0.6,\"#e6f5d0\"],[0.7,\"#b8e186\"],[0.8,\"#7fbc41\"],[0.9,\"#4d9221\"],[1,\"#276419\"]],\"sequential\":[[0.0,\"#0d0887\"],[0.1111111111111111,\"#46039f\"],[0.2222222222222222,\"#7201a8\"],[0.3333333333333333,\"#9c179e\"],[0.4444444444444444,\"#bd3786\"],[0.5555555555555556,\"#d8576b\"],[0.6666666666666666,\"#ed7953\"],[0.7777777777777778,\"#fb9f3a\"],[0.8888888888888888,\"#fdca26\"],[1.0,\"#f0f921\"]],\"sequentialminus\":[[0.0,\"#0d0887\"],[0.1111111111111111,\"#46039f\"],[0.2222222222222222,\"#7201a8\"],[0.3333333333333333,\"#9c179e\"],[0.4444444444444444,\"#bd3786\"],[0.5555555555555556,\"#d8576b\"],[0.6666666666666666,\"#ed7953\"],[0.7777777777777778,\"#fb9f3a\"],[0.8888888888888888,\"#fdca26\"],[1.0,\"#f0f921\"]]},\"colorway\":[\"#636efa\",\"#EF553B\",\"#00cc96\",\"#ab63fa\",\"#FFA15A\",\"#19d3f3\",\"#FF6692\",\"#B6E880\",\"#FF97FF\",\"#FECB52\"],\"font\":{\"color\":\"#2a3f5f\"},\"geo\":{\"bgcolor\":\"white\",\"lakecolor\":\"white\",\"landcolor\":\"#E5ECF6\",\"showlakes\":true,\"showland\":true,\"subunitcolor\":\"white\"},\"hoverlabel\":{\"align\":\"left\"},\"hovermode\":\"closest\",\"mapbox\":{\"style\":\"light\"},\"paper_bgcolor\":\"white\",\"plot_bgcolor\":\"#E5ECF6\",\"polar\":{\"angularaxis\":{\"gridcolor\":\"white\",\"linecolor\":\"white\",\"ticks\":\"\"},\"bgcolor\":\"#E5ECF6\",\"radialaxis\":{\"gridcolor\":\"white\",\"linecolor\":\"white\",\"ticks\":\"\"}},\"scene\":{\"xaxis\":{\"backgroundcolor\":\"#E5ECF6\",\"gridcolor\":\"white\",\"gridwidth\":2,\"linecolor\":\"white\",\"showbackground\":true,\"ticks\":\"\",\"zerolinecolor\":\"white\"},\"yaxis\":{\"backgroundcolor\":\"#E5ECF6\",\"gridcolor\":\"white\",\"gridwidth\":2,\"linecolor\":\"white\",\"showbackground\":true,\"ticks\":\"\",\"zerolinecolor\":\"white\"},\"zaxis\":{\"backgroundcolor\":\"#E5ECF6\",\"gridcolor\":\"white\",\"gridwidth\":2,\"linecolor\":\"white\",\"showbackground\":true,\"ticks\":\"\",\"zerolinecolor\":\"white\"}},\"shapedefaults\":{\"line\":{\"color\":\"#2a3f5f\"}},\"ternary\":{\"aaxis\":{\"gridcolor\":\"white\",\"linecolor\":\"white\",\"ticks\":\"\"},\"baxis\":{\"gridcolor\":\"white\",\"linecolor\":\"white\",\"ticks\":\"\"},\"bgcolor\":\"#E5ECF6\",\"caxis\":{\"gridcolor\":\"white\",\"linecolor\":\"white\",\"ticks\":\"\"}},\"title\":{\"x\":0.05},\"xaxis\":{\"automargin\":true,\"gridcolor\":\"white\",\"linecolor\":\"white\",\"ticks\":\"\",\"title\":{\"standoff\":15},\"zerolinecolor\":\"white\",\"zerolinewidth\":2},\"yaxis\":{\"automargin\":true,\"gridcolor\":\"white\",\"linecolor\":\"white\",\"ticks\":\"\",\"title\":{\"standoff\":15},\"zerolinecolor\":\"white\",\"zerolinewidth\":2}}},\"geo\":{\"domain\":{\"x\":[0.0,1.0],\"y\":[0.0,1.0]},\"center\":{}},\"coloraxis\":{\"colorbar\":{\"title\":{\"text\":\"count\"}},\"colorscale\":[[0.0,\"#0d0887\"],[0.1111111111111111,\"#46039f\"],[0.2222222222222222,\"#7201a8\"],[0.3333333333333333,\"#9c179e\"],[0.4444444444444444,\"#bd3786\"],[0.5555555555555556,\"#d8576b\"],[0.6666666666666666,\"#ed7953\"],[0.7777777777777778,\"#fb9f3a\"],[0.8888888888888888,\"#fdca26\"],[1.0,\"#f0f921\"]]},\"legend\":{\"tracegroupgap\":0},\"title\":{\"text\":\"Number of Tweets per Location\"}},                        {\"responsive\": true}                    ).then(function(){\n",
              "                            \n",
              "var gd = document.getElementById('1c330ddc-e071-4299-856a-c102bee515a8');\n",
              "var x = new MutationObserver(function (mutations, observer) {{\n",
              "        var display = window.getComputedStyle(gd).display;\n",
              "        if (!display || display === 'none') {{\n",
              "            console.log([gd, 'removed!']);\n",
              "            Plotly.purge(gd);\n",
              "            observer.disconnect();\n",
              "        }}\n",
              "}});\n",
              "\n",
              "// Listen for the removal of the full notebook cells\n",
              "var notebookContainer = gd.closest('#notebook-container');\n",
              "if (notebookContainer) {{\n",
              "    x.observe(notebookContainer, {childList: true});\n",
              "}}\n",
              "\n",
              "// Listen for the clearing of the current output cell\n",
              "var outputEl = gd.closest('.output');\n",
              "if (outputEl) {{\n",
              "    x.observe(outputEl, {childList: true});\n",
              "}}\n",
              "\n",
              "                        })                };                            </script>        </div>\n",
              "</body>\n",
              "</html>"
            ]
          },
          "metadata": {}
        }
      ]
    },
    {
      "cell_type": "markdown",
      "source": [
        "## Sentiment Analysis"
      ],
      "metadata": {
        "id": "P2upNHPbUqGv"
      }
    },
    {
      "cell_type": "code",
      "source": [
        "\n",
        "# Create a SentimentIntensityAnalyzer object\n",
        "sia = SentimentIntensityAnalyzer()\n",
        "\n",
        "# Define a function to compute the sentiment scores for a tweet\n",
        "def get_sentiment_scores(tweet):\n",
        "    scores = sia.polarity_scores(tweet)\n",
        "    return scores['compound']\n",
        "\n",
        "# Apply the get_sentiment_scores function to the text column of the DataFrame and store the result in a new column\n",
        "df['sentiment'] = df['text'].apply(get_sentiment_scores)\n"
      ],
      "metadata": {
        "id": "w3FpcObrTc2Q"
      },
      "execution_count": 25,
      "outputs": []
    },
    {
      "cell_type": "code",
      "source": [
        "df.head()"
      ],
      "metadata": {
        "colab": {
          "base_uri": "https://localhost:8080/",
          "height": 206
        },
        "id": "3Tb8aGE4Vv4t",
        "outputId": "be5614ef-0986-4f21-b581-95d058113d69"
      },
      "execution_count": 26,
      "outputs": [
        {
          "output_type": "execute_result",
          "data": {
            "text/plain": [
              "              tweet_id           created_at  \\\n",
              "0  1611282681345757185  2023-01-06 08:45:02   \n",
              "1  1611282672495792128  2023-01-06 08:44:59   \n",
              "2  1611282634243559424  2023-01-06 08:44:50   \n",
              "3  1611282595433660416  2023-01-06 08:44:41   \n",
              "4  1611282592539582466  2023-01-06 08:44:40   \n",
              "\n",
              "                                                text                location  \\\n",
              "0  @yakyucosmo I know there are a lot of opinions...  誰よりも侍っぽいスティーブン・クワン激推し🏟   \n",
              "1  RT @On3sports: 🚨BREAKING🚨 Jackson State WR tra...          On The Field 🏈   \n",
              "2  RT @thenewsmovement: Morning everyone! This is...  West Midlands, England   \n",
              "3  RT @mingaya_TEEZ: just wanted to remind everyo...         They/He/She/Any   \n",
              "4  RT @thekhrc: This is a frightening crime but i...                 Nairobi   \n",
              "\n",
              "   likes  sentiment  \n",
              "0      0     0.7991  \n",
              "1      0     0.4404  \n",
              "2      0    -0.3164  \n",
              "3      0    -0.2960  \n",
              "4      0    -0.8381  "
            ],
            "text/html": [
              "\n",
              "  <div id=\"df-e6fd3d55-c0ea-40d1-910e-ec6384333e8c\">\n",
              "    <div class=\"colab-df-container\">\n",
              "      <div>\n",
              "<style scoped>\n",
              "    .dataframe tbody tr th:only-of-type {\n",
              "        vertical-align: middle;\n",
              "    }\n",
              "\n",
              "    .dataframe tbody tr th {\n",
              "        vertical-align: top;\n",
              "    }\n",
              "\n",
              "    .dataframe thead th {\n",
              "        text-align: right;\n",
              "    }\n",
              "</style>\n",
              "<table border=\"1\" class=\"dataframe\">\n",
              "  <thead>\n",
              "    <tr style=\"text-align: right;\">\n",
              "      <th></th>\n",
              "      <th>tweet_id</th>\n",
              "      <th>created_at</th>\n",
              "      <th>text</th>\n",
              "      <th>location</th>\n",
              "      <th>likes</th>\n",
              "      <th>sentiment</th>\n",
              "    </tr>\n",
              "  </thead>\n",
              "  <tbody>\n",
              "    <tr>\n",
              "      <th>0</th>\n",
              "      <td>1611282681345757185</td>\n",
              "      <td>2023-01-06 08:45:02</td>\n",
              "      <td>@yakyucosmo I know there are a lot of opinions...</td>\n",
              "      <td>誰よりも侍っぽいスティーブン・クワン激推し🏟</td>\n",
              "      <td>0</td>\n",
              "      <td>0.7991</td>\n",
              "    </tr>\n",
              "    <tr>\n",
              "      <th>1</th>\n",
              "      <td>1611282672495792128</td>\n",
              "      <td>2023-01-06 08:44:59</td>\n",
              "      <td>RT @On3sports: 🚨BREAKING🚨 Jackson State WR tra...</td>\n",
              "      <td>On The Field 🏈</td>\n",
              "      <td>0</td>\n",
              "      <td>0.4404</td>\n",
              "    </tr>\n",
              "    <tr>\n",
              "      <th>2</th>\n",
              "      <td>1611282634243559424</td>\n",
              "      <td>2023-01-06 08:44:50</td>\n",
              "      <td>RT @thenewsmovement: Morning everyone! This is...</td>\n",
              "      <td>West Midlands, England</td>\n",
              "      <td>0</td>\n",
              "      <td>-0.3164</td>\n",
              "    </tr>\n",
              "    <tr>\n",
              "      <th>3</th>\n",
              "      <td>1611282595433660416</td>\n",
              "      <td>2023-01-06 08:44:41</td>\n",
              "      <td>RT @mingaya_TEEZ: just wanted to remind everyo...</td>\n",
              "      <td>They/He/She/Any</td>\n",
              "      <td>0</td>\n",
              "      <td>-0.2960</td>\n",
              "    </tr>\n",
              "    <tr>\n",
              "      <th>4</th>\n",
              "      <td>1611282592539582466</td>\n",
              "      <td>2023-01-06 08:44:40</td>\n",
              "      <td>RT @thekhrc: This is a frightening crime but i...</td>\n",
              "      <td>Nairobi</td>\n",
              "      <td>0</td>\n",
              "      <td>-0.8381</td>\n",
              "    </tr>\n",
              "  </tbody>\n",
              "</table>\n",
              "</div>\n",
              "      <button class=\"colab-df-convert\" onclick=\"convertToInteractive('df-e6fd3d55-c0ea-40d1-910e-ec6384333e8c')\"\n",
              "              title=\"Convert this dataframe to an interactive table.\"\n",
              "              style=\"display:none;\">\n",
              "        \n",
              "  <svg xmlns=\"http://www.w3.org/2000/svg\" height=\"24px\"viewBox=\"0 0 24 24\"\n",
              "       width=\"24px\">\n",
              "    <path d=\"M0 0h24v24H0V0z\" fill=\"none\"/>\n",
              "    <path d=\"M18.56 5.44l.94 2.06.94-2.06 2.06-.94-2.06-.94-.94-2.06-.94 2.06-2.06.94zm-11 1L8.5 8.5l.94-2.06 2.06-.94-2.06-.94L8.5 2.5l-.94 2.06-2.06.94zm10 10l.94 2.06.94-2.06 2.06-.94-2.06-.94-.94-2.06-.94 2.06-2.06.94z\"/><path d=\"M17.41 7.96l-1.37-1.37c-.4-.4-.92-.59-1.43-.59-.52 0-1.04.2-1.43.59L10.3 9.45l-7.72 7.72c-.78.78-.78 2.05 0 2.83L4 21.41c.39.39.9.59 1.41.59.51 0 1.02-.2 1.41-.59l7.78-7.78 2.81-2.81c.8-.78.8-2.07 0-2.86zM5.41 20L4 18.59l7.72-7.72 1.47 1.35L5.41 20z\"/>\n",
              "  </svg>\n",
              "      </button>\n",
              "      \n",
              "  <style>\n",
              "    .colab-df-container {\n",
              "      display:flex;\n",
              "      flex-wrap:wrap;\n",
              "      gap: 12px;\n",
              "    }\n",
              "\n",
              "    .colab-df-convert {\n",
              "      background-color: #E8F0FE;\n",
              "      border: none;\n",
              "      border-radius: 50%;\n",
              "      cursor: pointer;\n",
              "      display: none;\n",
              "      fill: #1967D2;\n",
              "      height: 32px;\n",
              "      padding: 0 0 0 0;\n",
              "      width: 32px;\n",
              "    }\n",
              "\n",
              "    .colab-df-convert:hover {\n",
              "      background-color: #E2EBFA;\n",
              "      box-shadow: 0px 1px 2px rgba(60, 64, 67, 0.3), 0px 1px 3px 1px rgba(60, 64, 67, 0.15);\n",
              "      fill: #174EA6;\n",
              "    }\n",
              "\n",
              "    [theme=dark] .colab-df-convert {\n",
              "      background-color: #3B4455;\n",
              "      fill: #D2E3FC;\n",
              "    }\n",
              "\n",
              "    [theme=dark] .colab-df-convert:hover {\n",
              "      background-color: #434B5C;\n",
              "      box-shadow: 0px 1px 3px 1px rgba(0, 0, 0, 0.15);\n",
              "      filter: drop-shadow(0px 1px 2px rgba(0, 0, 0, 0.3));\n",
              "      fill: #FFFFFF;\n",
              "    }\n",
              "  </style>\n",
              "\n",
              "      <script>\n",
              "        const buttonEl =\n",
              "          document.querySelector('#df-e6fd3d55-c0ea-40d1-910e-ec6384333e8c button.colab-df-convert');\n",
              "        buttonEl.style.display =\n",
              "          google.colab.kernel.accessAllowed ? 'block' : 'none';\n",
              "\n",
              "        async function convertToInteractive(key) {\n",
              "          const element = document.querySelector('#df-e6fd3d55-c0ea-40d1-910e-ec6384333e8c');\n",
              "          const dataTable =\n",
              "            await google.colab.kernel.invokeFunction('convertToInteractive',\n",
              "                                                     [key], {});\n",
              "          if (!dataTable) return;\n",
              "\n",
              "          const docLinkHtml = 'Like what you see? Visit the ' +\n",
              "            '<a target=\"_blank\" href=https://colab.research.google.com/notebooks/data_table.ipynb>data table notebook</a>'\n",
              "            + ' to learn more about interactive tables.';\n",
              "          element.innerHTML = '';\n",
              "          dataTable['output_type'] = 'display_data';\n",
              "          await google.colab.output.renderOutput(dataTable, element);\n",
              "          const docLink = document.createElement('div');\n",
              "          docLink.innerHTML = docLinkHtml;\n",
              "          element.appendChild(docLink);\n",
              "        }\n",
              "      </script>\n",
              "    </div>\n",
              "  </div>\n",
              "  "
            ]
          },
          "metadata": {},
          "execution_count": 26
        }
      ]
    },
    {
      "cell_type": "code",
      "source": [
        "import plotly.graph_objects as go\n",
        "\n",
        "# Create a histogram of the sentiment scores\n",
        "fig = go.Figure(data=[go.Histogram(x=df['sentiment'])])\n",
        "fig.update_layout(title_text='Sentiment Scores')\n",
        "fig.show()\n"
      ],
      "metadata": {
        "colab": {
          "base_uri": "https://localhost:8080/",
          "height": 542
        },
        "id": "EzM_yjuLV4u7",
        "outputId": "a690a91e-22aa-44e5-90f7-602db9379d01"
      },
      "execution_count": 27,
      "outputs": [
        {
          "output_type": "display_data",
          "data": {
            "text/html": [
              "<html>\n",
              "<head><meta charset=\"utf-8\" /></head>\n",
              "<body>\n",
              "    <div>            <script src=\"https://cdnjs.cloudflare.com/ajax/libs/mathjax/2.7.5/MathJax.js?config=TeX-AMS-MML_SVG\"></script><script type=\"text/javascript\">if (window.MathJax) {MathJax.Hub.Config({SVG: {font: \"STIX-Web\"}});}</script>                <script type=\"text/javascript\">window.PlotlyConfig = {MathJaxConfig: 'local'};</script>\n",
              "        <script src=\"https://cdn.plot.ly/plotly-2.8.3.min.js\"></script>                <div id=\"ab5e794e-be57-4cbf-a0aa-fd576dfa408b\" class=\"plotly-graph-div\" style=\"height:525px; width:100%;\"></div>            <script type=\"text/javascript\">                                    window.PLOTLYENV=window.PLOTLYENV || {};                                    if (document.getElementById(\"ab5e794e-be57-4cbf-a0aa-fd576dfa408b\")) {                    Plotly.newPlot(                        \"ab5e794e-be57-4cbf-a0aa-fd576dfa408b\",                        [{\"x\":[0.7991,0.4404,-0.3164,-0.296,-0.8381,0.6124,0.8113,0.9511,0.3612,-0.3506,-0.296,-0.5106,-0.296,0.0,-0.1531,0.4854,-0.1531,0.3612,0.3612,0.2648,0.0,-0.296,-0.7096,-0.296,0.5267,-0.5904,0.3182,0.4588,0.9146,0.8176,-0.3164,-0.296,0.4215,0.5652,0.1695,0.2648,0.5927,0.8916,0.0,0.1263,0.6249,0.7989,-0.296,0.34,-0.4927,0.34,-0.8559,-0.7906,0.1779,-0.7906,0.296,-0.7906,-0.296,0.9327,-0.296,0.6124,0.7845,0.0,0.4215,0.9062,-0.3182,-0.296,0.9079,0.945,-0.296,0.0,-0.296,-0.5904,0.3612,0.9545,-0.34,-0.4404,0.0,0.765,0.5255,-0.0598,0.3612,-0.296,0.3612,-0.1531,0.7804,0.7506,0.2732,0.9253,0.0258,0.4767,-0.296,-0.8779,-0.2732,0.0,0.5859,0.0,-0.296,0.6114,-0.4588,-0.296,0.4404,0.8481,0.0,-0.7906,0.6124,0.3818,-0.6705,0.8442,-0.5423,0.0,0.75,-0.5719,0.0,-0.34,-0.5106,0.5994,0.0,0.7804,-0.5423,0.3612,0.0,0.3804,0.5707,0.9401,-0.296,0.6124,0.5267,0.0,0.0387,-0.7906,-0.4017,0.0,0.5255,-0.4404,0.5983,0.0,0.8356,-0.5904,0.0,0.0,0.3612,0.3008,-0.3818,0.3182,-0.296,-0.296,0.7003,0.7804,-0.296,-0.1531,0.3612,0.0,0.0,0.3612,0.7506,0.8442,-0.6705,-0.891,0.3612,0.7804,0.3612,0.4767,-0.9432,0.4939,-0.7117,0.8908,-0.34,0.75,0.3612,0.3612,-0.296,-0.296,-0.296,0.2481,0.0,-0.7906,0.6249,0.3612,0.4939,-0.4025,0.0,0.7096,0.7096,0.0,0.0,0.0,0.0,0.6114,0.0,0.3612,0.7804,-0.6124,0.2648,0.4404,0.5267,-0.7906,0.3818,0.4215,0.8513,0.8977,0.7351,0.5574,0.7269,0.0,0.2732,0.0,0.3382,0.3182,0.3102,0.8481,-0.875,-0.3182,-0.9371,0.9062,0.0,0.4588,0.0,0.0,0.4939,0.3612,-0.296,-0.5574,0.128,-0.296,0.8481,-0.6705,0.3612,0.3612,0.3612,-0.4767,0.4215,-0.3818,0.3612,0.5267,0.0,0.8439,0.4824,0.3612,0.0,0.7003,0.3612,-0.7579,0.75,0.8402,0.802,-0.3818,0.6249,-0.5423,0.0,0.3612,0.0,0.7096,0.3612,0.3612,-0.1531,0.0,0.7804,0.2648,0.9526,0.0,0.8433,-0.296,-0.6705,0.3612,0.5106,-0.5423,0.3612,-0.5423,-0.7351,-0.6124,0.4404,0.5267,-0.128,-0.296,0.4404,-0.6705,-0.5267,0.5423,0.5574,0.25,-0.7906,0.6697,0.5267,0.2389,-0.3818,-0.296,-0.2342,0.0387,0.7777,0.7804,0.2648,0.3612,0.7003,-0.296,0.0,0.2014,0.3612,-0.7906,-0.7906,-0.296,-0.296,0.75,-0.3818,-0.1531,0.6114,0.3182,-0.8519,0.8122,0.3612,0.743,0.34,0.9423,0.3612,-0.296,0.0,-0.6249,-0.5423,-0.7351,0.0,-0.296,0.9197,0.6369,-0.1779,-0.5423,0.8402,0.3612,0.3182,0.0258,0.0,-0.7906,0.4404,0.1531,0.6114,0.0,-0.5267,0.0,-0.6705,0.9186,0.0,-0.296,0.7003,0.4215,0.75,0.0,0.0,0.75,-0.3612,0.0141,0.0,0.0,-0.3506,-0.4576,0.128,0.75,0.296,0.0,0.6808,-0.7845,0.3612,0.5267,0.4482,-0.296,-0.4404,-0.7906,0.0258,0.2263,0.75,-0.2342,-0.7351,0.3612,0.0,0.0,0.3612,0.7003,0.0,0.0387,0.9169,0.0,0.2724,-0.2263,0.8951,-0.5574,0.4926,0.9751,0.5719,0.2023,0.0,0.0,0.2263,0.0,0.3818,0.1779,-0.8052,-0.6124,-0.7906,-0.6705,-0.6705,0.0,0.0,-0.296,-0.296,0.296,0.6901,0.0,-0.296,0.8439,0.3818,-0.8608,0.6124,0.7804,-0.296,0.0258,0.7579,-0.296,0.0,-0.296,0.0,0.6124,0.0,0.7184,-0.1531,0.0,-0.3818,-0.296,-0.9371,-0.1531,0.7804,0.296,0.0,0.0,0.0,0.6808,-0.5267,-0.5267,0.3612,0.5859,-0.4767,0.0,-0.1531,0.9329,-0.5904,-0.1027,-0.5106,0.0,0.3612,0.5319,0.5267,0.6344,0.5423,-0.6124,0.6124,-0.4404,0.7804,-0.296,0.1779,0.0,0.34,-0.5267,-0.2484,-0.1531,-0.7906,-0.4215,0.5267,0.5267,-0.128,0.0,-0.1531,-0.1531,0.3612,-0.296,-0.296,0.3612,-0.9371,0.3182,-0.7906,0.836,-0.7906,0.0,0.9329,0.0,-0.7269,-0.5994,-0.7269,-0.6249,-0.0516,-0.8381,0.0,0.0,-0.296,-0.2846,-0.2732,-0.7269,-0.5994,0.3716,-0.1531,0.0,-0.4466,0.7003,0.0,-0.6814,0.0,-0.296,0.4019,-0.296,-0.5904,-0.6124,-0.4003,-0.802,-0.296,0.3612,0.6124,-0.6249,-0.3818,0.0,0.0,0.5851,-0.128,0.3612,0.2382,0.75,0.5423,-0.7906,0.9022,0.0387,0.25,-0.296,0.3612,0.5267,0.3612,0.8396,-0.296,0.3612,-0.6908,0.5267,-0.1531,-0.5904,-0.296,-0.6705,-0.4215,0.3612,0.0,-0.4404,0.9499,0.5267,0.7717,0.6114,-0.3818,-0.1531,-0.5267,-0.5106,0.2648,-0.296,0.0,0.0,0.1779,0.7003,0.0,-0.296,0.0,0.4215,-0.296,0.4215,-0.128,0.7804,-0.3182,0.7579,-0.4215,-0.5904,0.0516,0.0387,0.0,0.1779,0.5267,0.0,-0.3818,0.1531,0.0,-0.6705,-0.5904,0.3612,-0.128,0.0,0.836,-0.7906,0.0,0.4939,0.25,-0.5719,-0.9371,0.8176,-0.4404,-0.631,0.0,-0.9371,-0.5267,0.0,0.0,0.7804,-0.296,-0.296,0.0,0.0258,0.8364,-0.34,-0.296,-0.128,0.4995,-0.1531,0.4767,0.7804,0.0,0.7269,0.0,-0.296,0.8478,0.8271,0.3612,-0.25,0.6114,-0.8479,-0.7003,-0.1779,0.75,-0.8176,0.0,-0.9371,-0.9371,-0.296,-0.3182,0.6114,-0.4404,0.0,0.4215,0.6114,0.6114,-0.3182,-0.4927,0.6114,0.834,0.0,-0.7906,-0.296,0.128,0.9274,-0.5423,0.0258,0.6166,0.0,0.5267,-0.4939,0.0,0.6124,-0.5267,0.923,0.2648,0.1779,-0.782,-0.5106,-0.9432,-0.296,-0.5267,0.6369,-0.296,0.6114,-0.34,0.2648,0.0,-0.9371,-0.4404,-0.8126,0.9741,-0.296,0.6114,-0.2648,-0.7443,-0.6249,-0.694,0.0,0.8904,-0.4588,-0.3818,0.3612,0.0,0.3612,-0.5106,0.0387,-0.1779,0.8658,0.0,0.7314,0.4404,0.7964,0.0,-0.1531,0.0,0.0,0.75,-0.0516,0.6996,0.3612,0.3612,0.8779,-0.5267,-0.25,-0.6597,-0.7906,0.3612,0.4404,0.0,0.0258,-0.296,-0.296,0.8353,-0.1531,0.8481,-0.7906,0.7213,0.2648,0.3612,0.743,-0.296,-0.296,-0.1779,0.0,0.0,-0.2023,0.0258,0.3612,-0.6705,0.6597,-0.5267,-0.6705,0.0,0.3612,-0.7906,0.7964,0.0,-0.2263,-0.296,0.2648,0.902,0.7345,0.0,0.0,0.0,0.7003,-0.34,-0.5423,0.0,0.2648,0.6166,-0.296,0.6458,0.4118,0.3612,0.5267,0.5661,0.0,-0.4767,-0.34,0.5267,0.0,0.7964,-0.7906,0.8442,-0.5904,0.4404,0.8422,-0.5904,0.3612,0.6597,-0.7906,-0.296,0.6114,0.0,0.0258,0.0387,0.7003,0.5661,0.3612,0.4215,-0.5267,0.4215,0.3612,0.5719,-0.5904,0.9349,0.0,-0.296,0.6597,0.0,0.5093,-0.296,0.743,0.0,0.0,-0.5267,-0.4215,0.7003,-0.296,0.128,0.3612,-0.296,0.0,0.0,-0.296,0.1531,-0.0644,0.3612,0.3612,0.0,0.8364,0.0,0.5859,-0.2255,0.0,0.2648,-0.3818,-0.5267,-0.7096,0.0,0.0,-0.6705,0.6114,-0.3818,0.0,0.5267,0.0,0.6369,0.5106,-0.8826,0.4019,0.6114,-0.7269,-0.5965,0.8712,0.0258,0.0,-0.1027,0.4939,-0.128,0.75,-0.3818,0.0,0.296,-0.296,-0.296,-0.296,0.9062,0.0,0.0,0.2492,0.0,0.3612,-0.1779,-0.5267,-0.6705,0.0,0.0,0.3612,0.0,-0.4767,-0.2617,0.5233,0.7712,0.743,0.0,0.6249,-0.296,-0.296,0.743,0.8612,0.3818,-0.9371,-0.8176,0.804,0.5413,0.0,-0.3818,-0.6705,-0.4215,0.0,-0.5719,0.7506,0.3182,-0.7783,0.0,0.6114,-0.296,0.7717,0.0,0.8842,0.2648,0.7804,0.2648,0.3612,-0.296,-0.34,0.0,0.0,-0.3595,-0.7117,0.5661,-0.25,0.9245,0.3802,0.0,-0.5267,0.6956,0.0,0.7804,0.0,-0.34,0.6124,-0.296,-0.7906,0.0,-0.5423,0.3612,0.3612,0.4753,0.8858,0.0,0.296,0.5423,-0.296,0.4767,-0.7906,-0.8957,-0.7906,0.75,0.0,0.6114,-0.6249,-0.2263,0.7579,0.4215,0.8777,-0.4767,0.0,0.5574,0.0,0.0,0.0,0.8173,0.0,0.0,-0.8176,0.0,-0.296,-0.9371,0.3612,-0.1027,-0.296,-0.8176,0.4019,-0.7117,0.0,0.3612,0.5267,-0.296,0.34,0.2648,0.0,0.9474,-0.296,-0.4404,-0.296,0.4438,-0.34,0.0,-0.3818,0.7267,0.5267,0.7804,0.4767,0.0,0.743,-0.296,-0.296,0.0,-0.34,0.0,0.3612,0.3189,0.0258,0.0,0.7269,-0.7242,0.7112,0.4389,0.3612,0.2648,-0.4215,0.0,-0.7906,0.3612,0.4854,0.567,0.0,0.0772,-0.34,0.2023,-0.4767,-0.5904,0.5423,0.0,-0.7269,0.6124,0.5574,0.0,-0.296,-0.128,0.6124,0.7096,0.3612,0.3612,0.3612,0.3612,0.0,0.0,0.0141,-0.296,0.5859,0.3818,0.0,-0.296,-0.8434,0.0,0.5267,0.4939,0.9854,-0.4767,0.2389,-0.296,-0.5574,0.6114,0.3612,0.7345,-0.5423,-0.1695,-0.8192,0.4201,0.0,0.0258,-0.9371,0.128,0.4019,0.0,-0.1027,0.2648,-0.25,0.0258,-0.1531,-0.7906,-0.3818,-0.807,-0.5994,-0.1531,0.5255,-0.7906,0.8591,0.0,0.0,0.886,0.0,0.6124,0.5423,0.0,0.0258,0.3612,-0.1779,0.5267,0.8613,0.3612,0.25,-0.296,0.7804,-0.5095,0.7267,0.8481,0.8481,-0.6705,0.6124,-0.7845,-0.1779,0.8074,-0.3182,-0.5106,0.75,0.0,0.3612,0.4019,0.7804,0.0,0.3612,-0.3818,0.4201,0.5106,0.743,0.0,0.6114,-0.0516,0.9631,0.6114,-0.5904,-0.8481,-0.802,-0.296,0.6124,0.0,0.0,0.3612,0.5267,0.4019,0.3612,0.1535,0.6114,0.3612,0.0,0.0,-0.1531,0.4795,-0.3818,0.8858,0.9577,0.4767,0.0,0.128,0.0,0.0754,-0.3818,-0.5719,0.5106,0.0,-0.296,0.0,0.5267,-0.5267,0.5255,-0.5267,0.4767,-0.3818,-0.296,-0.7644,-0.5267,0.963,0.128,-0.296,0.3182,0.128,-0.34,0.6617,0.6249,0.0,0.75,-0.296,-0.296,-0.296,0.0,0.2648,0.34,0.7804,0.3612,0.2648,0.1531,0.5859,-0.1779,-0.296,0.0,0.3612,0.235,0.6705,-0.7906,0.0,0.3182,0.6124,-0.3818,0.6705,0.6124,0.9556,0.0258,0.3612,0.4404,0.4767,0.6597,0.6124,-0.128,0.0,-0.296,0.0,-0.5106,-0.7906,-0.5904,-0.296,0.5267,0.2263,0.0387,0.0,0.0,0.296,0.0,0.0,0.2648,-0.1027,-0.34,-0.7906,-0.5809,0.3818,0.0387,-0.296,0.3612,0.3612,-0.1531,0.2648,0.2648,0.8364,-0.3818,-0.296,-0.296,-0.296,-0.296,0.7804,0.4215,0.8442,0.7845,-0.6705,0.0,-0.6705,0.0,0.0,0.3197,0.2023,0.0,-0.296,-0.3818,-0.5904,-0.6249,0.5106,0.0,-0.3818,-0.6705,0.5267,0.0772,0.0,0.0258,0.6114,0.5473,0.0,0.4795,-0.9371,0.6808,0.6249,0.6808,0.2648,0.8126,0.3612,-0.296,0.0,0.0258,0.7783,0.0,-0.5106,-0.6652,0.3612,0.3612,0.3612,0.8613,-0.4404,0.4019,0.8126,0.0,-0.0598,0.7088,0.7804,-0.5267,0.784,0.5267,0.6114,0.7506,-0.8957,-0.296,0.7579,0.6369,-0.8074,-0.4404,-0.296,-0.7717,-0.5719,0.3612,0.2732,-0.296,-0.296,0.6114,-0.3818,-0.4588,0.0,0.0,-0.5904,0.0,-0.5719,-0.8176,0.8765,0.2648,0.0258,0.3612,0.0,0.3612,0.8885,0.0,0.6808,0.8402,-0.3818,0.0,0.3612,0.6124,-0.296,0.4215,0.3612,-0.9371,0.3612,0.6249,0.3612,0.0,0.0,0.5994,-0.765,0.6114,0.3612,0.0,0.7269,0.7579,0.4404,0.5267,0.0,-0.5904,0.0,0.0387,-0.5904,0.4404,0.0,-0.6705,0.0,0.4215,-0.3818,0.8805,0.8173,0.0,-0.296,-0.5904,0.7804,0.0,-0.3818,-0.3818,0.2561,0.1531,0.3612,0.0,0.7804,0.7003,0.4927,0.9568,0.0,0.9423,0.7579,0.3612,0.6463,0.0,-0.6705,0.0,-0.3818,0.2648,-0.6705,0.0,0.0,0.2648,-0.875,0.7506,-0.0598,0.7088,-0.5904,-0.1027,0.6114,0.0,0.3612,0.2648,-0.296,-0.34,0.6114,0.0,-0.296,-0.296,0.8687,0.8481,-0.5106,0.0,0.8481,-0.5267,-0.5106,0.8807,-0.3818,-0.5267,0.3612,0.4543,-0.1779,0.1139,0.7634,-0.4588,0.0,-0.5267,0.3182,-0.3818,0.3612,-0.3818,0.0,0.34,-0.631,0.3612,0.0,-0.3818,0.8613,0.8271,0.4926,0.0173,0.3612,0.0,0.6249,-0.3818,-0.7644,0.743,0.0,0.3612,0.0,-0.1779,0.3612,0.7804,-0.296,0.0,-0.9371,0.0,0.0,-0.631,-0.296,-0.3818,0.6124,-0.5106,0.6124,0.4767,0.6114,-0.296,-0.2682,0.0,-0.3182,0.9523,0.0,-0.3818,0.7712,0.75,-0.1027,0.0,0.8775,0.3612,-0.3818,0.6124,0.0,0.5267,0.9791,0.0,-0.3818,0.0772,-0.4215,-0.5267,-0.296,-0.0772,0.7841,0.743,0.5106,-0.7906,-0.296,-0.3818,0.4019,0.743,0.9062,-0.296,0.4019,0.3612,0.0,0.75,0.9062,0.0,0.75,-0.7906,-0.1027,-0.4767,-0.296,0.8829,0.7804,-0.296,0.5267,0.6892,-0.296,0.0,-0.296,-0.6124,0.1027,0.4019,0.4939,0.3612,-0.6072,0.5081,0.4404,-0.296,0.0,0.9093,-0.296,-0.296,0.3818,0.891,-0.6808,0.2481,0.0,0.0,0.923,0.0516,-0.5719,0.0,0.0,0.8807,0.2484,0.7707,0.0516,-0.5904,-0.9371,-0.5904,-0.0772,-0.3257,0.0,-0.3818,0.5859,0.2263,0.0,-0.3818,0.0387,-0.3818,-0.0196,-0.3071,0.0846,0.0,-0.0013,-0.34,-0.5267,0.6114,0.4767,0.5574,0.3818,-0.296,0.5267,0.6114,0.0,-0.296,-0.296,0.7269,-0.6908,0.0,0.0,-0.802,-0.296,0.6114,-0.3818,0.3612,-0.296,0.5267,0.3612,-0.1531,-0.7906,-0.3818,0.0,-0.296,0.9877,-0.296,0.5574,0.3612,0.9693,0.3612,0.7712,0.4767,0.6997,-0.5423,0.3818,0.0,0.9745,0.75,0.5661,0.6908,0.6114,0.8126,0.6114,-0.1027,-0.3818,0.5267,-0.296,0.0754,0.3612,0.0,0.0,0.891,-0.3818,0.4824,0.6249,0.2023,0.8402,0.0,0.6114,0.3595,0.0,-0.296,0.0258,0.0387,0.5994,-0.296,0.4404,0.4404,0.9348,0.3612,-0.5994,0.6124,0.25,0.0,0.6124,0.75,0.6249,0.0754,0.0387,0.4019,0.6114,-0.4497,-0.5267,-0.2263,0.3818,0.2023,-0.4404,-0.3818,-0.5994,-0.8256,-0.5106,-0.6808,0.3612,-0.8555,0.4389,0.0,0.6124,-0.2584,0.9231,0.6114,0.3612,-0.296,-0.5499,-0.3875,0.6114,0.75,0.5859,-0.1531,-0.1027,0.5267,0.3612,-0.6705,-0.9371,-0.8583,0.75,0.4019,0.6124,0.296,0.3612,-0.296,0.4767,-0.296,-0.0516,0.7804,-0.6705,-0.3272,-0.296,0.9545,-0.5209,-0.5904,0.0,0.5423,0.9062,0.5859,0.5267,-0.9371,-0.7239,0.743,-0.4767,0.6249,0.6908,0.8402,0.0,-0.8381,0.0,0.8268,-0.3612,0.4767,-0.4391,0.5994,-0.3182,0.4019,0.0,-0.9371,0.4767,-0.926,-0.5106,0.0,0.0,-0.296,-0.4588,0.7088,-0.3818,0.0,0.8364,-0.6124,0.886,0.0258,-0.5267,-0.296,0.3769,0.4767,-0.7906,-0.0598,0.2247,0.0,0.2648,0.6124,0.0,0.3612,-0.4404,0.0,0.3612,0.3612,-0.296,0.2648,0.6945,0.128,0.2648,0.6124,0.9378,0.3612,0.3612,0.8481,0.5994,0.2732,-0.1027,-0.5904,0.6953,-0.7906,0.3382,0.0,-0.0598,0.3612,0.0,-0.7906,0.0,-0.3818,-0.3818,-0.6249,-0.5423,0.5574,0.3612,0.9524,-0.34,-0.296,-0.3818,0.0,0.0,0.5423,0.6597,0.4939,-0.7906,0.0,0.0,-0.34,0.1154,-0.296,0.4263,-0.6705,0.4588,0.0,-0.6705,-0.4939,-0.296,0.128,0.4939,-0.296,0.128,0.69,0.0,0.0,0.5499,0.3612,0.0,-0.8176,-0.3818,0.7003,-0.9371,0.0,0.6124,0.3612,0.0,0.75,0.2617,0.0,-0.875,-0.9371,0.3612,-0.1531,0.0,0.3612,-0.296,-0.34,-0.4141,0.0,0.0,0.0,0.3612,-0.4497,0.5267,-0.9201,-0.5423,0.8122,0.3612,-0.296,0.6249,0.0,0.69,0.25,-0.5267,0.0,0.4199,0.0,0.0,0.3612,0.2023,0.6249,0.843,0.9846,-0.2263,-0.296,0.3612,0.5267,0.0,-0.9371,0.0,-0.7906,0.0,0.0258,0.6249,-0.3182,-0.5267,0.7804,0.5267,0.3612,0.0,0.0,0.7506,-0.296,-0.5904,0.0772,-0.1531,0.8302,0.8268,-0.4767,-0.8834,0.3612,-0.5267,-0.0516,0.34,0.8173,-0.4404,0.0,0.7804,-0.5267,-0.9371,-0.4215,-0.5904,0.5081,0.3612,0.0,-0.8625,0.0,-0.5904,0.8613,-0.7906,-0.296,0.3612,0.4019,-0.6249,-0.5859,0.75,0.0,0.6124,0.4404,0.0,0.7804,-0.8381,0.0,0.3612,0.0,-0.5994,0.0,0.7506,0.75,0.4926,-0.8442,0.4019,-0.3736,0.0,-0.5719,0.296,-0.1531,-0.6249,0.9313,0.5255,-0.5267,-0.7906,0.8613,0.2648,0.5661,0.4588,-0.2584,-0.296,-0.3818,0.0,0.0,0.9313,0.2023,-0.7249,0.4767,0.0,-0.296,0.3612,0.3612,0.501,-0.5106,0.5661,-0.0516,0.0,0.0,-0.7351,-0.802,-0.3818,0.7896,-0.296,-0.1027,0.0,-0.1027,0.4767,0.0,0.5267,0.3612,0.0,0.0258,0.0,0.0,-0.6289,-0.1531,-0.4466,-0.128,0.5849,0.0,0.128,0.91,0.5994,0.2648,-0.6486,0.3182,-0.4939,-0.1531,-0.8316,0.1027,-0.34,0.2023,0.836,-0.1779,0.8172,-0.5106,0.5255,-0.4404,-0.34,0.4019,-0.5423,-0.631,0.0,0.5267,0.3612,0.6474,-0.5563,0.9606,0.3612,-0.0598,0.794,0.2648,-0.1779,0.3612,-0.34,-0.3818],\"type\":\"histogram\"}],                        {\"template\":{\"data\":{\"bar\":[{\"error_x\":{\"color\":\"#2a3f5f\"},\"error_y\":{\"color\":\"#2a3f5f\"},\"marker\":{\"line\":{\"color\":\"#E5ECF6\",\"width\":0.5},\"pattern\":{\"fillmode\":\"overlay\",\"size\":10,\"solidity\":0.2}},\"type\":\"bar\"}],\"barpolar\":[{\"marker\":{\"line\":{\"color\":\"#E5ECF6\",\"width\":0.5},\"pattern\":{\"fillmode\":\"overlay\",\"size\":10,\"solidity\":0.2}},\"type\":\"barpolar\"}],\"carpet\":[{\"aaxis\":{\"endlinecolor\":\"#2a3f5f\",\"gridcolor\":\"white\",\"linecolor\":\"white\",\"minorgridcolor\":\"white\",\"startlinecolor\":\"#2a3f5f\"},\"baxis\":{\"endlinecolor\":\"#2a3f5f\",\"gridcolor\":\"white\",\"linecolor\":\"white\",\"minorgridcolor\":\"white\",\"startlinecolor\":\"#2a3f5f\"},\"type\":\"carpet\"}],\"choropleth\":[{\"colorbar\":{\"outlinewidth\":0,\"ticks\":\"\"},\"type\":\"choropleth\"}],\"contour\":[{\"colorbar\":{\"outlinewidth\":0,\"ticks\":\"\"},\"colorscale\":[[0.0,\"#0d0887\"],[0.1111111111111111,\"#46039f\"],[0.2222222222222222,\"#7201a8\"],[0.3333333333333333,\"#9c179e\"],[0.4444444444444444,\"#bd3786\"],[0.5555555555555556,\"#d8576b\"],[0.6666666666666666,\"#ed7953\"],[0.7777777777777778,\"#fb9f3a\"],[0.8888888888888888,\"#fdca26\"],[1.0,\"#f0f921\"]],\"type\":\"contour\"}],\"contourcarpet\":[{\"colorbar\":{\"outlinewidth\":0,\"ticks\":\"\"},\"type\":\"contourcarpet\"}],\"heatmap\":[{\"colorbar\":{\"outlinewidth\":0,\"ticks\":\"\"},\"colorscale\":[[0.0,\"#0d0887\"],[0.1111111111111111,\"#46039f\"],[0.2222222222222222,\"#7201a8\"],[0.3333333333333333,\"#9c179e\"],[0.4444444444444444,\"#bd3786\"],[0.5555555555555556,\"#d8576b\"],[0.6666666666666666,\"#ed7953\"],[0.7777777777777778,\"#fb9f3a\"],[0.8888888888888888,\"#fdca26\"],[1.0,\"#f0f921\"]],\"type\":\"heatmap\"}],\"heatmapgl\":[{\"colorbar\":{\"outlinewidth\":0,\"ticks\":\"\"},\"colorscale\":[[0.0,\"#0d0887\"],[0.1111111111111111,\"#46039f\"],[0.2222222222222222,\"#7201a8\"],[0.3333333333333333,\"#9c179e\"],[0.4444444444444444,\"#bd3786\"],[0.5555555555555556,\"#d8576b\"],[0.6666666666666666,\"#ed7953\"],[0.7777777777777778,\"#fb9f3a\"],[0.8888888888888888,\"#fdca26\"],[1.0,\"#f0f921\"]],\"type\":\"heatmapgl\"}],\"histogram\":[{\"marker\":{\"pattern\":{\"fillmode\":\"overlay\",\"size\":10,\"solidity\":0.2}},\"type\":\"histogram\"}],\"histogram2d\":[{\"colorbar\":{\"outlinewidth\":0,\"ticks\":\"\"},\"colorscale\":[[0.0,\"#0d0887\"],[0.1111111111111111,\"#46039f\"],[0.2222222222222222,\"#7201a8\"],[0.3333333333333333,\"#9c179e\"],[0.4444444444444444,\"#bd3786\"],[0.5555555555555556,\"#d8576b\"],[0.6666666666666666,\"#ed7953\"],[0.7777777777777778,\"#fb9f3a\"],[0.8888888888888888,\"#fdca26\"],[1.0,\"#f0f921\"]],\"type\":\"histogram2d\"}],\"histogram2dcontour\":[{\"colorbar\":{\"outlinewidth\":0,\"ticks\":\"\"},\"colorscale\":[[0.0,\"#0d0887\"],[0.1111111111111111,\"#46039f\"],[0.2222222222222222,\"#7201a8\"],[0.3333333333333333,\"#9c179e\"],[0.4444444444444444,\"#bd3786\"],[0.5555555555555556,\"#d8576b\"],[0.6666666666666666,\"#ed7953\"],[0.7777777777777778,\"#fb9f3a\"],[0.8888888888888888,\"#fdca26\"],[1.0,\"#f0f921\"]],\"type\":\"histogram2dcontour\"}],\"mesh3d\":[{\"colorbar\":{\"outlinewidth\":0,\"ticks\":\"\"},\"type\":\"mesh3d\"}],\"parcoords\":[{\"line\":{\"colorbar\":{\"outlinewidth\":0,\"ticks\":\"\"}},\"type\":\"parcoords\"}],\"pie\":[{\"automargin\":true,\"type\":\"pie\"}],\"scatter\":[{\"marker\":{\"colorbar\":{\"outlinewidth\":0,\"ticks\":\"\"}},\"type\":\"scatter\"}],\"scatter3d\":[{\"line\":{\"colorbar\":{\"outlinewidth\":0,\"ticks\":\"\"}},\"marker\":{\"colorbar\":{\"outlinewidth\":0,\"ticks\":\"\"}},\"type\":\"scatter3d\"}],\"scattercarpet\":[{\"marker\":{\"colorbar\":{\"outlinewidth\":0,\"ticks\":\"\"}},\"type\":\"scattercarpet\"}],\"scattergeo\":[{\"marker\":{\"colorbar\":{\"outlinewidth\":0,\"ticks\":\"\"}},\"type\":\"scattergeo\"}],\"scattergl\":[{\"marker\":{\"colorbar\":{\"outlinewidth\":0,\"ticks\":\"\"}},\"type\":\"scattergl\"}],\"scattermapbox\":[{\"marker\":{\"colorbar\":{\"outlinewidth\":0,\"ticks\":\"\"}},\"type\":\"scattermapbox\"}],\"scatterpolar\":[{\"marker\":{\"colorbar\":{\"outlinewidth\":0,\"ticks\":\"\"}},\"type\":\"scatterpolar\"}],\"scatterpolargl\":[{\"marker\":{\"colorbar\":{\"outlinewidth\":0,\"ticks\":\"\"}},\"type\":\"scatterpolargl\"}],\"scatterternary\":[{\"marker\":{\"colorbar\":{\"outlinewidth\":0,\"ticks\":\"\"}},\"type\":\"scatterternary\"}],\"surface\":[{\"colorbar\":{\"outlinewidth\":0,\"ticks\":\"\"},\"colorscale\":[[0.0,\"#0d0887\"],[0.1111111111111111,\"#46039f\"],[0.2222222222222222,\"#7201a8\"],[0.3333333333333333,\"#9c179e\"],[0.4444444444444444,\"#bd3786\"],[0.5555555555555556,\"#d8576b\"],[0.6666666666666666,\"#ed7953\"],[0.7777777777777778,\"#fb9f3a\"],[0.8888888888888888,\"#fdca26\"],[1.0,\"#f0f921\"]],\"type\":\"surface\"}],\"table\":[{\"cells\":{\"fill\":{\"color\":\"#EBF0F8\"},\"line\":{\"color\":\"white\"}},\"header\":{\"fill\":{\"color\":\"#C8D4E3\"},\"line\":{\"color\":\"white\"}},\"type\":\"table\"}]},\"layout\":{\"annotationdefaults\":{\"arrowcolor\":\"#2a3f5f\",\"arrowhead\":0,\"arrowwidth\":1},\"autotypenumbers\":\"strict\",\"coloraxis\":{\"colorbar\":{\"outlinewidth\":0,\"ticks\":\"\"}},\"colorscale\":{\"diverging\":[[0,\"#8e0152\"],[0.1,\"#c51b7d\"],[0.2,\"#de77ae\"],[0.3,\"#f1b6da\"],[0.4,\"#fde0ef\"],[0.5,\"#f7f7f7\"],[0.6,\"#e6f5d0\"],[0.7,\"#b8e186\"],[0.8,\"#7fbc41\"],[0.9,\"#4d9221\"],[1,\"#276419\"]],\"sequential\":[[0.0,\"#0d0887\"],[0.1111111111111111,\"#46039f\"],[0.2222222222222222,\"#7201a8\"],[0.3333333333333333,\"#9c179e\"],[0.4444444444444444,\"#bd3786\"],[0.5555555555555556,\"#d8576b\"],[0.6666666666666666,\"#ed7953\"],[0.7777777777777778,\"#fb9f3a\"],[0.8888888888888888,\"#fdca26\"],[1.0,\"#f0f921\"]],\"sequentialminus\":[[0.0,\"#0d0887\"],[0.1111111111111111,\"#46039f\"],[0.2222222222222222,\"#7201a8\"],[0.3333333333333333,\"#9c179e\"],[0.4444444444444444,\"#bd3786\"],[0.5555555555555556,\"#d8576b\"],[0.6666666666666666,\"#ed7953\"],[0.7777777777777778,\"#fb9f3a\"],[0.8888888888888888,\"#fdca26\"],[1.0,\"#f0f921\"]]},\"colorway\":[\"#636efa\",\"#EF553B\",\"#00cc96\",\"#ab63fa\",\"#FFA15A\",\"#19d3f3\",\"#FF6692\",\"#B6E880\",\"#FF97FF\",\"#FECB52\"],\"font\":{\"color\":\"#2a3f5f\"},\"geo\":{\"bgcolor\":\"white\",\"lakecolor\":\"white\",\"landcolor\":\"#E5ECF6\",\"showlakes\":true,\"showland\":true,\"subunitcolor\":\"white\"},\"hoverlabel\":{\"align\":\"left\"},\"hovermode\":\"closest\",\"mapbox\":{\"style\":\"light\"},\"paper_bgcolor\":\"white\",\"plot_bgcolor\":\"#E5ECF6\",\"polar\":{\"angularaxis\":{\"gridcolor\":\"white\",\"linecolor\":\"white\",\"ticks\":\"\"},\"bgcolor\":\"#E5ECF6\",\"radialaxis\":{\"gridcolor\":\"white\",\"linecolor\":\"white\",\"ticks\":\"\"}},\"scene\":{\"xaxis\":{\"backgroundcolor\":\"#E5ECF6\",\"gridcolor\":\"white\",\"gridwidth\":2,\"linecolor\":\"white\",\"showbackground\":true,\"ticks\":\"\",\"zerolinecolor\":\"white\"},\"yaxis\":{\"backgroundcolor\":\"#E5ECF6\",\"gridcolor\":\"white\",\"gridwidth\":2,\"linecolor\":\"white\",\"showbackground\":true,\"ticks\":\"\",\"zerolinecolor\":\"white\"},\"zaxis\":{\"backgroundcolor\":\"#E5ECF6\",\"gridcolor\":\"white\",\"gridwidth\":2,\"linecolor\":\"white\",\"showbackground\":true,\"ticks\":\"\",\"zerolinecolor\":\"white\"}},\"shapedefaults\":{\"line\":{\"color\":\"#2a3f5f\"}},\"ternary\":{\"aaxis\":{\"gridcolor\":\"white\",\"linecolor\":\"white\",\"ticks\":\"\"},\"baxis\":{\"gridcolor\":\"white\",\"linecolor\":\"white\",\"ticks\":\"\"},\"bgcolor\":\"#E5ECF6\",\"caxis\":{\"gridcolor\":\"white\",\"linecolor\":\"white\",\"ticks\":\"\"}},\"title\":{\"x\":0.05},\"xaxis\":{\"automargin\":true,\"gridcolor\":\"white\",\"linecolor\":\"white\",\"ticks\":\"\",\"title\":{\"standoff\":15},\"zerolinecolor\":\"white\",\"zerolinewidth\":2},\"yaxis\":{\"automargin\":true,\"gridcolor\":\"white\",\"linecolor\":\"white\",\"ticks\":\"\",\"title\":{\"standoff\":15},\"zerolinecolor\":\"white\",\"zerolinewidth\":2}}},\"title\":{\"text\":\"Sentiment Scores\"}},                        {\"responsive\": true}                    ).then(function(){\n",
              "                            \n",
              "var gd = document.getElementById('ab5e794e-be57-4cbf-a0aa-fd576dfa408b');\n",
              "var x = new MutationObserver(function (mutations, observer) {{\n",
              "        var display = window.getComputedStyle(gd).display;\n",
              "        if (!display || display === 'none') {{\n",
              "            console.log([gd, 'removed!']);\n",
              "            Plotly.purge(gd);\n",
              "            observer.disconnect();\n",
              "        }}\n",
              "}});\n",
              "\n",
              "// Listen for the removal of the full notebook cells\n",
              "var notebookContainer = gd.closest('#notebook-container');\n",
              "if (notebookContainer) {{\n",
              "    x.observe(notebookContainer, {childList: true});\n",
              "}}\n",
              "\n",
              "// Listen for the clearing of the current output cell\n",
              "var outputEl = gd.closest('.output');\n",
              "if (outputEl) {{\n",
              "    x.observe(outputEl, {childList: true});\n",
              "}}\n",
              "\n",
              "                        })                };                            </script>        </div>\n",
              "</body>\n",
              "</html>"
            ]
          },
          "metadata": {}
        }
      ]
    },
    {
      "cell_type": "markdown",
      "source": [
        "### Extracting Adjectives"
      ],
      "metadata": {
        "id": "Cym0sC9uWoD_"
      }
    },
    {
      "cell_type": "code",
      "source": [
        "\n",
        "nltk.download('averaged_perceptron_tagger')\n",
        "\n",
        "\n"
      ],
      "metadata": {
        "colab": {
          "base_uri": "https://localhost:8080/"
        },
        "id": "Jkgx90fUV8DH",
        "outputId": "7b1c5346-afc2-4a3e-e7c8-c969f4c18009"
      },
      "execution_count": 28,
      "outputs": [
        {
          "output_type": "stream",
          "name": "stderr",
          "text": [
            "[nltk_data] Downloading package averaged_perceptron_tagger to\n",
            "[nltk_data]     /root/nltk_data...\n",
            "[nltk_data]   Unzipping taggers/averaged_perceptron_tagger.zip.\n"
          ]
        },
        {
          "output_type": "execute_result",
          "data": {
            "text/plain": [
              "True"
            ]
          },
          "metadata": {},
          "execution_count": 28
        }
      ]
    },
    {
      "cell_type": "code",
      "source": [
        ">>> nltk.download('punkt')"
      ],
      "metadata": {
        "colab": {
          "base_uri": "https://localhost:8080/"
        },
        "id": "bjsjxkGoXA-n",
        "outputId": "5eae1218-7802-46d9-daa4-39f699e9da1c"
      },
      "execution_count": 30,
      "outputs": [
        {
          "output_type": "stream",
          "name": "stderr",
          "text": [
            "[nltk_data] Downloading package punkt to /root/nltk_data...\n",
            "[nltk_data]   Unzipping tokenizers/punkt.zip.\n"
          ]
        },
        {
          "output_type": "execute_result",
          "data": {
            "text/plain": [
              "True"
            ]
          },
          "metadata": {},
          "execution_count": 30
        }
      ]
    },
    {
      "cell_type": "code",
      "source": [
        "# Defining a function to extract the adjectives from a tweet\n",
        "def extract_adjectives(tweet):\n",
        "    # Tokenize the tweet\n",
        "    tokens = nltk.word_tokenize(tweet)\n",
        "    \n",
        "    # Performing part-of-speech tagging on the tokens\n",
        "    pos_tags = nltk.pos_tag(tokens)\n",
        "    \n",
        "    # Extracting the adjectives from the pos tags\n",
        "    adjectives = [word for word, pos in pos_tags if pos == 'JJ']\n",
        "    \n",
        "    return adjectives\n",
        "\n",
        "# Applying the extract_adjectives function to the text column of the DataFrame and store the result in a new column\n",
        "df['adjectives'] = df['text'].apply(extract_adjectives)"
      ],
      "metadata": {
        "id": "czLAL0YuWxIp"
      },
      "execution_count": 31,
      "outputs": []
    },
    {
      "cell_type": "code",
      "source": [
        "# Counting the frequency of each adjective in the adjectives column\n",
        "adjective_counts = df['adjectives'].apply(pd.Series).stack().value_counts()\n",
        "\n",
        "# Print the top 10 most frequent adjectives\n",
        "print(adjective_counts[:10])\n",
        "\n"
      ],
      "metadata": {
        "colab": {
          "base_uri": "https://localhost:8080/"
        },
        "id": "q0TCCsK4W3Yi",
        "outputId": "c407d3ca-61d6-4ea8-8c4d-468139b29fc9"
      },
      "execution_count": 32,
      "outputs": [
        {
          "output_type": "stream",
          "name": "stdout",
          "text": [
            "@            173\n",
            "bg           145\n",
            "streamed     145\n",
            "first        108\n",
            "old           80\n",
            "last          77\n",
            "bad           63\n",
            "black         60\n",
            "difficult     60\n",
            "secret        55\n",
            "dtype: int64\n"
          ]
        }
      ]
    },
    {
      "cell_type": "code",
      "source": [
        "import matplotlib.pyplot as plt\n",
        "\n",
        "# Getting the indices and values of the adjective counts\n",
        "adjective_counts = df['adjectives'].apply(pd.Series).stack().value_counts()\n",
        "adjective_indices = range(len(adjective_counts))\n",
        "adjective_values = adjective_counts.values\n",
        "\n",
        "# Creating the bar plot\n",
        "plt.bar(adjective_indices, adjective_values)\n",
        "\n",
        "# Setting the x-axis labels\n",
        "plt.xticks(adjective_indices, adjective_counts.index, rotation='vertical')\n",
        "\n",
        "# Setting the y-axis label\n",
        "plt.ylabel('Frequency')\n",
        "\n",
        "\n",
        "plt.show()\n"
      ],
      "metadata": {
        "colab": {
          "base_uri": "https://localhost:8080/",
          "height": 362
        },
        "id": "7J30XxRCXWwz",
        "outputId": "a5a40fea-f036-400c-cfb3-c708e0bf41d8"
      },
      "execution_count": 34,
      "outputs": [
        {
          "output_type": "display_data",
          "data": {
            "text/plain": [
              "<Figure size 432x288 with 1 Axes>"
            ],
            "image/png": "[encoded data removed]"
          },
          "metadata": {
            "needs_background": "light"
          }
        }
      ]
    },
    {
      "cell_type": "markdown",
      "source": [
        "## Word Cloud"
      ],
      "metadata": {
        "id": "KdBbO0IHYr0h"
      }
    },
    {
      "cell_type": "code",
      "source": [
        "import numpy as np\n",
        "from wordcloud import WordCloud\n",
        "from PIL import Image\n",
        "\n",
        "\n"
      ],
      "metadata": {
        "id": "wVIQRKqPXea0"
      },
      "execution_count": 36,
      "outputs": []
    },
    {
      "cell_type": "code",
      "source": [
        "from google.colab import files\n",
        "\n",
        "# Upload the image\n",
        "uploaded = files.upload()\n",
        "\n",
        "\n"
      ],
      "metadata": {
        "colab": {
          "base_uri": "https://localhost:8080/",
          "height": 74
        },
        "id": "lHNwnljKYwd8",
        "outputId": "a874b6f4-9151-4b0c-c185-d0ea3a25b3b4"
      },
      "execution_count": 37,
      "outputs": [
        {
          "output_type": "display_data",
          "data": {
            "text/plain": [
              "<IPython.core.display.HTML object>"
            ],
            "text/html": [
              "\n",
              "     <input type=\"file\" id=\"files-7977a388-ad70-4fd6-a3d8-3cb1976bbe66\" name=\"files[]\" multiple disabled\n",
              "        style=\"border:none\" />\n",
              "     <output id=\"result-7977a388-ad70-4fd6-a3d8-3cb1976bbe66\">\n",
              "      Upload widget is only available when the cell has been executed in the\n",
              "      current browser session. Please rerun this cell to enable.\n",
              "      </output>\n",
              "      <script>// Copyright 2017 Google LLC\n",
              "//\n",
              "// Licensed under the Apache License, Version 2.0 (the \"License\");\n",
              "// you may not use this file except in compliance with the License.\n",
              "// You may obtain a copy of the License at\n",
              "//\n",
              "//      http://www.apache.org/licenses/LICENSE-2.0\n",
              "//\n",
              "// Unless required by applicable law or agreed to in writing, software\n",
              "// distributed under the License is distributed on an \"AS IS\" BASIS,\n",
              "// WITHOUT WARRANTIES OR CONDITIONS OF ANY KIND, either express or implied.\n",
              "// See the License for the specific language governing permissions and\n",
              "// limitations under the License.\n",
              "\n",
              "/**\n",
              " * @fileoverview Helpers for google.colab Python module.\n",
              " */\n",
              "(function(scope) {\n",
              "function span(text, styleAttributes = {}) {\n",
              "  const element = document.createElement('span');\n",
              "  element.textContent = text;\n",
              "  for (const key of Object.keys(styleAttributes)) {\n",
              "    element.style[key] = styleAttributes[key];\n",
              "  }\n",
              "  return element;\n",
              "}\n",
              "\n",
              "// Max number of bytes which will be uploaded at a time.\n",
              "const MAX_PAYLOAD_SIZE = 100 * 1024;\n",
              "\n",
              "function _uploadFiles(inputId, outputId) {\n",
              "  const steps = uploadFilesStep(inputId, outputId);\n",
              "  const outputElement = document.getElementById(outputId);\n",
              "  // Cache steps on the outputElement to make it available for the next call\n",
              "  // to uploadFilesContinue from Python.\n",
              "  outputElement.steps = steps;\n",
              "\n",
              "  return _uploadFilesContinue(outputId);\n",
              "}\n",
              "\n",
              "// This is roughly an async generator (not supported in the browser yet),\n",
              "// where there are multiple asynchronous steps and the Python side is going\n",
              "// to poll for completion of each step.\n",
              "// This uses a Promise to block the python side on completion of each step,\n",
              "// then passes the result of the previous step as the input to the next step.\n",
              "function _uploadFilesContinue(outputId) {\n",
              "  const outputElement = document.getElementById(outputId);\n",
              "  const steps = outputElement.steps;\n",
              "\n",
              "  const next = steps.next(outputElement.lastPromiseValue);\n",
              "  return Promise.resolve(next.value.promise).then((value) => {\n",
              "    // Cache the last promise value to make it available to the next\n",
              "    // step of the generator.\n",
              "    outputElement.lastPromiseValue = value;\n",
              "    return next.value.response;\n",
              "  });\n",
              "}\n",
              "\n",
              "/**\n",
              " * Generator function which is called between each async step of the upload\n",
              " * process.\n",
              " * @param {string} inputId Element ID of the input file picker element.\n",
              " * @param {string} outputId Element ID of the output display.\n",
              " * @return {!Iterable<!Object>} Iterable of next steps.\n",
              " */\n",
              "function* uploadFilesStep(inputId, outputId) {\n",
              "  const inputElement = document.getElementById(inputId);\n",
              "  inputElement.disabled = false;\n",
              "\n",
              "  const outputElement = document.getElementById(outputId);\n",
              "  outputElement.innerHTML = '';\n",
              "\n",
              "  const pickedPromise = new Promise((resolve) => {\n",
              "    inputElement.addEventListener('change', (e) => {\n",
              "      resolve(e.target.files);\n",
              "    });\n",
              "  });\n",
              "\n",
              "  const cancel = document.createElement('button');\n",
              "  inputElement.parentElement.appendChild(cancel);\n",
              "  cancel.textContent = 'Cancel upload';\n",
              "  const cancelPromise = new Promise((resolve) => {\n",
              "    cancel.onclick = () => {\n",
              "      resolve(null);\n",
              "    };\n",
              "  });\n",
              "\n",
              "  // Wait for the user to pick the files.\n",
              "  const files = yield {\n",
              "    promise: Promise.race([pickedPromise, cancelPromise]),\n",
              "    response: {\n",
              "      action: 'starting',\n",
              "    }\n",
              "  };\n",
              "\n",
              "  cancel.remove();\n",
              "\n",
              "  // Disable the input element since further picks are not allowed.\n",
              "  inputElement.disabled = true;\n",
              "\n",
              "  if (!files) {\n",
              "    return {\n",
              "      response: {\n",
              "        action: 'complete',\n",
              "      }\n",
              "    };\n",
              "  }\n",
              "\n",
              "  for (const file of files) {\n",
              "    const li = document.createElement('li');\n",
              "    li.append(span(file.name, {fontWeight: 'bold'}));\n",
              "    li.append(span(\n",
              "        `(${file.type || 'n/a'}) - ${file.size} bytes, ` +\n",
              "        `last modified: ${\n",
              "            file.lastModifiedDate ? file.lastModifiedDate.toLocaleDateString() :\n",
              "                                    'n/a'} - `));\n",
              "    const percent = span('0% done');\n",
              "    li.appendChild(percent);\n",
              "\n",
              "    outputElement.appendChild(li);\n",
              "\n",
              "    const fileDataPromise = new Promise((resolve) => {\n",
              "      const reader = new FileReader();\n",
              "      reader.onload = (e) => {\n",
              "        resolve(e.target.result);\n",
              "      };\n",
              "      reader.readAsArrayBuffer(file);\n",
              "    });\n",
              "    // Wait for the data to be ready.\n",
              "    let fileData = yield {\n",
              "      promise: fileDataPromise,\n",
              "      response: {\n",
              "        action: 'continue',\n",
              "      }\n",
              "    };\n",
              "\n",
              "    // Use a chunked sending to avoid message size limits. See b/62115660.\n",
              "    let position = 0;\n",
              "    do {\n",
              "      const length = Math.min(fileData.byteLength - position, MAX_PAYLOAD_SIZE);\n",
              "      const chunk = new Uint8Array(fileData, position, length);\n",
              "      position += length;\n",
              "\n",
              "      const base64 = btoa(String.fromCharCode.apply(null, chunk));\n",
              "      yield {\n",
              "        response: {\n",
              "          action: 'append',\n",
              "          file: file.name,\n",
              "          data: base64,\n",
              "        },\n",
              "      };\n",
              "\n",
              "      let percentDone = fileData.byteLength === 0 ?\n",
              "          100 :\n",
              "          Math.round((position / fileData.byteLength) * 100);\n",
              "      percent.textContent = `${percentDone}% done`;\n",
              "\n",
              "    } while (position < fileData.byteLength);\n",
              "  }\n",
              "\n",
              "  // All done.\n",
              "  yield {\n",
              "    response: {\n",
              "      action: 'complete',\n",
              "    }\n",
              "  };\n",
              "}\n",
              "\n",
              "scope.google = scope.google || {};\n",
              "scope.google.colab = scope.google.colab || {};\n",
              "scope.google.colab._files = {\n",
              "  _uploadFiles,\n",
              "  _uploadFilesContinue,\n",
              "};\n",
              "})(self);\n",
              "</script> "
            ]
          },
          "metadata": {}
        },
        {
          "output_type": "stream",
          "name": "stdout",
          "text": [
            "Saving twitter_logo.png to twitter_logo.png\n"
          ]
        }
      ]
    },
    {
      "cell_type": "code",
      "source": [
        "# Getting the file name of the uploaded image\n",
        "image_file = list(uploaded.keys())[0]\n",
        "\n",
        "# Loading the image into a NumPy array\n",
        "image = np.array(Image.open(image_file))"
      ],
      "metadata": {
        "id": "7hRj2e_ebGdl"
      },
      "execution_count": 38,
      "outputs": []
    },
    {
      "cell_type": "code",
      "source": [
        "\n",
        "\n",
        "# Loading the Twitter logo image\n",
        "twitter_logo = np.array(Image.open('twitter_logo.png'))\n",
        "\n",
        "\n",
        "\n",
        "\n",
        "\n",
        "\n"
      ],
      "metadata": {
        "id": "QwUar68JbmiA"
      },
      "execution_count": 39,
      "outputs": []
    },
    {
      "cell_type": "code",
      "source": [
        "# Converting the adjective counts to a string\n",
        "adjective_counts = df['adjectives'].apply(pd.Series).stack().value_counts()\n",
        "adjective_string = ' '.join(adjective_counts.index)\n",
        "\n",
        "# Creating the word cloud\n",
        "wordcloud = WordCloud(mask=twitter_logo, background_color='white', width=3000, height=1500).generate(adjective_string)\n",
        "\n",
        "# Displaying the word cloud\n",
        "plt.imshow(wordcloud, interpolation='bilinear')\n",
        "plt.axis('off')\n",
        "plt.show()"
      ],
      "metadata": {
        "colab": {
          "base_uri": "https://localhost:8080/",
          "height": 248
        },
        "id": "B5-AwpX_cPnq",
        "outputId": "308f7f25-dbc9-4e24-807c-2898af8949a9"
      },
      "execution_count": 43,
      "outputs": [
        {
          "output_type": "display_data",
          "data": {
            "text/plain": [
              "<Figure size 432x288 with 1 Axes>"
            ],
            "image/png": "[encoded data removed]"
          },
          "metadata": {
            "needs_background": "light"
          }
        }
      ]
    },
    {
      "cell_type": "markdown",
      "source": [
        "## Top words in the word cloud"
      ],
      "metadata": {
        "id": "dxmoJVXDdglj"
      }
    },
    {
      "cell_type": "code",
      "source": [
        "# Getting the word frequencies in the word cloud\n",
        "word_frequencies = wordcloud.words_\n",
        "\n",
        "# Sorting the word frequencies in descending order\n",
        "sorted_frequencies = sorted(word_frequencies.items(), key=lambda x: x[1], reverse=True)\n",
        "\n",
        "# Print the top 10 words\n",
        "for word, frequency in sorted_frequencies[:10]:\n",
        "    print(f'{word}: {frequency}')\n"
      ],
      "metadata": {
        "colab": {
          "base_uri": "https://localhost:8080/"
        },
        "id": "Zvftos6BcTKj",
        "outputId": "816ec828-4d25-42dc-a71c-c4e2e8b655b2"
      },
      "execution_count": 44,
      "outputs": [
        {
          "output_type": "stream",
          "name": "stdout",
          "text": [
            "t co: 1.0\n",
            "year old: 0.17647058823529413\n",
            "high: 0.11764705882352941\n",
            "year: 0.09803921568627451\n",
            "long: 0.0784313725490196\n",
            "Happy: 0.0784313725490196\n",
            "s: 0.058823529411764705\n",
            "month: 0.058823529411764705\n",
            "low: 0.058823529411764705\n",
            "watched: 0.058823529411764705\n"
          ]
        }
      ]
    },
    {
      "cell_type": "code",
      "source": [],
      "metadata": {
        "id": "JF5-_xHTd_qM"
      },
      "execution_count": null,
      "outputs": []
    }
  ],
  "metadata": {
    "colab": {
      "provenance": [],
      "authorship_tag": "ABX9TyP7oCxvULXqHgVY0Ste6aXz",
      "include_colab_link": true
    },
    "kernelspec": {
      "display_name": "Python 3",
      "name": "python3"
    },
    "language_info": {
      "name": "python"
    }
  },
  "nbformat": 4,
  "nbformat_minor": 0
}