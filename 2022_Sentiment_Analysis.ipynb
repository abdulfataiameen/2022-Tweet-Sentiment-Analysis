{
  "cells": [
    {
      "cell_type": "markdown",
      "metadata": {
        "id": "view-in-github",
        "colab_type": "text"
      },
      "source": [
        "<a href=\"https://colab.research.google.com/github/damilola2010/2022-Tweet-Sentiment-Analysis/blob/main/2022_Sentiment_Analysis.ipynb\" target=\"_parent\"><img src=\"https://colab.research.google.com/assets/colab-badge.svg\" alt=\"Open In Colab\"/></a>"
      ]
    },
    {
      "cell_type": "markdown",
      "metadata": {
        "id": "lUavi6F0ph3X"
      },
      "source": [
        "# Introduction\n",
        "\n",
        "The aim of this project was to use natural language processing techniques to conduct sentiment analysis on Twitter data. In January 2022, I wanted to gain insight into the feelings of Twitter users about the year. To complete the project, a number of Python libraries were utilized, including Pandas, Tweepy, NLTK, TextBlob, MatPlotlib, WordCloud, Emot, and Plotly. These libraries were used for tasks such as data cleaning, mining tweets, sentiment analysis, data exploration, identifying emojis, and data visualization."
      ]
    },
    {
      "cell_type": "markdown",
      "metadata": {
        "id": "iqK5IqlGp_kF"
      },
      "source": [
        "### Install Necessary Lib and Packages"
      ]
    },
    {
      "cell_type": "code",
      "execution_count": 1,
      "metadata": {
        "colab": {
          "base_uri": "https://localhost:8080/"
        },
        "id": "S_UUn9gcpe46",
        "outputId": "f9ddfbe2-6a0c-4ec8-eeb3-5957adcc0592"
      },
      "outputs": [
        {
          "output_type": "stream",
          "name": "stdout",
          "text": [
            "Looking in indexes: https://pypi.org/simple, https://us-python.pkg.dev/colab-wheels/public/simple/\n",
            "Collecting vaderSentiment\n",
            "  Downloading vaderSentiment-3.3.2-py2.py3-none-any.whl (125 kB)\n",
            "\u001b[2K     \u001b[90m━━━━━━━━━━━━━━━━━━━━━━━━━━━━━━━━━━━━━━\u001b[0m \u001b[32m126.0/126.0 KB\u001b[0m \u001b[31m11.7 MB/s\u001b[0m eta \u001b[36m0:00:00\u001b[0m\n",
            "\u001b[?25hRequirement already satisfied: requests in /usr/local/lib/python3.8/dist-packages (from vaderSentiment) (2.25.1)\n",
            "Requirement already satisfied: certifi>=2017.4.17 in /usr/local/lib/python3.8/dist-packages (from requests->vaderSentiment) (2022.12.7)\n",
            "Requirement already satisfied: idna<3,>=2.5 in /usr/local/lib/python3.8/dist-packages (from requests->vaderSentiment) (2.10)\n",
            "Requirement already satisfied: urllib3<1.27,>=1.21.1 in /usr/local/lib/python3.8/dist-packages (from requests->vaderSentiment) (1.24.3)\n",
            "Requirement already satisfied: chardet<5,>=3.0.2 in /usr/local/lib/python3.8/dist-packages (from requests->vaderSentiment) (4.0.0)\n",
            "Installing collected packages: vaderSentiment\n",
            "Successfully installed vaderSentiment-3.3.2\n"
          ]
        }
      ],
      "source": [
        "pip install vaderSentiment"
      ]
    },
    {
      "cell_type": "code",
      "execution_count": 2,
      "metadata": {
        "colab": {
          "base_uri": "https://localhost:8080/"
        },
        "id": "YjC5LPKxqb29",
        "outputId": "64574134-ca26-478c-d035-fa7bf05a9c54"
      },
      "outputs": [
        {
          "output_type": "stream",
          "name": "stderr",
          "text": [
            "[nltk_data] Downloading package stopwords to /root/nltk_data...\n",
            "[nltk_data]   Unzipping corpora/stopwords.zip.\n"
          ]
        },
        {
          "output_type": "execute_result",
          "data": {
            "text/plain": [
              "True"
            ]
          },
          "metadata": {},
          "execution_count": 2
        }
      ],
      "source": [
        "  >>> import nltk\n",
        "  >>> nltk.download('stopwords')"
      ]
    },
    {
      "cell_type": "code",
      "execution_count": 3,
      "metadata": {
        "id": "WJrvGdB8rXYN"
      },
      "outputs": [],
      "source": [
        "import tweepy\n",
        "import re\n",
        "from textblob import TextBlob\n",
        "import matplotlib.pyplot as plt"
      ]
    },
    {
      "cell_type": "code",
      "execution_count": 4,
      "metadata": {
        "id": "8uafKErmrhY0"
      },
      "outputs": [],
      "source": [
        "from vaderSentiment.vaderSentiment import SentimentIntensityAnalyzer"
      ]
    },
    {
      "cell_type": "code",
      "execution_count": 5,
      "metadata": {
        "id": "qRLjwIrjrsz5"
      },
      "outputs": [],
      "source": [
        "import csv"
      ]
    },
    {
      "cell_type": "code",
      "execution_count": 6,
      "metadata": {
        "id": "CSe-Ohbsr03_"
      },
      "outputs": [],
      "source": [
        "\n",
        "from nltk.corpus import stopwords\n",
        "from nltk.stem.porter import PorterStemmer\n"
      ]
    },
    {
      "cell_type": "code",
      "execution_count": 7,
      "metadata": {
        "id": "r7CGoKPEr_yG"
      },
      "outputs": [],
      "source": [
        "import glob # to retrieve files/pathnames matching a specified pattern. \n",
        "import random # generating random numbers\n",
        "import pandas as pd # for data manipulation and analysis\n",
        "import requests # to send HTTP requests\n",
        "from PIL import Image # for opening, manipulating, and saving many different image file f\n",
        "import numpy as np # for working with arrays and carrying out mathematical operations. Pandas is built on Numpy\n",
        "import string # Inbuilt string library"
      ]
    },
    {
      "cell_type": "markdown",
      "metadata": {
        "id": "arjxBoiesbqY"
      },
      "source": [
        "# Mining Tweets"
      ]
    },
    {
      "cell_type": "code",
      "execution_count": 8,
      "metadata": {
        "id": "BlM2O--ysZ2Q"
      },
      "outputs": [],
      "source": [
        "# Putting Twitter Api keys and Tokens\n",
        "consumer_key = \"Wqdwq2M7tkOVvY5lUTbV4feQ8\"\n",
        "consumer_secret = \"KyeJFbGYNzWxR0s5nUe97aLBSFEF17cKQ9EgSQMBu1Yz2DZp8m\"\n",
        "access_token = \"1321314967812034566-9vFJrCLeNr8sgGlOcsyk7cw71luyvu\"\n",
        "access_token_secret = \"ERbnjWJ6rumv24meh9JxrqS2j6b3XBzP6zHpaDn5V91r9\"\n"
      ]
    },
    {
      "cell_type": "code",
      "execution_count": 10,
      "metadata": {
        "id": "9uw4BfTNtyrg"
      },
      "outputs": [],
      "source": [
        "auth = tweepy.OAuthHandler(consumer_key, consumer_secret) # Pass in Consumer key and secret for authentication by API\n",
        "auth.set_access_token(access_token, access_token_secret) # Pass in Access key and secret for authentication by API\n",
        "api = tweepy.API(auth) "
      ]
    },
    {
      "cell_type": "code",
      "execution_count": 13,
      "metadata": {
        "id": "LcAQYGd8uHyH"
      },
      "outputs": [],
      "source": [
        "tweet_list = [tweet for tweet in tweepy.Cursor(api.search,\n",
        "                                q=\"2022 was a\",\n",
        "                                lang=\"en\",\n",
        "                                since_id=\"2022-12-12\",\n",
        "                                tweet_mode='extended').items(2000)]"
      ]
    },
    {
      "cell_type": "markdown",
      "source": [
        "## Processing Tweets"
      ],
      "metadata": {
        "id": "tZptqcdJQiHG"
      }
    },
    {
      "cell_type": "code",
      "source": [
        "\n",
        "# Initialize the stemmer and stop words list\n",
        "stemmer = PorterStemmer()\n",
        "stop_words = set(stopwords.words(\"english\"))\n",
        "\n",
        "# Pre-process the tweets\n",
        "processed_tweets = []\n",
        "for tweet in tweet_list:\n",
        "    # Remove special characters, URLs, and hashtags\n",
        "    text = re.sub(r'[^a-zA-Z0-9]', ' ', tweet.full_text)\n",
        "    text = re.sub(r'https?://\\S+', ' ', text)\n",
        "    text = re.sub(r'#', ' ', text)\n",
        "    \n",
        "    # Lowercase and split the text into words\n",
        "    words = text.lower().split()\n",
        "    \n",
        "    # Remove stop words and stem the remaining words\n",
        "    stemmed_words = [stemmer.stem(word) for word in words if word not in stop_words]\n",
        "    \n",
        "    # Join the stemmed words back into a single string\n",
        "    processed_tweet = ' '.join(stemmed_words)\n",
        "    \n"
      ],
      "metadata": {
        "id": "nIOcjA7LPZPE"
      },
      "execution_count": 14,
      "outputs": []
    },
    {
      "cell_type": "markdown",
      "source": [
        "## Output Processed tweets to CSV"
      ],
      "metadata": {
        "id": "8L_dBLR6QzGM"
      }
    },
    {
      "cell_type": "code",
      "source": [
        "\n",
        "\n",
        "# Open the CSV file in write mode\n",
        "with open('processed_tweets.csv', 'w', newline='', encoding='utf-8') as csv_file:\n",
        "    # Create a CSV writer object\n",
        "    writer = csv.writer(csv_file, delimiter=',')\n",
        "    \n",
        "  # Write the column names\n",
        "    writer.writerow(['tweet_id', 'created_at', 'text', 'location', 'likes'])\n",
        "    \n",
        "    # Iterate through the processed tweets and write each row to the CSV file\n",
        "    for tweet in tweet_list:\n",
        "        tweet_id = tweet.id\n",
        "        created_at = tweet.created_at\n",
        "        text = tweet.full_text\n",
        "        location = tweet.user.location\n",
        "        likes = tweet.favorite_count\n",
        "        writer.writerow([tweet_id, created_at, text, location, likes])"
      ],
      "metadata": {
        "id": "-W8wrL57QqC3"
      },
      "execution_count": 16,
      "outputs": []
    },
    {
      "cell_type": "code",
      "source": [
        "# Load the CSV file into a DataFrame\n",
        "df = pd.read_csv(\"processed_tweets.csv\")\n",
        "\n",
        "# Print the first few rows of the DataFrame\n",
        "df.head()"
      ],
      "metadata": {
        "colab": {
          "base_uri": "https://localhost:8080/",
          "height": 206
        },
        "id": "R_uUmTahQ8hs",
        "outputId": "95d5af5f-2337-4a89-cbee-4eabf7310040"
      },
      "execution_count": 17,
      "outputs": [
        {
          "output_type": "execute_result",
          "data": {
            "text/plain": [
              "              tweet_id           created_at  \\\n",
              "0  1611282681345757185  2023-01-06 08:45:02   \n",
              "1  1611282672495792128  2023-01-06 08:44:59   \n",
              "2  1611282634243559424  2023-01-06 08:44:50   \n",
              "3  1611282595433660416  2023-01-06 08:44:41   \n",
              "4  1611282592539582466  2023-01-06 08:44:40   \n",
              "\n",
              "                                                text                location  \\\n",
              "0  @yakyucosmo I know there are a lot of opinions...  誰よりも侍っぽいスティーブン・クワン激推し🏟   \n",
              "1  RT @On3sports: 🚨BREAKING🚨 Jackson State WR tra...          On The Field 🏈   \n",
              "2  RT @thenewsmovement: Morning everyone! This is...  West Midlands, England   \n",
              "3  RT @mingaya_TEEZ: just wanted to remind everyo...         They/He/She/Any   \n",
              "4  RT @thekhrc: This is a frightening crime but i...                 Nairobi   \n",
              "\n",
              "   likes  \n",
              "0      0  \n",
              "1      0  \n",
              "2      0  \n",
              "3      0  \n",
              "4      0  "
            ],
            "text/html": [
              "\n",
              "  <div id=\"df-330c4d63-baf2-4b9d-8c70-527899b86f95\">\n",
              "    <div class=\"colab-df-container\">\n",
              "      <div>\n",
              "<style scoped>\n",
              "    .dataframe tbody tr th:only-of-type {\n",
              "        vertical-align: middle;\n",
              "    }\n",
              "\n",
              "    .dataframe tbody tr th {\n",
              "        vertical-align: top;\n",
              "    }\n",
              "\n",
              "    .dataframe thead th {\n",
              "        text-align: right;\n",
              "    }\n",
              "</style>\n",
              "<table border=\"1\" class=\"dataframe\">\n",
              "  <thead>\n",
              "    <tr style=\"text-align: right;\">\n",
              "      <th></th>\n",
              "      <th>tweet_id</th>\n",
              "      <th>created_at</th>\n",
              "      <th>text</th>\n",
              "      <th>location</th>\n",
              "      <th>likes</th>\n",
              "    </tr>\n",
              "  </thead>\n",
              "  <tbody>\n",
              "    <tr>\n",
              "      <th>0</th>\n",
              "      <td>1611282681345757185</td>\n",
              "      <td>2023-01-06 08:45:02</td>\n",
              "      <td>@yakyucosmo I know there are a lot of opinions...</td>\n",
              "      <td>誰よりも侍っぽいスティーブン・クワン激推し🏟</td>\n",
              "      <td>0</td>\n",
              "    </tr>\n",
              "    <tr>\n",
              "      <th>1</th>\n",
              "      <td>1611282672495792128</td>\n",
              "      <td>2023-01-06 08:44:59</td>\n",
              "      <td>RT @On3sports: 🚨BREAKING🚨 Jackson State WR tra...</td>\n",
              "      <td>On The Field 🏈</td>\n",
              "      <td>0</td>\n",
              "    </tr>\n",
              "    <tr>\n",
              "      <th>2</th>\n",
              "      <td>1611282634243559424</td>\n",
              "      <td>2023-01-06 08:44:50</td>\n",
              "      <td>RT @thenewsmovement: Morning everyone! This is...</td>\n",
              "      <td>West Midlands, England</td>\n",
              "      <td>0</td>\n",
              "    </tr>\n",
              "    <tr>\n",
              "      <th>3</th>\n",
              "      <td>1611282595433660416</td>\n",
              "      <td>2023-01-06 08:44:41</td>\n",
              "      <td>RT @mingaya_TEEZ: just wanted to remind everyo...</td>\n",
              "      <td>They/He/She/Any</td>\n",
              "      <td>0</td>\n",
              "    </tr>\n",
              "    <tr>\n",
              "      <th>4</th>\n",
              "      <td>1611282592539582466</td>\n",
              "      <td>2023-01-06 08:44:40</td>\n",
              "      <td>RT @thekhrc: This is a frightening crime but i...</td>\n",
              "      <td>Nairobi</td>\n",
              "      <td>0</td>\n",
              "    </tr>\n",
              "  </tbody>\n",
              "</table>\n",
              "</div>\n",
              "      <button class=\"colab-df-convert\" onclick=\"convertToInteractive('df-330c4d63-baf2-4b9d-8c70-527899b86f95')\"\n",
              "              title=\"Convert this dataframe to an interactive table.\"\n",
              "              style=\"display:none;\">\n",
              "        \n",
              "  <svg xmlns=\"http://www.w3.org/2000/svg\" height=\"24px\"viewBox=\"0 0 24 24\"\n",
              "       width=\"24px\">\n",
              "    <path d=\"M0 0h24v24H0V0z\" fill=\"none\"/>\n",
              "    <path d=\"M18.56 5.44l.94 2.06.94-2.06 2.06-.94-2.06-.94-.94-2.06-.94 2.06-2.06.94zm-11 1L8.5 8.5l.94-2.06 2.06-.94-2.06-.94L8.5 2.5l-.94 2.06-2.06.94zm10 10l.94 2.06.94-2.06 2.06-.94-2.06-.94-.94-2.06-.94 2.06-2.06.94z\"/><path d=\"M17.41 7.96l-1.37-1.37c-.4-.4-.92-.59-1.43-.59-.52 0-1.04.2-1.43.59L10.3 9.45l-7.72 7.72c-.78.78-.78 2.05 0 2.83L4 21.41c.39.39.9.59 1.41.59.51 0 1.02-.2 1.41-.59l7.78-7.78 2.81-2.81c.8-.78.8-2.07 0-2.86zM5.41 20L4 18.59l7.72-7.72 1.47 1.35L5.41 20z\"/>\n",
              "  </svg>\n",
              "      </button>\n",
              "      \n",
              "  <style>\n",
              "    .colab-df-container {\n",
              "      display:flex;\n",
              "      flex-wrap:wrap;\n",
              "      gap: 12px;\n",
              "    }\n",
              "\n",
              "    .colab-df-convert {\n",
              "      background-color: #E8F0FE;\n",
              "      border: none;\n",
              "      border-radius: 50%;\n",
              "      cursor: pointer;\n",
              "      display: none;\n",
              "      fill: #1967D2;\n",
              "      height: 32px;\n",
              "      padding: 0 0 0 0;\n",
              "      width: 32px;\n",
              "    }\n",
              "\n",
              "    .colab-df-convert:hover {\n",
              "      background-color: #E2EBFA;\n",
              "      box-shadow: 0px 1px 2px rgba(60, 64, 67, 0.3), 0px 1px 3px 1px rgba(60, 64, 67, 0.15);\n",
              "      fill: #174EA6;\n",
              "    }\n",
              "\n",
              "    [theme=dark] .colab-df-convert {\n",
              "      background-color: #3B4455;\n",
              "      fill: #D2E3FC;\n",
              "    }\n",
              "\n",
              "    [theme=dark] .colab-df-convert:hover {\n",
              "      background-color: #434B5C;\n",
              "      box-shadow: 0px 1px 3px 1px rgba(0, 0, 0, 0.15);\n",
              "      filter: drop-shadow(0px 1px 2px rgba(0, 0, 0, 0.3));\n",
              "      fill: #FFFFFF;\n",
              "    }\n",
              "  </style>\n",
              "\n",
              "      <script>\n",
              "        const buttonEl =\n",
              "          document.querySelector('#df-330c4d63-baf2-4b9d-8c70-527899b86f95 button.colab-df-convert');\n",
              "        buttonEl.style.display =\n",
              "          google.colab.kernel.accessAllowed ? 'block' : 'none';\n",
              "\n",
              "        async function convertToInteractive(key) {\n",
              "          const element = document.querySelector('#df-330c4d63-baf2-4b9d-8c70-527899b86f95');\n",
              "          const dataTable =\n",
              "            await google.colab.kernel.invokeFunction('convertToInteractive',\n",
              "                                                     [key], {});\n",
              "          if (!dataTable) return;\n",
              "\n",
              "          const docLinkHtml = 'Like what you see? Visit the ' +\n",
              "            '<a target=\"_blank\" href=https://colab.research.google.com/notebooks/data_table.ipynb>data table notebook</a>'\n",
              "            + ' to learn more about interactive tables.';\n",
              "          element.innerHTML = '';\n",
              "          dataTable['output_type'] = 'display_data';\n",
              "          await google.colab.output.renderOutput(dataTable, element);\n",
              "          const docLink = document.createElement('div');\n",
              "          docLink.innerHTML = docLinkHtml;\n",
              "          element.appendChild(docLink);\n",
              "        }\n",
              "      </script>\n",
              "    </div>\n",
              "  </div>\n",
              "  "
            ]
          },
          "metadata": {},
          "execution_count": 17
        }
      ]
    },
    {
      "cell_type": "code",
      "source": [],
      "metadata": {
        "id": "ZhJcNemKRRqG"
      },
      "execution_count": null,
      "outputs": []
    },
    {
      "cell_type": "markdown",
      "source": [
        "## Exploratory Data Analysis"
      ],
      "metadata": {
        "id": "5EbxJ1jaReTV"
      }
    },
    {
      "cell_type": "code",
      "source": [
        "df.shape #Get number of rows and columns"
      ],
      "metadata": {
        "colab": {
          "base_uri": "https://localhost:8080/"
        },
        "id": "tNVBqCF8RiT-",
        "outputId": "e4c83f05-ebfb-4eb3-d29e-6c8da453b8b8"
      },
      "execution_count": 19,
      "outputs": [
        {
          "output_type": "execute_result",
          "data": {
            "text/plain": [
              "(2000, 5)"
            ]
          },
          "metadata": {},
          "execution_count": 19
        }
      ]
    },
    {
      "cell_type": "code",
      "source": [
        "df.duplicated(subset='tweet_id').sum() # Check for duplicate values"
      ],
      "metadata": {
        "colab": {
          "base_uri": "https://localhost:8080/"
        },
        "id": "Fl5bIh-HRvXw",
        "outputId": "456cdd24-b35e-43b1-f447-7e7ae7e163cd"
      },
      "execution_count": 20,
      "outputs": [
        {
          "output_type": "execute_result",
          "data": {
            "text/plain": [
              "0"
            ]
          },
          "metadata": {},
          "execution_count": 20
        }
      ]
    },
    {
      "cell_type": "code",
      "source": [
        "df.isna().any() # Check for \"NaN\" values"
      ],
      "metadata": {
        "colab": {
          "base_uri": "https://localhost:8080/"
        },
        "id": "PGEKIC0vR9TB",
        "outputId": "3d2d8a9b-5791-47a6-a06c-f0ec84702885"
      },
      "execution_count": 21,
      "outputs": [
        {
          "output_type": "execute_result",
          "data": {
            "text/plain": [
              "tweet_id      False\n",
              "created_at    False\n",
              "text          False\n",
              "location       True\n",
              "likes         False\n",
              "dtype: bool"
            ]
          },
          "metadata": {},
          "execution_count": 21
        }
      ]
    },
    {
      "cell_type": "code",
      "source": [
        "df['location']=df['location'].fillna('No location') # Replace \"NaN\" values with \"No Location\""
      ],
      "metadata": {
        "id": "JaeHG1ogSEvR"
      },
      "execution_count": 22,
      "outputs": []
    },
    {
      "cell_type": "code",
      "source": [
        "df.isna().any() # Check for \"NaN\" values"
      ],
      "metadata": {
        "colab": {
          "base_uri": "https://localhost:8080/"
        },
        "id": "c8rSAd6uSRjN",
        "outputId": "a55e1e2a-8da8-4fed-d21d-c41d4c720716"
      },
      "execution_count": 23,
      "outputs": [
        {
          "output_type": "execute_result",
          "data": {
            "text/plain": [
              "tweet_id      False\n",
              "created_at    False\n",
              "text          False\n",
              "location      False\n",
              "likes         False\n",
              "dtype: bool"
            ]
          },
          "metadata": {},
          "execution_count": 23
        }
      ]
    },
    {
      "cell_type": "code",
      "source": [
        "import plotly.express as px\n",
        "\n",
        "# Group the DataFrame by location and count the number of tweets for each location\n",
        "location_counts = df.groupby(\"location\").size().reset_index(name=\"count\")\n",
        "\n",
        "# Creating a choropleth map showing the number of tweets per location\n",
        "fig = px.choropleth(location_counts, \n",
        "                    locations=\"location\", \n",
        "                    color=\"count\",\n",
        "                    title=\"Number of Tweets per Location\",\n",
        "                    color_continuous_scale=px.colors.sequential.Plasma)\n",
        "fig.show()\n"
      ],
      "metadata": {
        "colab": {
          "base_uri": "https://localhost:8080/",
          "height": 542
        },
        "id": "HRFR81ZySVrA",
        "outputId": "24a11c38-199e-492e-81c4-0c0e47626762"
      },
      "execution_count": 24,
      "outputs": [
        {
          "output_type": "display_data",
          "data": {
            "text/html": [
              "<html>\n",
              "<head><meta charset=\"utf-8\" /></head>\n",
              "<body>\n",
              "    <div>            <script src=\"https://cdnjs.cloudflare.com/ajax/libs/mathjax/2.7.5/MathJax.js?config=TeX-AMS-MML_SVG\"></script><script type=\"text/javascript\">if (window.MathJax) {MathJax.Hub.Config({SVG: {font: \"STIX-Web\"}});}</script>                <script type=\"text/javascript\">window.PlotlyConfig = {MathJaxConfig: 'local'};</script>\n",
              "        <script src=\"https://cdn.plot.ly/plotly-2.8.3.min.js\"></script>                <div id=\"1c330ddc-e071-4299-856a-c102bee515a8\" class=\"plotly-graph-div\" style=\"height:525px; width:100%;\"></div>            <script type=\"text/javascript\">                                    window.PLOTLYENV=window.PLOTLYENV || {};                                    if (document.getElementById(\"1c330ddc-e071-4299-856a-c102bee515a8\")) {                    Plotly.newPlot(                        \"1c330ddc-e071-4299-856a-c102bee515a8\",                        [{\"coloraxis\":\"coloraxis\",\"geo\":\"geo\",\"hovertemplate\":\"location=%{location}<br>count=%{z}<extra></extra>\",\"locations\":[\"\\n     totally nondating.\\n     contains a little bit of \\ud835\\ude43\\ud835\\ude56\\ud835\\ude67\\ud835\\ude68\\ud835\\ude5d\\ud835\\ude6c\\ud835\\ude64\\ud835\\ude67\\ud835\\ude59\\n\",\"\\nPart Of, \\n#\\ud835\\udc01\\ud835\\udc00\\ud835\\udc03\\ud835\\udc00\\ud835\\udc0c  TheM  \\u1d1b\\u1d0b\\u0299   Bagja \\nBlekboys      404      Watados \\nEL KARTIKA of  The Prediksi \\n\",\"\\nras. riguel\\n#1 ras devotee\\nli\",\"\\n\\u034f\\u034f\\u034f\\u034f\\u034f\\u034f\\u00a0\\u00a0\\u00a0\\u00a0\\u00a0\\u00a0my husband @markleegs's\\n\\ud83c\\udfe0 idiotologie, fsgank, sechan, schr\\u00f6der\\n      fams \\n\\n\\u2800\",\"\\n\\u2765\\ufe0ewritten by a fan, 1994.\\n\\u2765\\ufe0e po : JSJCHU,anadia.\\n\",\"\\n\\u2800\\u2800\\ud80c\\udc8b \\u08ea\\u02d6   \\uc788\\uc9c0 \\u2500\\u2500 \\uc2e0\\uc720\\ub098 \\u2800\\ufe34\\ud835\\udd3d\\ud835\\udd52\\ud835\\udd66\\ud835\\udd69\\uff0c2003  \\ud80c\\uddec \\u08ea\\n\\u2800\\u2800\\u2800\\u2800 \\u2800\\u0fd9\\u20db\\u035c\\u0fda\\u20db\\u0fd9\\u20db\\u035c\\u0fda\\u20db \\u0b68\\u0b67 \\u0fd9\\u20db\\u035c\\u0fda\\u20db\\u0fd9\\u20db\\u035c\\u0fda\\u20db \\u0b68\\u0b67 \\u0fd9\\u20db\\u035c\\u0fda\\u20db\\u0fd9\\u20db\\u035c\\u0fda\\u20db \\u0b68\\u0b67 \\u0fd9\\u20db\\u035c\\u0fda\\u20db\\u0fd9\\u20db\\u035c\\u0fda\\u20db\\n\\u2800\\u2800\\u2800\\u2800  Queen Odette of Maharatu \\u0ed1 Bayik\\n\",\" \",\"  \\u65e5\\u672c\\u3000Japan\\u3000Jap\\u00f3n\\u3000 \\u042f\\u043f\\u043e\\u043d\\u0438\\u044f\\u3000\\uc77c\\ubcf8\",\" 'Earn $Data here \\ud83d\\udc49'\",\" Aotearoa New Zealand\",\" God's Own Country\",\" India\",\" MI\",\" N. Ca.  Mountain.\",\" Nigeria\",\" Pakistan\",\" South Africa\",\" btspopper\",\" \\ud83c\\uddf2\\ud83c\\uddfe | 30 | she/they\",\"#LOL\",\"(+62)\",\"(here since 2012)\",\"(\\uae30\\ud604) (\\uc6d0\\uc9c4) (\\uc0ac\\ubb34\\uc5d8)\",\"):)\",\".--. .- --\",\"....\",\".ke\",\"00l\",\"02' liner. she/her. \",\"02\\uc988 she/her\",\"12.078289,-68.879413\",\"127.0.0.1\",\"18 yo\",\"18 | she/her\",\"19\",\"19 \\u2022 she/any prns\",\"19, she/her, PH\",\"20+\",\"20+ she/her \\u2014 fan & writing account.\\nworks on pinned .\\u141f oc & ships \\ud83d\\udcc2\\n23.1317\\u00b0 N, 113.2663\\u00b0 E\",\"20th\",\"21 | she/her | ateez\",\"21 \\u2022 she/they\",\"22 yr/o \\u264d any pronouns\",\"22 \\u25aa\\ufe0fNavajo\\u25aa\\ufe0fshe/her\",\"23 - He/Him\",\"23 \\u2728\",\"23, Sausage Lane, The Universe\",\"27/07/87, Surrey, England.\",\"35\\u00b041\\u203222.22\\u2033N 139\\u00b041\\u203230.12\\u2033E\",\"96\\uc988\",\"97'\",\"99\\uc988\\ud83c\\uddee\\ud83c\\udde9\",\"Aberdeen\",\"Abia, Aba, Biafra.\",\"Abu Dhabi\",\"Abuja\",\"Abuja, Nigeria\",\"Abundance\",\"Accra, Ghana\",\"Adelaide Sth Australia\",\"Adelaide, Australia\",\"Africa\",\"Ahmedabad\",\"Akwa Ibom, Nigeria\",\"Alba\",\"Alicante, Espa\\u00f1a\\ud83c\\uddea\\ud83c\\uddf8\\ud83c\\udff3\\ufe0f\\u200d\\ud83c\\udf08\",\"Amazon Lilyon\",\"America\",\"America \\ud83d\\udc26\",\"Amersfoort\",\"Amersham, Buckinghamshire\",\"Amwythig\",\"An exchange near you!\",\"Anambra, Nigeria\",\"Anerley, Croydon\",\"Anti Romantic.\",\"Any where\",\"Aotearoa 1010\",\"Asia\",\"At a Racetrack\",\"At the left \",\"Atlanta, GA\",\"Austin, TX\",\"Australia\",\"Australia July 2014\",\"Australia-wide city, rural\",\"Autzen Stadium\",\"BACKYARDIGAN\",\"BRONXLYN\",\"Balasore\",\"Bandung, Jawa Barat\",\"Bangalore\",\"Bangkok, Thailand\",\"Bangladesh\",\"Barnsley, England\",\"Bat Country\",\"Batu Buruk, Terengganu\",\"Bayern, Deutschland\",\"Beirut / Athens\",\"Belfast, Northern Ireland\",\"Bengaluru, India\",\"Bengaluru,\\u0c95\\u0cb0\\u0ccd\\u0ca8\\u0cbe\\u0c9f\\u0c95,Bharatha\",\"Benue, Nigeria\",\"Berlin\",\"Berlin, Germany\",\"Berne, Suisse\",\"Between Canada & Mexico\",\"Bharat\",\"Bharat Union of States \\ud83c\\uddee\\ud83c\\uddf3\",\"Biafra\",\"Biafra land\",\"Bibiani, Ghana\",\"Big Muz Blvd.\",\"Birmingham, AL\",\"Birmingham, England\",\"Black hole\",\"Bonn, Allemagne\",\"Bornholm, Denmark\",\"Boston, MA\",\"Brackenfell, South Africa\",\"Bradford, England\",\"Brighton\",\"Brighton & Worthing\",\"Brisbane\",\"Bristol\",\"Bristol, England\",\"British Columbia, Canada\",\"Bromsgrove, England\",\"Bucharest, Romania\",\"Buckinghamshire, England\",\"Buffalo, NY\",\"Bulawayo, Zimbabwe\",\"Bunurong Land\",\"BwiKwe Forever\",\"California\",\"California, USA\",\"Cambridge, Cambridgeshire, UK\",\"Cambridge, UK\",\"Cambridgeshire\",\"Canada\",\"Cape Town South Africa\",\"Cape Town, South Africa\",\"Carat \\u2764\\ufe0f The B\",\"Caratland\",\"Cardiff, Wales\",\"Castelfidardo, Marche\",\"Cebu, Philippines \",\"Cemetery \",\"Centurion, South Africa\",\"Check out my blog \\ud83d\\udc49\",\"Chesterfield \",\"Chicago, IL\",\"Chillin out at the beach \",\"Chittoor, AndhraPradesh\",\"Citizen of the World\",\"Connecticut, USA\",\"Coolaney\",\"Copenhagen\",\"Copenhagen, Denmark \\ud83c\\udde9\\ud83c\\uddf0\",\"Cork, Ireland/Belfast NI\",\"Cornwall\",\"Courtland, MS\",\"Croydon, Vic AU\",\"Crypto\",\"Crypto \\ud83d\\udd74\\ud83c\\udffc Programming\",\"Cuenca, Ecuador\",\"Cumbria, UK\",\"DBM/TRIBE/SND/TURNER\",\"DKI Jakarta, Indonesia\",\"Daegu, Republic of Korea\",\"Degaf, my everlasting. \",\"Delhi\",\"Delhi Kolkata \",\"Deutschland\",\"Devon, UK\",\"Dhaka\",\"Different places\",\"Dirty south\",\"Discord ID: RasetsuT#5064\",\"Dubai, UAE\",\"Dublin\",\"Dublin \",\"Dublin, Wicklow\",\"Dungung\",\"Durban, South Africa\",\"Durban,South Africa\",\"Durham & Hartlepool, England \",\"Durham, NC\",\"Duwamish Land\",\"Earth\",\"Earth- Talo\",\"Earth-616\",\"Earth-617\",\"Earth-838\",\"Earth-World\",\"East Harlem, Manhattan\",\"East London, South Africa\",\"East Sussex, UK\",\"Eberswalde, Germany\",\"Edinburgh, Scotland\",\"England\",\"England, United Kingdom\",\"Enron Mush's Head Rent Free\",\"Esperance WA Australia\",\"Estado de M\\u00e9xico\",\"Estonia\",\"Europa\",\"Everywhere\",\"Everywhere Normal 999\",\"Everywhere.\",\"Exile\",\"Existing\",\"FA\",\"FR/EN/ESP\",\"Fayetteville, AR\",\"Federal Capital Territory, Nig\",\"Fi mi sile\",\"Finland\",\"Firenze\",\"Floating\",\"Florida\",\"Florida, USA\",\"France\",\"Fremantle, Perth (WA)\",\"GAUTENG\",\"Gadigal Country, Eora Nation \",\"Gallifrey\",\"Gateshead\",\"Gauteng\",\"Geneva, Switzerland\",\"Gensokyo\",\"Germany\",\"Ghana,West Africa\",\"Gillbert, AZ\",\"Global\",\"Global \",\"Goa, India\",\"Goblin Town\",\"Goodwood\",\"Gotchiverse\",\"Greater Accra, Ghana\",\"Greater Manchester\",\"Greater Noida, India\",\"Greenstone Hill, south africa\",\"Guanajuato, M\\u00e9xico\",\"Gujarat, India\",\"HQ: Houston, Texas\",\"Happydale\",\"Harrisonburg, Virgina\",\"Hawaii\",\"Hazeldene \",\"Heaven\",\"Heaven's Blvd\",\"Heaven\\u2018s Cloud\",\"Hell\",\"Hello World\",\"Help Animals In Need At \",\"Helsinki\",\"Here and Now\",\"Hertfordshire \",\"Highland Falls, NY\",\"Home\",\"Hong Kong\",\"HongJoong's chaotic lil' heart\",\"Houston, TX\",\"Huihui \",\"Husum, Deutschland\",\"Hyderabad, India\",\"I come from the land Downunder\",\"INDIA\",\"ISFJ-T\",\"Ibadan, Nigeria\",\"Ijebu-Ode, Nigeria\",\"In Your Mind Now\",\"In between I.N and Hyunjin\",\"In my Steampunk Tower.\",\"In my bag\",\"India\",\"India \",\"India - of Gandhi/Nehru/Azad\",\"India \\ud83c\\uddee\\ud83c\\uddf3\",\"India, Delhi\",\"India\\ud83c\\uddee\\ud83c\\uddf3\",\"Indonesia\",\"Interdimensional Cable\",\"Ireland\",\"Irvine, CA\",\"Islamabad, Pakistan\",\"Italia\",\"Italy\",\"Iten, Kenya\",\"JENAT\",\"JK'S HEART \\u2764\\ufe0f\",\"Jabalpur, India\",\"Jamaica\",\"Jammu\",\"Japan\",\"Jayapura, West Papua\",\"Johanessburg \",\"Johannesburg\",\"Johannesburg, South Africa\",\"Johannesburg/Polokwane\",\"Jonkoping, Sweden, Tellus\",\"Juja\",\"Jungkook's Universe \",\"KL Malaysia\",\"Kabul, Istanbul, Virginia \",\"Kaduna, Nigeria\",\"Kagiso, South Africa\",\"Kali Yuga\",\"Kalos Region\",\"Kampala, Uganda\",\"Kano Nigeria\",\"Kano, Nigeria\",\"Karl@social.dev-wiki.de\",\"Kecoughtan & Kiskiack Lands\",\"Kempton Park\",\"Kenora, Ontario, Canada\",\"Kenya\",\"Khoi and San Land\",\"Kolkata, India\",\"Kolkata/New Delhi/Chennai\",\"Kontich\",\"Korea\",\"Kuala Lumpur\",\"Kuala Lumpur Federal Territory\",\"Kuala Lumpur/Dhaka\",\"Kualalala Lumpur\",\"Kutn\\u00e1 Hora, \\u010cesk\\u00e1 republika\",\"Kyiv\",\"Kyiv, Ukraine\",\"Kyoto\",\"Kyrgyz Republic\",\"K\\u00f8benhavn, Danmark\",\"LA & NYC | nondating.\",\"LA county, California\",\"Lagos\",\"Lagos Nigeria \",\"Lagos, Nigeria\",\"Lagos, Nigeria \",\"Lagos, Nigeria.\",\"Lahore & Istanbul\",\"Lahore.Pakistan\",\"Lake Havasu City, Az. 86403\",\"Lakewood, CA\",\"Land of the free \\ud83e\\udd1e\",\"Langemark-Poelkapelle, Belgi\\u00eb\",\"Langley by way of the Smokies\",\"Las Espadas\",\"Lee NH \",\"Leh\",\"Leicestershire\",\"Limerick, Ireland\",\"Linz, Austria \",\"Lisbon, Portugal\",\"Liverpool\",\"Living in Dreamland\",\"Living in my own world\",\"Ljubljana, Slovenia\",\"London\",\"London, England\",\"London, Europe\",\"London, GB\",\"London, Manchester\",\"London, SE England, Midlands\",\"London\\u2194\\ufe0fEssex\",\"Long Beach, CA\",\"Long Island NY \",\"Los Angeles\",\"Los Angeles, CA\",\"Los Angeles, CA / PH \",\"Louisville, KY\",\"Lucknow,india\",\"Lyndhurst, OH\",\"MASSY\",\"METAVERSE\\ud83c\\udf0d\",\"MN, USA \\ud83c\\uddfa\\ud83c\\uddf8\",\"MZANTSI\",\"Mad In Japan\",\"Mahlamba Ndlopfu \\ud83c\\uddff\\ud83c\\udde6\\ud83c\\uddf7\\ud83c\\uddfa\",\"Maidstone, Kent UK\",\"Makati City\",\"Malaysia\",\"Maldives bitches \\ud83d\\ude08\",\"Manchester, England\",\"Manhattan, NY\",\"Manila\",\"Manila, Philippines\",\"Manitoba, Canada\",\"MarchenaFirenzeNewportDublin\",\"Mars\",\"Massachusetts\",\"Massachusetts, USA\",\"Mature Area!!\\ud835\\udde2\\ud835\\uddf9\\ud835\\ude06\\ud835\\uddfa\\ud835\\uddfd\\ud835\\uddf6\\ud835\\uddee\\ud835\\uddfb\",\"Mbarara, Uganda\",\"Melbourne\",\"Melbourne, Australia.\",\"Melbourne, Victoria\",\"Merf Island\",\"Metaverse\",\"Metaverse\\ud83e\\udd77\\ud83c\\udffb\",\"Miami, FL\",\"Michigan, USA\",\"Midlands\",\"Milano, Lombardia\",\"Minnesota\",\"Minnesota, USA\",\"Minsk\",\"Mississippi, USA\",\"Mitakihara 639.5-B\",\"Moletji'a'Nhloma ga'ntswitswi\",\"Mombasa, Kenya\",\"Montreal\",\"Montr\\u00e9al, Qu\\u00e9bec\",\"Moon\",\"Morocco\",\"Mountain View, CA\",\"Mountlake Terrace, WA\",\"Mpumalanga, South Africa\",\"Mumbai\",\"Mumbai, India\",\"Munich, Bavaria\",\"Mushin, London, Florida.\",\"My other half Heize \\u2661\",\"NEPA,USA\",\"NFT HOME\",\"NL\",\"NSA.\",\"NSA. Selfol.\",\"NSAFW. DAGIM \\ud835\\udd6d\\ud835\\udc0e\\ud835\\udc18\\ud835\\udc06\\ud835\\udc04\\ud835\\udc0d \",\"NSFW 21+ ft SUB\",\"NYC/LON\",\"Nairobi\",\"Nairobi, Kenya\",\"Nantes en Bretagne.fr - BZH\",\"National Capital Region\",\"Nederland\",\"Netherlands\",\"Nevada, USA\",\"New Delhi\",\"New York\",\"New York City\",\"New York, NY\",\"New York, USA\",\"New Zealand\",\"Newham\",\"Ngunnawal, Ken Behren\",\"Nigeria\",\"No location\",\"Noblesville, IN\",\"Norge\",\"North Carolina, USA\",\"North East, England\",\"North Pole\",\"North West, England\",\"Northern Beaches of Sydney \",\"Northern California\",\"Northern Mariana Islands\",\"Northern Mindanao, Republic of\",\"Northwest Wisconsin\",\"Nowhere\",\"Nyeri, Nairobi, Africa, World\",\"OUTSIDE OF THE WHITE HOUSE\",\"Oak Bay, BC\",\"Oceania \",\"Ogun, Nigeria\",\"Ohio, USA\",\"Oke Okun\\ud83d\\ude0b\",\"Oldham, England\",\"Omunya Uganda\",\"On The Field \\ud83c\\udfc8\",\"Oregon, USA\",\"Orsay, France\",\"Outside my comfort zone \",\"Pakistan\",\"Palm Bay, FL\",\"Papamoa, Aotearoa/NZ \\ud83c\\uddf3\\ud83c\\uddff\",\"Paradise\",\"Paris, France\",\"Paris\\u2192\\u6771\\u4eac\\u2192Paris\",\"Pathsala, Bajali, Assam\",\"Pati, Indonesia\",\"Patiala, India\",\"Penang, Malaysia\",\"Pennsylvania, USA\",\"Perugia (Italia)\",\"Peterborough\",\"Philippines\",\"Philippines \\ud83c\\uddf5\\ud83c\\udded \",\"Phoenix, AZ\",\"Pietermaritzburg\",\"Pittsburgh, PA via Buffalo, NY\",\"Planet \",\"Planet Earth\",\"Poland \\ud83c\\uddf5\\ud83c\\uddf1\",\"Polokwane, South Africa\",\"Polska, Mazowsze\",\"Port Harcourt\",\"Port Harcourt, Nigeria\",\"Port Harcourt, Rivers State \",\"Portland\",\"Portland on the Left Coast\",\"Portland, OR\",\"Portland, Oregon\",\"Porto, Portugal\",\"Portsmouth\",\"Prabhas Land\",\"Prague, Czech Republic\",\"Prestwick, Scotland\",\"Pretoria\",\"Pretoria, South Africa\",\"Privileged to be on Yaegl land\",\"Pta/soweto\",\"Pune\",\"Pune Maharashtra\",\"Pune, India\",\"PupsVerse\",\"Qatar \",\"Quezon City\",\"Raghunath pur, Cuttack \",\"Rajasthan, India\",\"Rawalpindi \",\"Reivilo\",\"Remote\",\"Rennes, France\",\"Republic Of Uganda \\ud83c\\uddfa\\ud83c\\uddec\",\"Republic of Korea\",\"Republic of the Philippines\",\"Rich \\ud83c\\udfe6\\ud83d\\udcb5\\ud83d\\udcb0\\ud83e\\udd2b\",\"Richmond, London\",\"Richmond, North Yorkshire\",\"Romania\",\"Rom\\u00e2nia\",\"Rosales, Ilocos Region  \",\"Royaume du Maroc\",\"Ruharo Rd, Mbarara, Uganda\",\"Rustenburg, South Africa\",\"Rustenburg....cashan\",\"Rwanda\",\"Rwanda \",\"Rwanda Nyamirambo\",\"SEVENTEEN \\ud83e\\udd55 CARATLAND \",\"SND\",\"Sacramento, CA\",\"Saint-Mathieu-de-Tr\\u00e9viers, Fra\",\"Saint-Petersburg\",\"Salzburg, Austria\",\"San Antonio, TX\",\"San Diego, CA\",\"San Francisco Bay Area\",\"San Francisco to anywhere \",\"San Francisco, CA\",\"Santa Rosa, CA\",\"Scotland\",\"Scotland /Alba\",\"Scotland \\u26f0\\ufe0f\",\"Seattle Washington\",\"Seattle, WA\",\"Sebokeng, South Africa\",\"Seoul\",\"Seoul, Korea\",\"Seoul, Republic of Korea\",\"Sergey, Suisse\",\"Setia Alam, Selangor\",\"She / Them / Bisexual ~ 21\",\"She/Her black \",\"She/Her\\u2022minors dnf \\u202220\\u2022 muslim\",\"She/her | 99 \",\"Sheffield, UK\",\"Shenzhen\",\"Shenzhen, China\",\"ShitholeImmigrant \",\"Sihai, Tianxia \\u2744\",\"Silent Hill\",\"Singapore\",\"Sinnoh\",\"Skynet\",\"Slovenija\",\"SoCAL\",\"Social Media Influencer \",\"Sol System\",\"Solana Beach, CA\",\"Solid DB\",\"Somalia\",\"Somerset\",\"Somewhere in India\",\"Somewhere making magic\",\"Somewhere on telegram\",\"Sopore , Kashmir \",\"South Africa\",\"South Africa (Azania)\",\"South Africa, Jhb\",\"South Antrim, NI, UK\",\"South East, England\",\"South Korea \",\"South West, England\",\"South West, Plymouth\",\"South of the Equator.\",\"Srinagar J&K\",\"St Helens\",\"Stamford Bridge\",\"Stanford, California\",\"Stockholm, Sweden\",\"Strictly Non - Dating.\",\"Succinct \",\"Suffolk\",\"Suffolk UK\",\"Sundowner. Matatiele.\",\"Sunyani, Ghana\",\"Surat, India\",\"Surrey, United Kingdom\",\"Sustein Ltd., UK, Singapore\",\"Sweden\",\"Sycamore, IL\",\"Sydney\",\"Sydney, NSW, Australia.\",\"Sydney, New South Wales\",\"TBD\",\"TEAM SVT\",\"TOLPED MARPOS \",\"Taipei / SF / earth\",\"Take me to 40k please \",\"Telhara, India\",\"Tema, C22\",\"Tems\\u2019 kitchen sink \",\"Tenn-A-Kee\",\"Texas, USA, World, Universe\",\"Thailand\",\"That Red Dirt \\ud83c\\uddfa\\ud83c\\uddf8 \",\"The 503 probably\",\"The Basement\",\"The Cloudz\",\"The Come Up\",\"The Earth\",\"The Internet \",\"The Irish Times\",\"The Metaverse\",\"The Netherlands\",\"The Otherside\",\"The Streets\",\"The West \",\"The black hole \\ud83d\\udda4\\ud83d\\udd73\",\"The eye of Terror (Sweden)\",\"The other room\",\"Thessaloniki, Greece\",\"They/He/She/Any\",\"They/them 19\",\"Tigray\",\"Timisoara, Romania\",\"Tiny Town\",\"Tisfun sasanian empire\",\"Toronto\",\"Toronto, Ontario\",\"Totnes, Devon, UK\",\"Tralfamadore\",\"Trichy\",\"True North Strong & Free\",\"Trying optomism for the future\",\"Tupelo, MS\",\"Turan\",\"Twitter street, Abuja, Edo\",\"T\\u00fcrkiye\",\"U.S.A.\",\"UK\",\"UK and USA\",\"US | Canada | Asia | Fiji \",\"US, UK, UAE, India\",\"US: 45.503139,-122.428364\",\"USA\",\"Uganda\",\"Uhuru's Territory \",\"Ukraine\",\"Under the Sun\",\"United  States \",\"United Arab Emirates\",\"United Biafra \",\"United Kingdom\",\"United States\",\"Universe \",\"Unknown\",\"Urahara shop\",\"Uruguay, Salto.\",\"Usmanpura, Ahmadabad City\",\"Usually underwater\",\"Utopian Eden\",\"Uttar Pradesh, India\",\"Valencia, Comunidad Valenciana\",\"Vallejo, CA\",\"Vancouver, BC\",\"Vermont, USA\",\"Vietnam\",\"Vilseck, Deutschland\",\"Virginia, USA\",\"Voicy\\u30d1\\u30fc\\u30bd\\u30ca\\u30ea\\u30c6\\u30a3\\u5fdc\\u52df\\u4e2d\\uff01\",\"Vosloorus\",\"WA\",\"Wageningen \",\"Wagmiroad, Wagmitown, OM\",\"Wakefield UK\",\"Wales, United Kingdom\",\"Washington DC\",\"Waterloo, Ontario Canada\",\"Watford, England\",\"Web3\",\"West Bengal, India\",\"West Bengal, India \\ud83c\\uddee\\ud83c\\uddf3\",\"West Coast\",\"West Midlands, England\",\"West Vancouver, British Columbia\",\"Western Australia\",\"Westfall County, UK\",\"Westminster, SC\",\"Where God's love placed me \",\"Windhoek\",\"Wooditchup Noongar Booja Lands\",\"World\",\"World \\ud83c\\udf0e\",\"Worldwide \",\"Wrexham\",\"Written by a fan.\",\"XRPL\",\"XYZ Headquarters \",\"Yarnslanding\",\"YeJu's Heart\",\"Yokohama Japan (full-time) I\",\"Yoon Jeonghan\",\"Yorkshire and The Humber\",\"Yorkshire and The Humber, Engl\",\"YouTube\",\"Your heart\",\"Your mums room\",\"Zimbabwe\",\"Zurich, Switzerland\",\"a place called home\",\"any prns | multi | fluid \",\"at peace irl\",\"beacon hills \",\"bp svt\",\"caratland\",\"caratland \",\"caratland \\ud83c\\uddf2\\ud83c\\uddfe\",\"cilacap\",\"cl\",\"csc \\u2022 svt \\u2022 khj \\u2022 pja \\u2022 hsb\",\"dnf\",\"dunkin donut land\",\"earth\",\"exzidia\",\"gauteng\",\"goblin town\",\"good ol' golden state. \\u2131\\u2134\\u2113\\u2113\\u2134\\u03c9!\",\"he/they | minor \\u203c\\ufe0f\",\"hell \\u00bf\",\"hilton \",\"hope world\",\"hotel diablo, he/they, 18\",\"how do i stop thinking abt taekook & focus in my life ?\",\"humanity \",\"ikon \\ud83e\\udef6\\ud83c\\udffc hanbin\",\"im-sorry-did-i-make-u-ANXIOUS \",\"in my heart\",\"in the flames....\",\"inatiny\",\"ipoh perak \\ud83c\\uddf2\\ud83c\\uddfe\",\"isfp-t ; \\ud83c\\uddf5\\ud83c\\udded\",\"japan\",\"jeongcheolwonboo\",\"jk's euphoria\",\"johannesburg\",\"junhui's happiness\",\"just simp for minata \",\"kampala, Entebbe, Uganda\",\"kenya\",\"kuala lumpur malaysia\",\"look how fast I'm goin'\",\"malaysia\",\"multiverse\",\"muntinlupa city\",\"ncr\",\"nct\",\"off the grid\",\"on a cliff or tor, Cornwall,UK\",\"on day6 and tnx music\",\"over it\",\"part of \\u2022AZTEC\\u2022\\n\\nTrioKwekKwek\\ud83d\\udc23 @dirutn @renjvne \\ud83d\\udc23\\nTrio Ubur - Ubur \\ud83d\\udc19 @dirutn @karinjayoo\\ud83d\\udc19\\n\\n                            \\u2022harshword\\u2022\\u273f\\n\\nts as TY\",\"personal account, rt heavy\",\"ph\",\"planetEarth\",\"plebs worldwide\",\"probs nappin\",\"pune\",\"redworkersunion@todon.eu\",\"s/her ; #selective \\u272ercbyf\",\"seattle\",\"seattle... detroit\",\"selfoll nsfw\",\"she\",\"she / her \",\"she her\",\"she her 18\",\"she/her\",\"she/her - ale lovebot \\u2661\",\"she/her 20\",\"she/her 23\",\"she/her 24 | btsvt \\u273f\",\"she/her :: \\ud83c\\uddf8\\ud83c\\uddec\",\"she/her infj\",\"she/her | '01z | +63\",\"she/her | selective\",\"she/her \\u202219\\u2022\",\"she/her \\u2e1d\\u2e1d 18+\",\"she/her/any \\ud83c\\uddf5\\ud83c\\udded-14 dni \",\"she/her/multi\",\"she/her|'04 | MY\",\"she/they\",\"she/they \\u2022 01 \\u2022 INFJ\",\"she/they \\ud83c\\udff3\\ufe0f\\u200d\\u26a7\\ufe0f\",\"singapore\",\"sleeping \",\"smg (song mingi)\",\"snd\\ud83c\\udf3b::  \\u0b68 Model & Actress. \\u0b67\",\"somewhere on earth\",\"somewhere on planet Earth.\",\"somewhere.\",\"south west \",\"svt.trsr.gcnd.sf9.exo.the rose\",\"take me to 20k\\ud83d\\ude4f\\ud83d\\ude2d\",\"td oc | art credit in link:\",\"team@plutus-staking.com\",\"texas\",\"timbuktu\",\"tinytown\",\"to the moon\\ud83d\\ude80\",\"u sounds like a song.\\n( \\ud83e\\udd8b )                                \",\"under these bitches skin\",\"urmia\",\"venus\",\"verified\",\"vocal team\",\"web3\",\"where i no know. \",\"white, she/her/they, 28. bi.\",\"world\",\"zimbabwe\",\"~/home/pi/r @ Rasberry Pi 4 \",\"~\\ud83e\\udd0d\\ud83d\\udc96\\ud83d\\udc93\\ud83d\\udc95\\ud83d\\udc9c~\",\"\\u00dcT: -26.233885,27.946507\",\"\\u00dcT: 6.6068857,3.321811\",\"\\u0130stanbul, T\\u00fcrkiye\",\"\\u0410\\u043b\\u043c\\u0430-\\u0410\\u0442\\u0430\",\"\\u0411\\u0435\\u043b\\u0430\\u0440\\u0443\\u0441\\u044c\",\"\\u041a\\u0430\\u043b\\u0438\\u043d\\u0438\\u043d\\u0433\\u0440\\u0430\\u0434\\u0441\\u043a\\u0430\\u044f \\u043e\\u0431\\u043b.,\\u0433.\\u0421\\u043e\\u0432\\u0435\\u0442\\u0441\\u043a\",\"\\u0423\\u043a\\u0440\\u0430\\u0457\\u043d\\u0430\",\"\\u05b4\\u05b6\\u05b8\\u2b52 \\ud835\\uddf1\\ud835\\uddee\\ud835\\uddf6\\ud835\\uddf9\\ud835\\uddf2\\ud835\\uddf2\\ud835\\uddf2\\u3161\\uc544\\uae30 \\ud83d\\udc07\\ud83d\\udcad \\ud83c\\udd68\\ud83c\\udd5e\\ud83c\\udd5f\\ud83c\\udd50\\ud83c\\udd5d \\u0f0a \\ud835\\udd65\\ud835\\udd59\\ud835\\udd56 \\ud835\\udd52\\ud835\\udd55\\ud835\\udd60\\ud835\\udd63\\ud835\\udd52\\ud835\\udd53\\ud835\\udd5d\\ud835\\udd56 \\ud835\\udd53\\ud835\\udd52\\ud835\\udd53\\ud835\\udd6a \\ud835\\udd63\\ud835\\udd52\\ud835\\udd53\\ud835\\udd53\\ud835\\udd5a\\ud835\\udd65 \\ud811\\ude13 \\u3161 \\ud83c\\udf80\\ud83d\\udc97 \\ud835\\udde3\\ud835\\uddee\\ud835\\uddff\\ud835\\ude01 \\ud835\\uddfc\\ud835\\uddf3 \\ud835\\uddd6\\ud835\\udddb\\u00c9\\ud835\\udde5\\ud835\\udddc\\ud835\\uddd8 \\u2601\\ufe0e\",\"\\u0627\\u0644\\u0645\\u0645\\u0644\\u0643\\u0629 \\u0627\\u0644\\u0623\\u0631\\u062f\\u0646\\u064a\\u0629 \\u0627\\u0644\\u0647\\u0627\\u0634\\u0645\\u064a\\u0629\",\"\\u062f\\u0631 \\u0627\\u0631\\u0648\\u067e\\u0627\",\"\\u0632\\u06cc\\u0631 \\u0633\\u0627\\u06cc\\u0647 \\u062e\\u0648\\u0631\\u0634\\u06cc\\u062f\",\"\\u0633\\u0631\\u0632\\u0645\\u06cc\\u0646\\u200c\\u0647\\u0627\\u06cc \\u0634\\u0645\\u0627\\u0644\\u06cc\",\"\\u0915\\u093e\\u0928\\u092a\\u0941\\u0930, \\u0909\\u0924\\u094d\\u0924\\u0930 \\u092a\\u094d\\u0930\\u0926\\u0947\\u0936, \\u092d\\u093e\\u0930\\u0924\",\"\\u0928\\u0908 \\u0926\\u093f\\u0932\\u094d\\u0932\\u0940, \\u092d\\u093e\\u0930\\u0924\",\"\\u092d\\u093e\\u0930\\u0924 \",\"\\u092e\\u0927\\u0947\\u092a\\u0941\\u0930\\u093e, \\u092d\\u093e\\u0930\\u0924\",\"\\u0e01\\u0e23\\u0e38\\u0e07\\u0e40\\u0e17\\u0e1e\\u0e21\\u0e2b\\u0e32\\u0e19\\u0e04\\u0e23, \\u0e1b\\u0e23\\u0e30\\u0e40\\u0e17\\u0e28\\u0e44\\u0e17\\u0e22\",\"\\u0e08\\u0e2d\\u0e07\\u0e2e\\u0e31\\u0e19\\u0e08\\u0e2d\\u0e07\\u0e43\\u0e08\\ud83d\\udccd\",\"\\u0e16\\u0e31\\u0e14\\u0e2d\\u0e2d\\u0e01\\u0e44\\u0e1b\\u0e2a\\u0e34\\u0e1a\\u0e2a\\u0e32\\u0e21\\u0e08\\u0e38\\u0e14\\u0e40\\u0e08\\u0e47\\u0e14\\u0e01\\u0e34\\u0e42\\u0e25\\u0e44\\u0e21\\u0e25\\u0e4c\",\"\\u0e1b\\u0e23\\u0e30\\u0e40\\u0e17\\u0e28\\u0e44\\u0e17\\u0e22\",\"\\u2315 \\ud835\\uddcc\\ud835\\uddc1\\ud835\\uddbe/\\ud835\\uddc1\\ud835\\uddbe\\ud835\\uddcb \\u2022 fangirl acc\",\"\\u24b7.\\u24be.,\\ud83c\\udd56\\ud83c\\udd64\\ud83c\\udd5d,\\ud835\\udce8\\ud835\\udcea\\ud835\\udcf7\\ud835\\udcd6\\ud835\\udce9\\ud835\\udcf2\",\"\\u2603\\ufe0f\",\"\\u263e \\u2614\\ufe0e\\ufe0e \\u2600\\ufe0e\\ufe0e \\u2740 \\u2618\\ufe0e\\ufe0e\",\"\\u2661 '\\uc815\\uc6d0\\uff3c\\u2060(\\u2060^\\u2060o\\u2060^\\u2060)\\u2060\\uff0fJUNGWON' \\u2661\",\"\\u2665\\ufe0f of Allen, Luffy, Robin\",\"\\u26a1\\ufe0f\",\"\\u2800\\u2445\\u2800 Chimerical, 1996 .. \\ua51b \\u0b67 \\u08ea \\u02d6 \\u201c\\uc804\\uc18c\\ubbf8\\u201d: \\u02d2\\u2800\\u2445\",\"\\u2800\\u2800  all the boys call me \\u201cmommy\\u201d\\n\\u2800 \\u2800treat me like your highness woman\",\"\\u30b8\\u30e5\\u30f3\\u30d4\",\"\\u65e5\\u672c \\u6771\\u4eac\",\"\\u8ab0\\u3088\\u308a\\u3082\\u4f8d\\u3063\\u307d\\u3044\\u30b9\\u30c6\\u30a3\\u30fc\\u30d6\\u30f3\\u30fb\\u30af\\u30ef\\u30f3\\u6fc0\\u63a8\\u3057\\ud83c\\udfdf\",\"\\ua4b0 \\ud835\\udfe2\\ud835\\udfe2  \\ud80c\\uddec\\u1bab \\u250a  \\ud80c\\udd39  .\\u201c\\uce74\\ub9ac\\ub098\\u201d \\u2026 \\ua4b1 \",\"\\ua731\\u029c\\u1d07 \\ud83c\\uddf2\\ud83c\\uddec\\ud83c\\uddf7\\ud83c\\uddea \\ua4b1\\u0fd0\\u2661 \\u02da.*\\u0cc3\",\"\\ubaac\\uc2a4\\ud0c0\\uc5d1\\uc2a4 & \\uc6d0\\ud638\",\"\\ube44\\uc544\\uc774\\ub514\",\"\\uc5ec\\uc790/she\",\"\\uc6d0\\ub978. 100%\",\"\\uc774\\ub3c4\\uacb8 \\ud83d\\udd4a\\ufe0f\",\"\\ud2f0\\ub2c83\\uae30 || 01\",\"\\ud558\\ub0a8\",\"\\ud83c\\udde8\\ud83c\\udde6 CANADA \\ud83c\\udde8\\ud83c\\udde6\",\"\\ud83c\\uddec\\ud83c\\udde7 \",\"\\ud83c\\uddee\\ud83c\\udde9 she/her '00\",\"\\ud83c\\uddee\\ud83c\\udde9 she/her 04l\",\"\\ud83c\\uddf0\\ud83c\\uddea \\u2795\\ufe0f \\ud83c\\udf0d\",\"\\ud83c\\uddf2\\ud83c\\uddfe\",\"\\ud83c\\uddf3\\ud83c\\uddec\\u2708\\ufe0f\\ud83c\\uddfa\\ud83c\\uddf8\",\"\\ud83c\\uddf3\\ud83c\\uddec\\ud83c\\udde8\\ud83c\\udde6\",\"\\ud83c\\uddf5\\ud83c\\udded\",\"\\ud83c\\uddf5\\ud83c\\uddf0\",\"\\ud83c\\uddff\\ud83c\\udde6\",\"\\ud83c\\udf0d\",\"\\ud83c\\udf0dService to humanity. \",\"\\ud83c\\udf10\",\"\\ud83c\\udf19\\ud83e\\ude90\\ud83c\\udf1fMilky Way \\ud83c\\udf19\\ud83e\\ude90\\ud83c\\udf1f\",\"\\ud83c\\udfc1\",\"\\ud83c\\udfc63x \\ud83d\\udc8d3x\",\"\\ud83d\\udc96\\ud83d\\udc9c\\ud83d\\udc99\",\"\\ud83d\\udc9c\\ud83e\\udd0d\\ud83d\\udc9a\",\"\\ud83d\\udca5\",\"\\ud83d\\udd4a\\ufe0f\"],\"name\":\"\",\"z\":[1,1,1,1,1,1,1,1,1,1,1,1,1,1,1,1,1,1,1,1,1,1,1,1,1,1,1,1,1,1,1,1,1,1,1,1,1,1,1,1,1,1,1,1,1,1,1,1,1,1,1,1,1,1,2,1,1,1,1,1,1,1,1,1,1,1,1,1,1,1,1,1,1,2,1,1,1,1,1,1,1,2,2,3,1,1,1,1,1,1,1,3,1,2,1,1,1,1,1,1,2,1,1,1,1,1,1,1,1,1,1,1,1,1,2,1,1,1,1,1,1,1,1,1,1,1,3,1,2,1,1,1,1,2,2,5,1,1,1,1,1,2,1,3,1,1,1,1,1,1,1,1,1,1,1,1,1,2,1,1,1,1,1,1,1,1,1,1,1,1,1,1,2,1,1,1,1,1,1,1,2,1,1,1,2,1,1,1,1,4,1,2,1,1,1,1,1,1,1,1,4,3,1,1,1,1,1,1,1,1,1,1,1,1,1,1,1,2,1,1,4,2,1,1,2,1,1,1,1,1,2,1,1,1,4,1,1,1,1,1,1,1,2,1,1,2,1,1,1,1,1,1,1,1,1,1,1,1,1,1,1,3,2,1,1,1,1,1,1,1,1,4,1,2,1,1,1,15,1,1,1,1,1,6,1,1,1,1,1,2,1,1,1,1,1,1,3,1,1,1,2,1,1,1,1,1,1,1,1,1,1,10,1,1,1,1,1,1,3,1,2,1,1,1,2,2,1,1,1,1,1,1,1,1,1,1,3,3,20,1,1,2,1,1,1,1,1,1,1,1,1,1,1,1,1,1,1,1,1,8,12,1,1,2,1,1,1,1,1,3,1,1,1,1,1,7,1,1,1,1,1,2,11,1,2,1,2,2,1,1,1,1,1,1,1,2,1,5,1,4,1,2,1,1,1,1,1,1,1,1,1,1,1,1,1,1,1,1,1,1,3,2,1,1,1,1,1,1,1,1,1,1,2,4,1,1,1,1,1,2,4,1,1,2,3,1,1,13,811,1,1,1,1,1,1,1,1,1,1,1,1,1,1,1,1,1,4,1,1,1,1,1,1,1,1,1,1,1,3,1,1,1,1,1,1,1,1,3,1,3,1,1,1,2,1,2,1,1,1,1,1,1,3,1,1,1,1,1,1,1,2,1,1,1,1,1,1,1,1,1,1,1,1,1,1,1,1,5,1,1,1,2,1,1,1,1,2,1,1,1,1,1,1,1,1,1,1,2,1,1,1,1,1,3,1,1,1,2,1,1,1,1,1,1,1,1,1,1,1,1,1,1,1,1,3,1,1,1,1,1,1,1,1,1,1,1,1,1,1,11,1,1,1,1,1,1,1,1,1,1,1,1,1,1,1,1,1,1,1,1,1,1,1,1,2,1,3,1,1,1,1,1,1,1,1,1,1,1,2,1,1,1,1,1,1,1,1,2,1,1,1,1,1,1,1,1,1,4,1,1,1,1,2,1,1,1,1,1,1,1,1,1,1,6,1,1,1,1,2,5,1,1,1,1,2,1,6,8,1,1,1,1,1,1,1,1,1,1,1,1,1,1,2,1,1,1,1,1,1,1,1,1,1,1,1,1,1,3,1,1,1,1,1,1,1,5,1,1,1,1,1,1,1,1,1,1,1,1,1,1,1,1,2,1,1,1,1,1,3,1,1,1,1,1,1,2,1,1,1,1,1,1,1,1,1,1,1,1,1,1,1,1,1,1,1,1,1,1,1,1,1,1,1,1,1,1,1,1,1,1,1,1,1,1,1,1,1,1,1,1,1,1,1,1,1,1,1,1,1,1,7,1,1,1,1,1,1,1,1,1,1,1,1,1,2,1,2,1,1,1,1,1,1,1,1,1,1,1,1,1,1,1,1,1,1,1,1,1,1,1,1,1,1,1,1,1,1,1,1,1,1,1,1,1,1,1,1,1,1,1,1,1,1,1,1,2,1,1,1,1,1,1,1,1,1,1,2,1,1,1,1,1,1,1,1,1,1,1,1,1,1,1,2,1,1,1,1,1,1,1,1,1,1,1,1,1,1,1],\"type\":\"choropleth\"}],                        {\"template\":{\"data\":{\"bar\":[{\"error_x\":{\"color\":\"#2a3f5f\"},\"error_y\":{\"color\":\"#2a3f5f\"},\"marker\":{\"line\":{\"color\":\"#E5ECF6\",\"width\":0.5},\"pattern\":{\"fillmode\":\"overlay\",\"size\":10,\"solidity\":0.2}},\"type\":\"bar\"}],\"barpolar\":[{\"marker\":{\"line\":{\"color\":\"#E5ECF6\",\"width\":0.5},\"pattern\":{\"fillmode\":\"overlay\",\"size\":10,\"solidity\":0.2}},\"type\":\"barpolar\"}],\"carpet\":[{\"aaxis\":{\"endlinecolor\":\"#2a3f5f\",\"gridcolor\":\"white\",\"linecolor\":\"white\",\"minorgridcolor\":\"white\",\"startlinecolor\":\"#2a3f5f\"},\"baxis\":{\"endlinecolor\":\"#2a3f5f\",\"gridcolor\":\"white\",\"linecolor\":\"white\",\"minorgridcolor\":\"white\",\"startlinecolor\":\"#2a3f5f\"},\"type\":\"carpet\"}],\"choropleth\":[{\"colorbar\":{\"outlinewidth\":0,\"ticks\":\"\"},\"type\":\"choropleth\"}],\"contour\":[{\"colorbar\":{\"outlinewidth\":0,\"ticks\":\"\"},\"colorscale\":[[0.0,\"#0d0887\"],[0.1111111111111111,\"#46039f\"],[0.2222222222222222,\"#7201a8\"],[0.3333333333333333,\"#9c179e\"],[0.4444444444444444,\"#bd3786\"],[0.5555555555555556,\"#d8576b\"],[0.6666666666666666,\"#ed7953\"],[0.7777777777777778,\"#fb9f3a\"],[0.8888888888888888,\"#fdca26\"],[1.0,\"#f0f921\"]],\"type\":\"contour\"}],\"contourcarpet\":[{\"colorbar\":{\"outlinewidth\":0,\"ticks\":\"\"},\"type\":\"contourcarpet\"}],\"heatmap\":[{\"colorbar\":{\"outlinewidth\":0,\"ticks\":\"\"},\"colorscale\":[[0.0,\"#0d0887\"],[0.1111111111111111,\"#46039f\"],[0.2222222222222222,\"#7201a8\"],[0.3333333333333333,\"#9c179e\"],[0.4444444444444444,\"#bd3786\"],[0.5555555555555556,\"#d8576b\"],[0.6666666666666666,\"#ed7953\"],[0.7777777777777778,\"#fb9f3a\"],[0.8888888888888888,\"#fdca26\"],[1.0,\"#f0f921\"]],\"type\":\"heatmap\"}],\"heatmapgl\":[{\"colorbar\":{\"outlinewidth\":0,\"ticks\":\"\"},\"colorscale\":[[0.0,\"#0d0887\"],[0.1111111111111111,\"#46039f\"],[0.2222222222222222,\"#7201a8\"],[0.3333333333333333,\"#9c179e\"],[0.4444444444444444,\"#bd3786\"],[0.5555555555555556,\"#d8576b\"],[0.6666666666666666,\"#ed7953\"],[0.7777777777777778,\"#fb9f3a\"],[0.8888888888888888,\"#fdca26\"],[1.0,\"#f0f921\"]],\"type\":\"heatmapgl\"}],\"histogram\":[{\"marker\":{\"pattern\":{\"fillmode\":\"overlay\",\"size\":10,\"solidity\":0.2}},\"type\":\"histogram\"}],\"histogram2d\":[{\"colorbar\":{\"outlinewidth\":0,\"ticks\":\"\"},\"colorscale\":[[0.0,\"#0d0887\"],[0.1111111111111111,\"#46039f\"],[0.2222222222222222,\"#7201a8\"],[0.3333333333333333,\"#9c179e\"],[0.4444444444444444,\"#bd3786\"],[0.5555555555555556,\"#d8576b\"],[0.6666666666666666,\"#ed7953\"],[0.7777777777777778,\"#fb9f3a\"],[0.8888888888888888,\"#fdca26\"],[1.0,\"#f0f921\"]],\"type\":\"histogram2d\"}],\"histogram2dcontour\":[{\"colorbar\":{\"outlinewidth\":0,\"ticks\":\"\"},\"colorscale\":[[0.0,\"#0d0887\"],[0.1111111111111111,\"#46039f\"],[0.2222222222222222,\"#7201a8\"],[0.3333333333333333,\"#9c179e\"],[0.4444444444444444,\"#bd3786\"],[0.5555555555555556,\"#d8576b\"],[0.6666666666666666,\"#ed7953\"],[0.7777777777777778,\"#fb9f3a\"],[0.8888888888888888,\"#fdca26\"],[1.0,\"#f0f921\"]],\"type\":\"histogram2dcontour\"}],\"mesh3d\":[{\"colorbar\":{\"outlinewidth\":0,\"ticks\":\"\"},\"type\":\"mesh3d\"}],\"parcoords\":[{\"line\":{\"colorbar\":{\"outlinewidth\":0,\"ticks\":\"\"}},\"type\":\"parcoords\"}],\"pie\":[{\"automargin\":true,\"type\":\"pie\"}],\"scatter\":[{\"marker\":{\"colorbar\":{\"outlinewidth\":0,\"ticks\":\"\"}},\"type\":\"scatter\"}],\"scatter3d\":[{\"line\":{\"colorbar\":{\"outlinewidth\":0,\"ticks\":\"\"}},\"marker\":{\"colorbar\":{\"outlinewidth\":0,\"ticks\":\"\"}},\"type\":\"scatter3d\"}],\"scattercarpet\":[{\"marker\":{\"colorbar\":{\"outlinewidth\":0,\"ticks\":\"\"}},\"type\":\"scattercarpet\"}],\"scattergeo\":[{\"marker\":{\"colorbar\":{\"outlinewidth\":0,\"ticks\":\"\"}},\"type\":\"scattergeo\"}],\"scattergl\":[{\"marker\":{\"colorbar\":{\"outlinewidth\":0,\"ticks\":\"\"}},\"type\":\"scattergl\"}],\"scattermapbox\":[{\"marker\":{\"colorbar\":{\"outlinewidth\":0,\"ticks\":\"\"}},\"type\":\"scattermapbox\"}],\"scatterpolar\":[{\"marker\":{\"colorbar\":{\"outlinewidth\":0,\"ticks\":\"\"}},\"type\":\"scatterpolar\"}],\"scatterpolargl\":[{\"marker\":{\"colorbar\":{\"outlinewidth\":0,\"ticks\":\"\"}},\"type\":\"scatterpolargl\"}],\"scatterternary\":[{\"marker\":{\"colorbar\":{\"outlinewidth\":0,\"ticks\":\"\"}},\"type\":\"scatterternary\"}],\"surface\":[{\"colorbar\":{\"outlinewidth\":0,\"ticks\":\"\"},\"colorscale\":[[0.0,\"#0d0887\"],[0.1111111111111111,\"#46039f\"],[0.2222222222222222,\"#7201a8\"],[0.3333333333333333,\"#9c179e\"],[0.4444444444444444,\"#bd3786\"],[0.5555555555555556,\"#d8576b\"],[0.6666666666666666,\"#ed7953\"],[0.7777777777777778,\"#fb9f3a\"],[0.8888888888888888,\"#fdca26\"],[1.0,\"#f0f921\"]],\"type\":\"surface\"}],\"table\":[{\"cells\":{\"fill\":{\"color\":\"#EBF0F8\"},\"line\":{\"color\":\"white\"}},\"header\":{\"fill\":{\"color\":\"#C8D4E3\"},\"line\":{\"color\":\"white\"}},\"type\":\"table\"}]},\"layout\":{\"annotationdefaults\":{\"arrowcolor\":\"#2a3f5f\",\"arrowhead\":0,\"arrowwidth\":1},\"autotypenumbers\":\"strict\",\"coloraxis\":{\"colorbar\":{\"outlinewidth\":0,\"ticks\":\"\"}},\"colorscale\":{\"diverging\":[[0,\"#8e0152\"],[0.1,\"#c51b7d\"],[0.2,\"#de77ae\"],[0.3,\"#f1b6da\"],[0.4,\"#fde0ef\"],[0.5,\"#f7f7f7\"],[0.6,\"#e6f5d0\"],[0.7,\"#b8e186\"],[0.8,\"#7fbc41\"],[0.9,\"#4d9221\"],[1,\"#276419\"]],\"sequential\":[[0.0,\"#0d0887\"],[0.1111111111111111,\"#46039f\"],[0.2222222222222222,\"#7201a8\"],[0.3333333333333333,\"#9c179e\"],[0.4444444444444444,\"#bd3786\"],[0.5555555555555556,\"#d8576b\"],[0.6666666666666666,\"#ed7953\"],[0.7777777777777778,\"#fb9f3a\"],[0.8888888888888888,\"#fdca26\"],[1.0,\"#f0f921\"]],\"sequentialminus\":[[0.0,\"#0d0887\"],[0.1111111111111111,\"#46039f\"],[0.2222222222222222,\"#7201a8\"],[0.3333333333333333,\"#9c179e\"],[0.4444444444444444,\"#bd3786\"],[0.5555555555555556,\"#d8576b\"],[0.6666666666666666,\"#ed7953\"],[0.7777777777777778,\"#fb9f3a\"],[0.8888888888888888,\"#fdca26\"],[1.0,\"#f0f921\"]]},\"colorway\":[\"#636efa\",\"#EF553B\",\"#00cc96\",\"#ab63fa\",\"#FFA15A\",\"#19d3f3\",\"#FF6692\",\"#B6E880\",\"#FF97FF\",\"#FECB52\"],\"font\":{\"color\":\"#2a3f5f\"},\"geo\":{\"bgcolor\":\"white\",\"lakecolor\":\"white\",\"landcolor\":\"#E5ECF6\",\"showlakes\":true,\"showland\":true,\"subunitcolor\":\"white\"},\"hoverlabel\":{\"align\":\"left\"},\"hovermode\":\"closest\",\"mapbox\":{\"style\":\"light\"},\"paper_bgcolor\":\"white\",\"plot_bgcolor\":\"#E5ECF6\",\"polar\":{\"angularaxis\":{\"gridcolor\":\"white\",\"linecolor\":\"white\",\"ticks\":\"\"},\"bgcolor\":\"#E5ECF6\",\"radialaxis\":{\"gridcolor\":\"white\",\"linecolor\":\"white\",\"ticks\":\"\"}},\"scene\":{\"xaxis\":{\"backgroundcolor\":\"#E5ECF6\",\"gridcolor\":\"white\",\"gridwidth\":2,\"linecolor\":\"white\",\"showbackground\":true,\"ticks\":\"\",\"zerolinecolor\":\"white\"},\"yaxis\":{\"backgroundcolor\":\"#E5ECF6\",\"gridcolor\":\"white\",\"gridwidth\":2,\"linecolor\":\"white\",\"showbackground\":true,\"ticks\":\"\",\"zerolinecolor\":\"white\"},\"zaxis\":{\"backgroundcolor\":\"#E5ECF6\",\"gridcolor\":\"white\",\"gridwidth\":2,\"linecolor\":\"white\",\"showbackground\":true,\"ticks\":\"\",\"zerolinecolor\":\"white\"}},\"shapedefaults\":{\"line\":{\"color\":\"#2a3f5f\"}},\"ternary\":{\"aaxis\":{\"gridcolor\":\"white\",\"linecolor\":\"white\",\"ticks\":\"\"},\"baxis\":{\"gridcolor\":\"white\",\"linecolor\":\"white\",\"ticks\":\"\"},\"bgcolor\":\"#E5ECF6\",\"caxis\":{\"gridcolor\":\"white\",\"linecolor\":\"white\",\"ticks\":\"\"}},\"title\":{\"x\":0.05},\"xaxis\":{\"automargin\":true,\"gridcolor\":\"white\",\"linecolor\":\"white\",\"ticks\":\"\",\"title\":{\"standoff\":15},\"zerolinecolor\":\"white\",\"zerolinewidth\":2},\"yaxis\":{\"automargin\":true,\"gridcolor\":\"white\",\"linecolor\":\"white\",\"ticks\":\"\",\"title\":{\"standoff\":15},\"zerolinecolor\":\"white\",\"zerolinewidth\":2}}},\"geo\":{\"domain\":{\"x\":[0.0,1.0],\"y\":[0.0,1.0]},\"center\":{}},\"coloraxis\":{\"colorbar\":{\"title\":{\"text\":\"count\"}},\"colorscale\":[[0.0,\"#0d0887\"],[0.1111111111111111,\"#46039f\"],[0.2222222222222222,\"#7201a8\"],[0.3333333333333333,\"#9c179e\"],[0.4444444444444444,\"#bd3786\"],[0.5555555555555556,\"#d8576b\"],[0.6666666666666666,\"#ed7953\"],[0.7777777777777778,\"#fb9f3a\"],[0.8888888888888888,\"#fdca26\"],[1.0,\"#f0f921\"]]},\"legend\":{\"tracegroupgap\":0},\"title\":{\"text\":\"Number of Tweets per Location\"}},                        {\"responsive\": true}                    ).then(function(){\n",
              "                            \n",
              "var gd = document.getElementById('1c330ddc-e071-4299-856a-c102bee515a8');\n",
              "var x = new MutationObserver(function (mutations, observer) {{\n",
              "        var display = window.getComputedStyle(gd).display;\n",
              "        if (!display || display === 'none') {{\n",
              "            console.log([gd, 'removed!']);\n",
              "            Plotly.purge(gd);\n",
              "            observer.disconnect();\n",
              "        }}\n",
              "}});\n",
              "\n",
              "// Listen for the removal of the full notebook cells\n",
              "var notebookContainer = gd.closest('#notebook-container');\n",
              "if (notebookContainer) {{\n",
              "    x.observe(notebookContainer, {childList: true});\n",
              "}}\n",
              "\n",
              "// Listen for the clearing of the current output cell\n",
              "var outputEl = gd.closest('.output');\n",
              "if (outputEl) {{\n",
              "    x.observe(outputEl, {childList: true});\n",
              "}}\n",
              "\n",
              "                        })                };                            </script>        </div>\n",
              "</body>\n",
              "</html>"
            ]
          },
          "metadata": {}
        }
      ]
    },
    {
      "cell_type": "markdown",
      "source": [
        "## Sentiment Analysis"
      ],
      "metadata": {
        "id": "P2upNHPbUqGv"
      }
    },
    {
      "cell_type": "code",
      "source": [],
      "metadata": {
        "id": "w3FpcObrTc2Q"
      },
      "execution_count": null,
      "outputs": []
    }
  ],
  "metadata": {
    "colab": {
      "provenance": [],
      "authorship_tag": "ABX9TyMByQlU45DjISXvIrXwb5Sz",
      "include_colab_link": true
    },
    "kernelspec": {
      "display_name": "Python 3",
      "name": "python3"
    },
    "language_info": {
      "name": "python"
    }
  },
  "nbformat": 4,
  "nbformat_minor": 0
}